{
 "cells": [
  {
   "cell_type": "code",
   "execution_count": 1,
   "metadata": {},
   "outputs": [],
   "source": [
    "import matplotlib.pyplot as plt\n",
    "%matplotlib inline\n",
    "import numpy as np\n",
    "import pandas as pd\n",
    "from sklearn.ensemble import RandomForestClassifier, AdaBoostClassifier, GradientBoostingClassifier, ExtraTreesClassifier, VotingClassifier\n",
    "from sklearn.discriminant_analysis import LinearDiscriminantAnalysis\n",
    "from sklearn.linear_model import LogisticRegression\n",
    "from sklearn.neighbors import KNeighborsClassifier\n",
    "from sklearn.tree import DecisionTreeClassifier\n",
    "from sklearn.neural_network import MLPClassifier\n",
    "from sklearn.svm import SVC\n",
    "from sklearn.model_selection import GridSearchCV, cross_val_score, KFold\n",
    "from sklearn.preprocessing import LabelEncoder, MinMaxScaler\n",
    "from sklearn.metrics import accuracy_score\n",
    "import seaborn as sns\n",
    "sns.set_style('whitegrid')\n",
    "import re\n",
    "from collections import Counter"
   ]
  },
  {
   "cell_type": "code",
   "execution_count": 2,
   "metadata": {},
   "outputs": [],
   "source": [
    "#Import the training data\n",
    "train_data = pd.read_csv('titanic_train.csv',\n",
    "                        delimiter = ',',\n",
    "                        index_col=None,\n",
    "                        engine='python')"
   ]
  },
  {
   "cell_type": "code",
   "execution_count": 3,
   "metadata": {},
   "outputs": [
    {
     "data": {
      "text/html": [
       "<div>\n",
       "<style>\n",
       "    .dataframe thead tr:only-child th {\n",
       "        text-align: right;\n",
       "    }\n",
       "\n",
       "    .dataframe thead th {\n",
       "        text-align: left;\n",
       "    }\n",
       "\n",
       "    .dataframe tbody tr th {\n",
       "        vertical-align: top;\n",
       "    }\n",
       "</style>\n",
       "<table border=\"1\" class=\"dataframe\">\n",
       "  <thead>\n",
       "    <tr style=\"text-align: right;\">\n",
       "      <th></th>\n",
       "      <th>PassengerId</th>\n",
       "      <th>Survived</th>\n",
       "      <th>Pclass</th>\n",
       "      <th>Name</th>\n",
       "      <th>Sex</th>\n",
       "      <th>Age</th>\n",
       "      <th>SibSp</th>\n",
       "      <th>Parch</th>\n",
       "      <th>Ticket</th>\n",
       "      <th>Fare</th>\n",
       "      <th>Cabin</th>\n",
       "      <th>Embarked</th>\n",
       "    </tr>\n",
       "  </thead>\n",
       "  <tbody>\n",
       "    <tr>\n",
       "      <th>0</th>\n",
       "      <td>1</td>\n",
       "      <td>0</td>\n",
       "      <td>3</td>\n",
       "      <td>Braund, Mr. Owen Harris</td>\n",
       "      <td>male</td>\n",
       "      <td>22.0</td>\n",
       "      <td>1</td>\n",
       "      <td>0</td>\n",
       "      <td>A/5 21171</td>\n",
       "      <td>7.2500</td>\n",
       "      <td>NaN</td>\n",
       "      <td>S</td>\n",
       "    </tr>\n",
       "    <tr>\n",
       "      <th>1</th>\n",
       "      <td>2</td>\n",
       "      <td>1</td>\n",
       "      <td>1</td>\n",
       "      <td>Cumings, Mrs. John Bradley (Florence Briggs Th...</td>\n",
       "      <td>female</td>\n",
       "      <td>38.0</td>\n",
       "      <td>1</td>\n",
       "      <td>0</td>\n",
       "      <td>PC 17599</td>\n",
       "      <td>71.2833</td>\n",
       "      <td>C85</td>\n",
       "      <td>C</td>\n",
       "    </tr>\n",
       "    <tr>\n",
       "      <th>2</th>\n",
       "      <td>3</td>\n",
       "      <td>1</td>\n",
       "      <td>3</td>\n",
       "      <td>Heikkinen, Miss. Laina</td>\n",
       "      <td>female</td>\n",
       "      <td>26.0</td>\n",
       "      <td>0</td>\n",
       "      <td>0</td>\n",
       "      <td>STON/O2. 3101282</td>\n",
       "      <td>7.9250</td>\n",
       "      <td>NaN</td>\n",
       "      <td>S</td>\n",
       "    </tr>\n",
       "    <tr>\n",
       "      <th>3</th>\n",
       "      <td>4</td>\n",
       "      <td>1</td>\n",
       "      <td>1</td>\n",
       "      <td>Futrelle, Mrs. Jacques Heath (Lily May Peel)</td>\n",
       "      <td>female</td>\n",
       "      <td>35.0</td>\n",
       "      <td>1</td>\n",
       "      <td>0</td>\n",
       "      <td>113803</td>\n",
       "      <td>53.1000</td>\n",
       "      <td>C123</td>\n",
       "      <td>S</td>\n",
       "    </tr>\n",
       "    <tr>\n",
       "      <th>4</th>\n",
       "      <td>5</td>\n",
       "      <td>0</td>\n",
       "      <td>3</td>\n",
       "      <td>Allen, Mr. William Henry</td>\n",
       "      <td>male</td>\n",
       "      <td>35.0</td>\n",
       "      <td>0</td>\n",
       "      <td>0</td>\n",
       "      <td>373450</td>\n",
       "      <td>8.0500</td>\n",
       "      <td>NaN</td>\n",
       "      <td>S</td>\n",
       "    </tr>\n",
       "  </tbody>\n",
       "</table>\n",
       "</div>"
      ],
      "text/plain": [
       "   PassengerId  Survived  Pclass  \\\n",
       "0            1         0       3   \n",
       "1            2         1       1   \n",
       "2            3         1       3   \n",
       "3            4         1       1   \n",
       "4            5         0       3   \n",
       "\n",
       "                                                Name     Sex   Age  SibSp  \\\n",
       "0                            Braund, Mr. Owen Harris    male  22.0      1   \n",
       "1  Cumings, Mrs. John Bradley (Florence Briggs Th...  female  38.0      1   \n",
       "2                             Heikkinen, Miss. Laina  female  26.0      0   \n",
       "3       Futrelle, Mrs. Jacques Heath (Lily May Peel)  female  35.0      1   \n",
       "4                           Allen, Mr. William Henry    male  35.0      0   \n",
       "\n",
       "   Parch            Ticket     Fare Cabin Embarked  \n",
       "0      0         A/5 21171   7.2500   NaN        S  \n",
       "1      0          PC 17599  71.2833   C85        C  \n",
       "2      0  STON/O2. 3101282   7.9250   NaN        S  \n",
       "3      0            113803  53.1000  C123        S  \n",
       "4      0            373450   8.0500   NaN        S  "
      ]
     },
     "execution_count": 3,
     "metadata": {},
     "output_type": "execute_result"
    }
   ],
   "source": [
    "train_data.head()"
   ]
  },
  {
   "cell_type": "code",
   "execution_count": 4,
   "metadata": {},
   "outputs": [
    {
     "data": {
      "text/plain": [
       "PassengerId    891\n",
       "Survived       891\n",
       "Pclass         891\n",
       "Name           891\n",
       "Sex            891\n",
       "Age            714\n",
       "SibSp          891\n",
       "Parch          891\n",
       "Ticket         891\n",
       "Fare           891\n",
       "Cabin          204\n",
       "Embarked       889\n",
       "dtype: int64"
      ]
     },
     "execution_count": 4,
     "metadata": {},
     "output_type": "execute_result"
    }
   ],
   "source": [
    "train_data.count()"
   ]
  },
  {
   "cell_type": "code",
   "execution_count": 5,
   "metadata": {},
   "outputs": [
    {
     "data": {
      "text/html": [
       "<div>\n",
       "<style>\n",
       "    .dataframe thead tr:only-child th {\n",
       "        text-align: right;\n",
       "    }\n",
       "\n",
       "    .dataframe thead th {\n",
       "        text-align: left;\n",
       "    }\n",
       "\n",
       "    .dataframe tbody tr th {\n",
       "        vertical-align: top;\n",
       "    }\n",
       "</style>\n",
       "<table border=\"1\" class=\"dataframe\">\n",
       "  <thead>\n",
       "    <tr style=\"text-align: right;\">\n",
       "      <th></th>\n",
       "      <th>PassengerId</th>\n",
       "      <th>Survived</th>\n",
       "      <th>Pclass</th>\n",
       "      <th>Name</th>\n",
       "      <th>Sex</th>\n",
       "      <th>Age</th>\n",
       "      <th>SibSp</th>\n",
       "      <th>Parch</th>\n",
       "      <th>Ticket</th>\n",
       "      <th>Fare</th>\n",
       "      <th>Cabin</th>\n",
       "      <th>Embarked</th>\n",
       "    </tr>\n",
       "  </thead>\n",
       "  <tbody>\n",
       "    <tr>\n",
       "      <th>27</th>\n",
       "      <td>28</td>\n",
       "      <td>0</td>\n",
       "      <td>1</td>\n",
       "      <td>Fortune, Mr. Charles Alexander</td>\n",
       "      <td>male</td>\n",
       "      <td>19.0</td>\n",
       "      <td>3</td>\n",
       "      <td>2</td>\n",
       "      <td>19950</td>\n",
       "      <td>263.00</td>\n",
       "      <td>C23 C25 C27</td>\n",
       "      <td>S</td>\n",
       "    </tr>\n",
       "    <tr>\n",
       "      <th>88</th>\n",
       "      <td>89</td>\n",
       "      <td>1</td>\n",
       "      <td>1</td>\n",
       "      <td>Fortune, Miss. Mabel Helen</td>\n",
       "      <td>female</td>\n",
       "      <td>23.0</td>\n",
       "      <td>3</td>\n",
       "      <td>2</td>\n",
       "      <td>19950</td>\n",
       "      <td>263.00</td>\n",
       "      <td>C23 C25 C27</td>\n",
       "      <td>S</td>\n",
       "    </tr>\n",
       "    <tr>\n",
       "      <th>159</th>\n",
       "      <td>160</td>\n",
       "      <td>0</td>\n",
       "      <td>3</td>\n",
       "      <td>Sage, Master. Thomas Henry</td>\n",
       "      <td>male</td>\n",
       "      <td>NaN</td>\n",
       "      <td>8</td>\n",
       "      <td>2</td>\n",
       "      <td>CA. 2343</td>\n",
       "      <td>69.55</td>\n",
       "      <td>NaN</td>\n",
       "      <td>S</td>\n",
       "    </tr>\n",
       "    <tr>\n",
       "      <th>180</th>\n",
       "      <td>181</td>\n",
       "      <td>0</td>\n",
       "      <td>3</td>\n",
       "      <td>Sage, Miss. Constance Gladys</td>\n",
       "      <td>female</td>\n",
       "      <td>NaN</td>\n",
       "      <td>8</td>\n",
       "      <td>2</td>\n",
       "      <td>CA. 2343</td>\n",
       "      <td>69.55</td>\n",
       "      <td>NaN</td>\n",
       "      <td>S</td>\n",
       "    </tr>\n",
       "    <tr>\n",
       "      <th>201</th>\n",
       "      <td>202</td>\n",
       "      <td>0</td>\n",
       "      <td>3</td>\n",
       "      <td>Sage, Mr. Frederick</td>\n",
       "      <td>male</td>\n",
       "      <td>NaN</td>\n",
       "      <td>8</td>\n",
       "      <td>2</td>\n",
       "      <td>CA. 2343</td>\n",
       "      <td>69.55</td>\n",
       "      <td>NaN</td>\n",
       "      <td>S</td>\n",
       "    </tr>\n",
       "    <tr>\n",
       "      <th>324</th>\n",
       "      <td>325</td>\n",
       "      <td>0</td>\n",
       "      <td>3</td>\n",
       "      <td>Sage, Mr. George John Jr</td>\n",
       "      <td>male</td>\n",
       "      <td>NaN</td>\n",
       "      <td>8</td>\n",
       "      <td>2</td>\n",
       "      <td>CA. 2343</td>\n",
       "      <td>69.55</td>\n",
       "      <td>NaN</td>\n",
       "      <td>S</td>\n",
       "    </tr>\n",
       "    <tr>\n",
       "      <th>341</th>\n",
       "      <td>342</td>\n",
       "      <td>1</td>\n",
       "      <td>1</td>\n",
       "      <td>Fortune, Miss. Alice Elizabeth</td>\n",
       "      <td>female</td>\n",
       "      <td>24.0</td>\n",
       "      <td>3</td>\n",
       "      <td>2</td>\n",
       "      <td>19950</td>\n",
       "      <td>263.00</td>\n",
       "      <td>C23 C25 C27</td>\n",
       "      <td>S</td>\n",
       "    </tr>\n",
       "    <tr>\n",
       "      <th>792</th>\n",
       "      <td>793</td>\n",
       "      <td>0</td>\n",
       "      <td>3</td>\n",
       "      <td>Sage, Miss. Stella Anna</td>\n",
       "      <td>female</td>\n",
       "      <td>NaN</td>\n",
       "      <td>8</td>\n",
       "      <td>2</td>\n",
       "      <td>CA. 2343</td>\n",
       "      <td>69.55</td>\n",
       "      <td>NaN</td>\n",
       "      <td>S</td>\n",
       "    </tr>\n",
       "    <tr>\n",
       "      <th>846</th>\n",
       "      <td>847</td>\n",
       "      <td>0</td>\n",
       "      <td>3</td>\n",
       "      <td>Sage, Mr. Douglas Bullen</td>\n",
       "      <td>male</td>\n",
       "      <td>NaN</td>\n",
       "      <td>8</td>\n",
       "      <td>2</td>\n",
       "      <td>CA. 2343</td>\n",
       "      <td>69.55</td>\n",
       "      <td>NaN</td>\n",
       "      <td>S</td>\n",
       "    </tr>\n",
       "    <tr>\n",
       "      <th>863</th>\n",
       "      <td>864</td>\n",
       "      <td>0</td>\n",
       "      <td>3</td>\n",
       "      <td>Sage, Miss. Dorothy Edith \"Dolly\"</td>\n",
       "      <td>female</td>\n",
       "      <td>NaN</td>\n",
       "      <td>8</td>\n",
       "      <td>2</td>\n",
       "      <td>CA. 2343</td>\n",
       "      <td>69.55</td>\n",
       "      <td>NaN</td>\n",
       "      <td>S</td>\n",
       "    </tr>\n",
       "  </tbody>\n",
       "</table>\n",
       "</div>"
      ],
      "text/plain": [
       "     PassengerId  Survived  Pclass                               Name     Sex  \\\n",
       "27            28         0       1     Fortune, Mr. Charles Alexander    male   \n",
       "88            89         1       1         Fortune, Miss. Mabel Helen  female   \n",
       "159          160         0       3         Sage, Master. Thomas Henry    male   \n",
       "180          181         0       3       Sage, Miss. Constance Gladys  female   \n",
       "201          202         0       3                Sage, Mr. Frederick    male   \n",
       "324          325         0       3           Sage, Mr. George John Jr    male   \n",
       "341          342         1       1     Fortune, Miss. Alice Elizabeth  female   \n",
       "792          793         0       3            Sage, Miss. Stella Anna  female   \n",
       "846          847         0       3           Sage, Mr. Douglas Bullen    male   \n",
       "863          864         0       3  Sage, Miss. Dorothy Edith \"Dolly\"  female   \n",
       "\n",
       "      Age  SibSp  Parch    Ticket    Fare        Cabin Embarked  \n",
       "27   19.0      3      2     19950  263.00  C23 C25 C27        S  \n",
       "88   23.0      3      2     19950  263.00  C23 C25 C27        S  \n",
       "159   NaN      8      2  CA. 2343   69.55          NaN        S  \n",
       "180   NaN      8      2  CA. 2343   69.55          NaN        S  \n",
       "201   NaN      8      2  CA. 2343   69.55          NaN        S  \n",
       "324   NaN      8      2  CA. 2343   69.55          NaN        S  \n",
       "341  24.0      3      2     19950  263.00  C23 C25 C27        S  \n",
       "792   NaN      8      2  CA. 2343   69.55          NaN        S  \n",
       "846   NaN      8      2  CA. 2343   69.55          NaN        S  \n",
       "863   NaN      8      2  CA. 2343   69.55          NaN        S  "
      ]
     },
     "execution_count": 5,
     "metadata": {},
     "output_type": "execute_result"
    }
   ],
   "source": [
    "#Locate outliers in training data\n",
    "def locate_outliers(n,input_df,features):\n",
    "    outlier_indices = list()\n",
    "    for col in features:\n",
    "        q1 = np.percentile(input_df[col],25)\n",
    "        q3 = np.percentile(input_df[col],75)\n",
    "        iqr = q3 - q1\n",
    "        outlier_step = iqr * 1.5\n",
    "        outlier_list_col = input_df[(input_df[col] < q1 - outlier_step) | (input_df[col] > q3 + outlier_step )].index\n",
    "        \n",
    "        # append the found outlier indices for col to the list of outlier indices \n",
    "        outlier_indices.extend(outlier_list_col)\n",
    "        \n",
    "    # select observations containing more than 2 outliers\n",
    "    outlier_indices = Counter(outlier_indices)        \n",
    "    multiple_outliers = list( k for k, z in outlier_indices.items() if z > n )\n",
    "    \n",
    "    return multiple_outliers   \n",
    "\n",
    "outliers = locate_outliers(2,train_data,['SibSp','Parch','Fare'])\n",
    "train_data.loc[outliers]"
   ]
  },
  {
   "cell_type": "code",
   "execution_count": 6,
   "metadata": {},
   "outputs": [],
   "source": [
    "#Drop all outlier rows\n",
    "train_data.drop(outliers,inplace=True, axis=0)"
   ]
  },
  {
   "cell_type": "code",
   "execution_count": 7,
   "metadata": {},
   "outputs": [],
   "source": [
    "#Import the test data\n",
    "test_data = pd.read_csv('test.csv', \n",
    "                        delimiter=',',\n",
    "                        na_values=['NA'],\n",
    "                        index_col=None,\n",
    "                        engine='python')"
   ]
  },
  {
   "cell_type": "code",
   "execution_count": 8,
   "metadata": {},
   "outputs": [],
   "source": [
    "#Combine test and training data\n",
    "train_len = len(train_data)\n",
    "joined_data = pd.concat([train_data, test_data],axis=0,).reset_index(drop=True)"
   ]
  },
  {
   "cell_type": "code",
   "execution_count": 9,
   "metadata": {},
   "outputs": [
    {
     "data": {
      "text/plain": [
       "0.38592508513053347"
      ]
     },
     "execution_count": 9,
     "metadata": {},
     "output_type": "execute_result"
    }
   ],
   "source": [
    "#Baseline Mean\n",
    "train_data['Survived'].mean()"
   ]
  },
  {
   "cell_type": "code",
   "execution_count": 10,
   "metadata": {},
   "outputs": [
    {
     "data": {
      "text/html": [
       "<div>\n",
       "<style>\n",
       "    .dataframe thead tr:only-child th {\n",
       "        text-align: right;\n",
       "    }\n",
       "\n",
       "    .dataframe thead th {\n",
       "        text-align: left;\n",
       "    }\n",
       "\n",
       "    .dataframe tbody tr th {\n",
       "        vertical-align: top;\n",
       "    }\n",
       "</style>\n",
       "<table border=\"1\" class=\"dataframe\">\n",
       "  <thead>\n",
       "    <tr style=\"text-align: right;\">\n",
       "      <th></th>\n",
       "      <th></th>\n",
       "      <th>Survived</th>\n",
       "      <th>Age</th>\n",
       "      <th>Fare</th>\n",
       "    </tr>\n",
       "    <tr>\n",
       "      <th>Pclass</th>\n",
       "      <th>Sex</th>\n",
       "      <th></th>\n",
       "      <th></th>\n",
       "      <th></th>\n",
       "    </tr>\n",
       "  </thead>\n",
       "  <tbody>\n",
       "    <tr>\n",
       "      <th rowspan=\"2\" valign=\"top\">1</th>\n",
       "      <th>female</th>\n",
       "      <td>0.967391</td>\n",
       "      <td>34.879518</td>\n",
       "      <td>102.715489</td>\n",
       "    </tr>\n",
       "    <tr>\n",
       "      <th>male</th>\n",
       "      <td>0.371901</td>\n",
       "      <td>41.504200</td>\n",
       "      <td>65.608161</td>\n",
       "    </tr>\n",
       "    <tr>\n",
       "      <th rowspan=\"2\" valign=\"top\">2</th>\n",
       "      <th>female</th>\n",
       "      <td>0.921053</td>\n",
       "      <td>28.722973</td>\n",
       "      <td>21.970121</td>\n",
       "    </tr>\n",
       "    <tr>\n",
       "      <th>male</th>\n",
       "      <td>0.157407</td>\n",
       "      <td>30.740707</td>\n",
       "      <td>19.741782</td>\n",
       "    </tr>\n",
       "    <tr>\n",
       "      <th rowspan=\"2\" valign=\"top\">3</th>\n",
       "      <th>female</th>\n",
       "      <td>0.510638</td>\n",
       "      <td>21.750000</td>\n",
       "      <td>14.981976</td>\n",
       "    </tr>\n",
       "    <tr>\n",
       "      <th>male</th>\n",
       "      <td>0.137026</td>\n",
       "      <td>26.507589</td>\n",
       "      <td>11.998211</td>\n",
       "    </tr>\n",
       "  </tbody>\n",
       "</table>\n",
       "</div>"
      ],
      "text/plain": [
       "               Survived        Age        Fare\n",
       "Pclass Sex                                    \n",
       "1      female  0.967391  34.879518  102.715489\n",
       "       male    0.371901  41.504200   65.608161\n",
       "2      female  0.921053  28.722973   21.970121\n",
       "       male    0.157407  30.740707   19.741782\n",
       "3      female  0.510638  21.750000   14.981976\n",
       "       male    0.137026  26.507589   11.998211"
      ]
     },
     "execution_count": 10,
     "metadata": {},
     "output_type": "execute_result"
    }
   ],
   "source": [
    "#Look at data by Age, Fare, Passenger Class, Sex\n",
    "train_data[['Survived','Age','Fare','Pclass','Sex']].groupby(['Pclass','Sex']).mean()"
   ]
  },
  {
   "cell_type": "code",
   "execution_count": 11,
   "metadata": {},
   "outputs": [
    {
     "data": {
      "text/plain": [
       "<matplotlib.axes._subplots.AxesSubplot at 0x10a040ba8>"
      ]
     },
     "execution_count": 11,
     "metadata": {},
     "output_type": "execute_result"
    },
    {
     "data": {
      "image/png": "iVBORw0KGgoAAAANSUhEUgAAAsoAAAEBCAYAAABhUYOqAAAABHNCSVQICAgIfAhkiAAAAAlwSFlz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\n",
      "text/plain": [
       "<matplotlib.figure.Figure at 0x10a03c550>"
      ]
     },
     "metadata": {},
     "output_type": "display_data"
    }
   ],
   "source": [
    "class_sex_grouping = train_data.groupby(['Pclass','Sex']).mean()\n",
    "fig, ax = plt.subplots(figsize=(12,4))\n",
    "sns.barplot(x=\"Pclass\",\n",
    "            y=\"Survived\",\n",
    "            hue ='Sex',\n",
    "            palette = 'Set2',\n",
    "            data=class_sex_grouping.reset_index())"
   ]
  },
  {
   "cell_type": "code",
   "execution_count": 12,
   "metadata": {},
   "outputs": [
    {
     "data": {
      "image/png": "iVBORw0KGgoAAAANSUhEUgAAAs0AAAEdCAYAAAD3mVozAAAABHNCSVQICAgIfAhkiAAAAAlwSFlz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\nZgAAAMAKSjMAAABgBaUZAAAAsOL/AeKfPspbk6WxAAAAAElFTkSuQmCC\n",
      "text/plain": [
       "<matplotlib.figure.Figure at 0x10a087278>"
      ]
     },
     "metadata": {},
     "output_type": "display_data"
    },
    {
     "data": {
      "image/png": "iVBORw0KGgoAAAANSUhEUgAAAsoAAAEdCAYAAAAVRUFKAAAABHNCSVQICAgIfAhkiAAAAAlwSFlz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\nFmUiIiIiIgEsykREREREAv4X8ZbWVpkXINMAAAAASUVORK5CYII=\n",
      "text/plain": [
       "<matplotlib.figure.Figure at 0x10a08a780>"
      ]
     },
     "metadata": {},
     "output_type": "display_data"
    }
   ],
   "source": [
    "#Analyze Titles\n",
    "fig, ax = plt.subplots(figsize=(12,4))\n",
    "plt.xticks(rotation=30)\n",
    "sns.countplot(x=train_data['Name'].map(lambda x: re.compile(\", (.*?)\\.\").findall(x)[0]),data=train_data)\n",
    "plt.show()\n",
    "\n",
    "fig, ax = plt.subplots(figsize=(12,4))\n",
    "plt.xticks(rotation=30)\n",
    "sns.barplot(x=train_data['Name'].map(lambda x: re.compile(\", (.*?)\\.\").findall(x)[0]),\n",
    "            y='Survived',\n",
    "            data=train_data)\n",
    "plt.show()"
   ]
  },
  {
   "cell_type": "code",
   "execution_count": 13,
   "metadata": {
    "scrolled": true
   },
   "outputs": [
    {
     "name": "stderr",
     "output_type": "stream",
     "text": [
      "/usr/local/lib/python3.6/site-packages/ipykernel_launcher.py:3: SettingWithCopyWarning: \n",
      "A value is trying to be set on a copy of a slice from a DataFrame.\n",
      "Try using .loc[row_indexer,col_indexer] = value instead\n",
      "\n",
      "See the caveats in the documentation: http://pandas.pydata.org/pandas-docs/stable/indexing.html#indexing-view-versus-copy\n",
      "  This is separate from the ipykernel package so we can avoid doing imports until\n"
     ]
    },
    {
     "data": {
      "text/plain": [
       "<matplotlib.axes._subplots.AxesSubplot at 0x10a51c978>"
      ]
     },
     "execution_count": 13,
     "metadata": {},
     "output_type": "execute_result"
    },
    {
     "data": {
      "image/png": "iVBORw0KGgoAAAANSUhEUgAAAsoAAAEBCAYAAABhUYOqAAAABHNCSVQICAgIfAhkiAAAAAlwSFlz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\nogwAAAAYoCgDAAAABv4HJOxORqVFw60AAAAASUVORK5CYII=\n",
      "text/plain": [
       "<matplotlib.figure.Figure at 0x10a03cd68>"
      ]
     },
     "metadata": {},
     "output_type": "display_data"
    }
   ],
   "source": [
    "#Analyze family sizes\n",
    "family_size = train_data[['Survived','Parch','SibSp']]\n",
    "family_size['family_size'] = family_size['Parch']+family_size['SibSp'] +1\n",
    "fig, ax = plt.subplots(figsize=(12,4))\n",
    "sns.barplot(x='family_size',y='Survived',palette='Set2',data=family_size)"
   ]
  },
  {
   "cell_type": "code",
   "execution_count": 14,
   "metadata": {},
   "outputs": [
    {
     "data": {
      "text/plain": [
       "<matplotlib.axes._subplots.AxesSubplot at 0x10a380cc0>"
      ]
     },
     "execution_count": 14,
     "metadata": {},
     "output_type": "execute_result"
    },
    {
     "data": {
      "image/png": "iVBORw0KGgoAAAANSUhEUgAABGMAAADQCAYAAACjvKzMAAAABHNCSVQICAgIfAhkiAAAAAlwSFlz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\nYYyIiIiIiIiIyCT6/wHCdNsyL7hiAAAAAABJRU5ErkJggg==\n",
      "text/plain": [
       "<matplotlib.figure.Figure at 0x10a0a0be0>"
      ]
     },
     "metadata": {},
     "output_type": "display_data"
    },
    {
     "data": {
      "image/png": "iVBORw0KGgoAAAANSUhEUgAABBkAAAEBCAYAAAA9wn2jAAAABHNCSVQICAgIfAhkiAAAAAlwSFlz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\nNjWfoL7mAAAAAElFTkSuQmCC\n",
      "text/plain": [
       "<matplotlib.figure.Figure at 0x10a6435f8>"
      ]
     },
     "metadata": {},
     "output_type": "display_data"
    }
   ],
   "source": [
    "#Density by age\n",
    "ages = sns.FacetGrid(train_data, hue='Survived', aspect = 5)\n",
    "ages.map(sns.kdeplot,'Age', shade = True)\n",
    "ages.set(xlim=(0,train_data['Age'].max()))\n",
    "ages.add_legend()\n",
    "#Age and Survival Rate\n",
    "fig, axis1 = plt.subplots(1,1,figsize=(18,4))\n",
    "average_age = train_data[['Age','Survived']].groupby(['Age'], as_index=False).mean()\n",
    "average_age['Age'] =average_age['Age'].astype(int)\n",
    "sns.barplot(x='Age',y='Survived', errwidth =0,data=average_age)"
   ]
  },
  {
   "cell_type": "code",
   "execution_count": 15,
   "metadata": {},
   "outputs": [
    {
     "data": {
      "text/plain": [
       "1601            7\n",
       "347082          7\n",
       "3101295         6\n",
       "CA 2144         6\n",
       "347088          6\n",
       "S.O.C. 14879    5\n",
       "382652          5\n",
       "347077          4\n",
       "349909          4\n",
       "113781          4\n",
       "Name: Ticket, dtype: int64"
      ]
     },
     "execution_count": 15,
     "metadata": {},
     "output_type": "execute_result"
    }
   ],
   "source": [
    "#Analyze ticket numbers\n",
    "train_data['Ticket'].value_counts().head(10)"
   ]
  },
  {
   "cell_type": "code",
   "execution_count": 16,
   "metadata": {},
   "outputs": [
    {
     "data": {
      "text/html": [
       "<div>\n",
       "<style>\n",
       "    .dataframe thead tr:only-child th {\n",
       "        text-align: right;\n",
       "    }\n",
       "\n",
       "    .dataframe thead th {\n",
       "        text-align: left;\n",
       "    }\n",
       "\n",
       "    .dataframe tbody tr th {\n",
       "        vertical-align: top;\n",
       "    }\n",
       "</style>\n",
       "<table border=\"1\" class=\"dataframe\">\n",
       "  <thead>\n",
       "    <tr style=\"text-align: right;\">\n",
       "      <th></th>\n",
       "      <th></th>\n",
       "    </tr>\n",
       "    <tr>\n",
       "      <th>Ticket</th>\n",
       "      <th>Name</th>\n",
       "    </tr>\n",
       "  </thead>\n",
       "  <tbody>\n",
       "    <tr>\n",
       "      <th rowspan=\"3\" valign=\"top\">110152</th>\n",
       "      <th>Cherry, Miss. Gladys</th>\n",
       "    </tr>\n",
       "    <tr>\n",
       "      <th>Maioni, Miss. Roberta</th>\n",
       "    </tr>\n",
       "    <tr>\n",
       "      <th>Rothes, the Countess. of (Lucy Noel Martha Dyer-Edwards)</th>\n",
       "    </tr>\n",
       "    <tr>\n",
       "      <th rowspan=\"3\" valign=\"top\">110413</th>\n",
       "      <th>Taussig, Miss. Ruth</th>\n",
       "    </tr>\n",
       "    <tr>\n",
       "      <th>Taussig, Mr. Emil</th>\n",
       "    </tr>\n",
       "    <tr>\n",
       "      <th>Taussig, Mrs. Emil (Tillie Mandelbaum)</th>\n",
       "    </tr>\n",
       "    <tr>\n",
       "      <th rowspan=\"2\" valign=\"top\">110465</th>\n",
       "      <th>Clifford, Mr. George Quincy</th>\n",
       "    </tr>\n",
       "    <tr>\n",
       "      <th>Porter, Mr. Walter Chamberlain</th>\n",
       "    </tr>\n",
       "    <tr>\n",
       "      <th>110564</th>\n",
       "      <th>Bjornstrom-Steffansson, Mr. Mauritz Hakan</th>\n",
       "    </tr>\n",
       "    <tr>\n",
       "      <th>110813</th>\n",
       "      <th>Warren, Mrs. Frank Manley (Anna Sophia Atkinson)</th>\n",
       "    </tr>\n",
       "    <tr>\n",
       "      <th>111240</th>\n",
       "      <th>Van der hoef, Mr. Wyckoff</th>\n",
       "    </tr>\n",
       "    <tr>\n",
       "      <th>111320</th>\n",
       "      <th>Gee, Mr. Arthur H</th>\n",
       "    </tr>\n",
       "    <tr>\n",
       "      <th rowspan=\"2\" valign=\"top\">111361</th>\n",
       "      <th>Hippach, Miss. Jean Gertrude</th>\n",
       "    </tr>\n",
       "    <tr>\n",
       "      <th>Hippach, Mrs. Louis Albert (Ida Sophia Fischer)</th>\n",
       "    </tr>\n",
       "    <tr>\n",
       "      <th>111369</th>\n",
       "      <th>Behr, Mr. Karl Howell</th>\n",
       "    </tr>\n",
       "  </tbody>\n",
       "</table>\n",
       "</div>"
      ],
      "text/plain": [
       "Empty DataFrame\n",
       "Columns: []\n",
       "Index: [(110152, Cherry, Miss. Gladys), (110152, Maioni, Miss. Roberta), (110152, Rothes, the Countess. of (Lucy Noel Martha Dyer-Edwards)), (110413, Taussig, Miss. Ruth), (110413, Taussig, Mr. Emil), (110413, Taussig, Mrs. Emil (Tillie Mandelbaum)), (110465, Clifford, Mr. George Quincy), (110465, Porter, Mr. Walter Chamberlain), (110564, Bjornstrom-Steffansson, Mr. Mauritz Hakan), (110813, Warren, Mrs. Frank Manley (Anna Sophia Atkinson)), (111240, Van der hoef, Mr. Wyckoff), (111320, Gee, Mr. Arthur H), (111361, Hippach, Miss. Jean Gertrude), (111361, Hippach, Mrs. Louis Albert (Ida Sophia Fischer)), (111369, Behr, Mr. Karl Howell)]"
      ]
     },
     "execution_count": 16,
     "metadata": {},
     "output_type": "execute_result"
    }
   ],
   "source": [
    "#See groups of people by ticket number\n",
    "Same_ticket = train_data[['Ticket','Name']].groupby(['Ticket','Name']).count()\n",
    "Same_ticket.head(15)"
   ]
  },
  {
   "cell_type": "code",
   "execution_count": 17,
   "metadata": {},
   "outputs": [
    {
     "data": {
      "image/png": "iVBORw0KGgoAAAANSUhEUgAABBsAAAEECAYAAABp+jwtAAAABHNCSVQICAgIfAhkiAAAAAlwSFlz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\n",
      "text/plain": [
       "<matplotlib.figure.Figure at 0x10a903f98>"
      ]
     },
     "metadata": {},
     "output_type": "display_data"
    },
    {
     "data": {
      "image/png": "iVBORw0KGgoAAAANSUhEUgAABBwAAAEBCAYAAADb67bnAAAABHNCSVQICAgIfAhkiAAAAAlwSFlz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\nAAFHwwEAAAAAAAQcDQcAAAAAABBw/w8jLPllGFarmQAAAABJRU5ErkJggg==\n",
      "text/plain": [
       "<matplotlib.figure.Figure at 0x10a903940>"
      ]
     },
     "metadata": {},
     "output_type": "display_data"
    }
   ],
   "source": [
    "#Look at fares by passenger class\n",
    "fig, axis1 = plt.subplots(1,1,figsize=(18,4))\n",
    "fare_class = sns.boxplot(x='Pclass',y='Fare',palette='Set3',data=train_data)\n",
    "fare_class.set(ylim=(0,300))\n",
    "plt.show()\n",
    "#Fare and Survival Rate\n",
    "fig, axis1 = plt.subplots(1,1,figsize=(18,4))\n",
    "average_fare = train_data[['Fare','Survived']].groupby(['Fare'], as_index=False).mean()\n",
    "average_fare['Fare'] =average_fare['Fare'].astype(int)\n",
    "sns.barplot(x='Fare',y='Survived', data=average_fare,errwidth=0)\n",
    "plt.show()"
   ]
  },
  {
   "cell_type": "code",
   "execution_count": 18,
   "metadata": {},
   "outputs": [
    {
     "data": {
      "image/png": "iVBORw0KGgoAAAANSUhEUgAAAs0AAAEBCAYAAACDjZjTAAAABHNCSVQICAgIfAhkiAAAAAlwSFlz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\nAADA4P8C0GJw/a/mRM4AAAAASUVORK5CYII=\n",
      "text/plain": [
       "<matplotlib.figure.Figure at 0x10a507518>"
      ]
     },
     "metadata": {},
     "output_type": "display_data"
    },
    {
     "data": {
      "image/png": "iVBORw0KGgoAAAANSUhEUgAAAsoAAAEBCAYAAABhUYOqAAAABHNCSVQICAgIfAhkiAAAAAlwSFlz\nAAALEgAACxIB0t1+/AAAGx5JREFUeJzt3X9wVPXB7/HPJmGBZmMEUX4IQX6lBEYbgj+Sa1MGeFK4\noVoHhERtdG4F1A7YNlw74FCgKcZI/FUYRC8iAexIghaHyvM4FoomUIOy04BAgEgrCeXG8BQk7iaw\nSXbvH15XtxzCNjmHs7u8X/+c3XPCOZ98sxs+fDl7jiMQCAQEAAAAIESc3QEAAACASERRBgAAAAxQ\nlAEAAAADFGUAAADAAEUZAAAAMEBRBgAAAAwk2B3gUtxut90RAAAAcBUYP3684fqILcrSpUMDAAAA\nZuhscpZTLwAAAAADFGUAAADAAEUZAAAAMEBRBgAAAAxQlAEAAAADlhXl/fv3q6Cg4KL1f/7znzVj\nxgzl5eWpoqLCqsMDAAAA3WLJ5eHWrl2rbdu2qXfv3iHr29ra9PTTT+vNN99U7969dd9992nSpEnq\n16+fFTEAAACALrNkRjklJUWrVq26aP3x48eVkpKi5ORkOZ1OjR8/Xh9//LEVEQAAAP4t1dXVKiws\nVHV1td1RECEsmVGeMmWKTp48edF6j8ejpKSk4PPExER5PJ5L7qe2ttaKeAAAABd5+eWX1dDQoDNn\nzig5OdnuOIgAV/TOfC6XS16vN/jc6/WGFOd/lZaWdiViAQAAyO/3B5d0kKtHxNyZb8SIETpx4oS+\n+OIL+Xw+7du3T+PGjbuSEQAAAICwXJEZ5T/+8Y9qaWlRXl6eFi5cqIcffliBQEAzZsxQ//79r0QE\nAAAA4N9iWVEePHhw8PJvd911V3D9pEmTNGnSJKsOCwAAAJiCG44AAAAABijKAAAAgAGKMgAAAGCA\nogwAAAAYoCgDAAAABijKAAAAgAGKMgAAAGCAogwAAAAYoCgDAAAABijKAAAAgAGKMgAAAGCAogwA\nAAAYoCgDAAAABijKAHAZ1dXVKiwsVHV1td1RAABXEEUZAC6jrKxM+/fvV1lZmd1Roh7/6AAQTRLs\nDgAAka6lpSVkia4rKytTXV2dWlpalJmZaXccAOgUM8oAgCuGf3QAiCYUZQAAAMAARRkAAAAwQFEG\nAAAADFCUAQAAAAMUZQAAAMAARRkAAAAwQFEGAAAADFCUAQAAAAMUZUQEbmsLAAAiDUUZEaGsrEz7\n9+9XWVmZ3VEAIGowyQBYK8HuAIDEbW0BoCvKyspUV1enlpYWZWZm2h0HiDnMKAMAEKWYZACsRVEG\nAAAADFCUAQAAAAMUZQAAAMAARRkAAAAwYElR9vv9WrJkifLy8lRQUKATJ06EbH/ttdc0ffp0zZgx\nQ3/605+siAAAAAB0iyWXh9uxY4d8Pp/Ky8tVU1OjkpISrVmzRpLU3NysjRs36r333lNra6vuuece\n5eTkWBEDAAAA6DJLZpTdbreys7MlSenp6Tp48GBwW+/evTVo0CC1traqtbVVDofDiggAAABAt1gy\no+zxeORyuYLP4+Pj1d7eroSErw43cOBATZs2TR0dHXrkkUesiAAAAAB0iyVF2eVyyev1Bp/7/f5g\nSa6srFRTU5N27twpSXr44YeVkZGhW2655aL91NbWWhEPEcjn8wWX/NwRaXh9moexNBfjaS7GE//K\nkqKckZGhXbt2KTc3VzU1NUpNTQ1uS05OVq9eveR0OuVwOJSUlKTm5mbD/aSlpVkRDxHI6XQGl/zc\nEWl4fZqHsTQX42kuxvPq5Ha7L7nNkqKck5OjPXv2KD8/X4FAQMXFxVq/fr1SUlI0efJk/eUvf9Gs\nWbMUFxenjIwM3XnnnVbEAAAAALrMkqIcFxenoqKikHUjRowIPn788cf1+OOPW3FoAAAAwBTccAQA\nAAAwQFEGAAAADFCUAQAAAAMUZQAAAMCAJR/mAwCzfLrmA7sjqO1ca3BpZ56Rj02w7dgAcDViRhkA\nAAAwwIwyAFxFNu2da+vxvzzfFFzanaXgjv9j6/EBRD6KMiRJTWt+ZevxO879d3Bpd5YbHlth6/EB\nAEBk4NQLAAAAwABFGQAAADBAUQYAAAAMUJQBAAAAAxRlIAZVV1ersLBQ1dXVdkcBACBqcdULIAaV\nlZWprq5OLS0tyszMtDsOAABRiRllIAa1tLSELAEAwL+PogwAAAAYoCgDAAAABijKAAAAgAGKMgAA\nAGCAogwAAAAYoCgDAAAABijKAAAAgAGKchdx5zMAAIDYxp35uog7nwEAAMQ2ZpS7iDufAQAAxDaK\nMgAAAGCAogwAAAAYoCgDAAAABijKAAAAgAGKMgAAAGCAogwAAAAYoCgDAAAABijKAAAAgAGKMgAA\nAGDAkltY+/1+LVu2TEePHpXT6dTy5cs1dOjQ4PYPPvhAq1evViAQ0NixY7V06VI5HA4roiBK9E6I\nD1kCQKQ79VGu3RHUcd73/5enbM0z6Pb/tO3YgJU6Lcoff/zxJbfddtttl9y2Y8cO+Xw+lZeXq6am\nRiUlJVqzZo0kyePxqLS0VBs3blTfvn21du1anT17Vn379u3it4BYcO/YQdp+rFHTUgfYHQUAAEDS\nZYryG2+8IUmqr69XW1ubbr75Zh0+fFiJiYnatGnTJf+c2+1Wdna2JCk9PV0HDx4MbvvrX/+q1NRU\nPfPMM2poaNDMmTMpyVDGwGRlDEy2OwZgqFdCz5AlAODq0GlRfv755yVJc+fO1UsvvaSEhAR1dHRo\n7ty5ne7U4/HI5XIFn8fHx6u9vV0JCQk6e/as9u7dq7ffflvf+c539MADDyg9PV3Dhg27aD+1tbVd\n+Z6uCJ/PF1xGcs5wXWd3gAgSCz/PWHp99rA7gKS7x07Qe8c+1A9Ts2zNEe0/y0jT3fHkn/bfiJXX\nZiz97oQ5wjpH+fTp08HHHR0dOnPmTKdf73K55PV6g8/9fr8SEr461LXXXqubb75Z119/vSTp1ltv\nVW1trWFRTktLCyeeLZxOZ3AZyTnD1fS+3QkiRyz8PGPp9fnp+012R9DNA1N188BUu2OY8rPct9eE\nIN3Qo6cjZGmn7o7nqY9MChIDov33zNdi6Xcnwud2uy+5LayifO+992ratGlKTU1VXV2d5syZ0+nX\nZ2RkaNeuXcrNzVVNTY1SU7/5C2bs2LE6duyYzpw5o2uuuUb79+/XrFmzwvxWgMj30uu77Y6gc1+e\nDy7tzPOzn3zftmMjMqX/R18dqvpCY7OvtTsKAFxWWEX5gQce0NSpU1VfX6+hQ4de9pzinJwc7dmz\nR/n5+QoEAiouLtb69euVkpKiyZMna8GCBZo9e7YkaerUqSFFGgAQu4aMTtSQ0Yl2xwCAsIRVlOvq\n6rR06VI1Nzfr7rvv1qhRozRx4sRLfn1cXJyKiopC1o0YMSL4eNq0aZo2bVoXIwMAAADWC+uGI8uX\nL9fTTz+tPn366N5779WqVauszgUAAADYKuw78w0dOlQOh0N9+/ZVYiL/bQYAAIDYFlZRTk5O1ubN\nm9Xa2qrt27frmmuusToXAAAAYKuwinJxcbFOnjypPn366ODBg3rqqaeszgUAAADYKqwP861cuVKz\nZs3SyJEjrc4DAAAARISwivL48eNVWloqr9er6dOnKzc3V7169bI6GwAAAGCbsE69mDJlil555RU9\n//zzqqqq0ve/z00EAAAAENvCmlE+deqUtm7dqvfee09jxozR2rVrrc4FAAAA2Cqsojx//nzNnDlT\nv//97+VyuazOBAAAANiu06Lc2NioAQMGqLS0VA6HQ6dPn9bp06clScOGDbsiAQEAAAA7dFqU169f\nr0WLFmnp0qUh6x0OhzZu3GhpMAAAAMBOnRblRYsWSZIeeughTZo0SXFxYd/IDwAAAIhqYTXfDz/8\nUD/+8Y/1wgsvqKGhwepMAAAAgO3C+jDfr3/9a/l8Pu3cuVNFRUVqa2tTWVmZxdEAAAAA+4R9LsWB\nAwe0e/du/fOf/1RWVpaVmQAAAADbhTWjnJubq9GjR2vmzJl66qmnrM4EAAAA2C6sojx9+nTNnj3b\n6iwAAOAq9WnVersjqK21Obi0M8/I7P9l27ERKqxTLyorK9XR0WF1FgAAACBihDWjfPbsWWVnZ2vw\n4MFyOBxyOBzavHmz1dkAAAAA24RVlF9++WWrcwAAAAARJayivHXr1ovWzZs3z/QwAAAAQKQIqyj3\n69dPkhQIBHT48GH5/X5LQwEAAAB2C6so5+fnhzznChgAAACIdWEV5b///e/Bx01NTTp16pRlgcK1\n4L822nr8/275Mri0O8tz//NBW48PAAAQi8IqykuWLJHD4dC5c+d07bXXauHChVbnAgAAAGzV6XWU\nDx06pHvuuUfr1q3TT37yEzU1NamxsVFtbW1XKh8AAABgi06L8ooVK1RSUiKn06kXX3xRr776qt56\n6y2tXbv2SuUDAAAAbNHpqRd+v1+jR4/W559/rtbWVo0dO1aSFBcX1g39ANgkoYczZAkAAP59nTbe\nhISvenRVVZWysrIkSW1tbfJ6vdYnA9BlY8ZN0vUDbtKYcZPsjgIAQNTqdEY5KytL+fn5amxs1Jo1\na1RfX6+ioiLl5uZeqXwAumDgkFQNHJJqdwwAAKJap0V57ty5mjx5slwul/r376/6+nrl5eUpJyfn\nSuUDAAAAbHHZy8ONGDEi+DglJUUpKSmWBgIAAAAiAZ/KAwAAAAxYUpT9fr+WLFmivLw8FRQU6MSJ\nE4ZfM3v2bL3xxhtWRAAAAAC6xZKivGPHDvl8PpWXl2vBggUqKSm56GtefPFFNTc3W3F4AAAAoNss\nKcput1vZ2dmSpPT0dB08eDBk+7vvviuHwxH8GgAAACDSXPbDfF3h8XjkcrmCz+Pj49Xe3q6EhAQd\nO3ZM77zzjlauXKnVq1d3up/a2lor4sUcM8bpOhNyxAped+YxYyx7mJAjVvDaNFd3xzPZpByxgPe6\nuXivRw5LirLL5Qq5KYnf7w/evOTtt9/W559/roceekj/+Mc/1KNHD9144436wQ9+cNF+0tLSLn2Q\nzz42PXe06nScwtT0fvdzxIrujucu926TkkQ/M16bn77fZEKS2GDGeO7ba0KQGNHd8Tz1kUlBYoAp\n7/WqahOSxAYzxhPhc7vdl9xmSVHOyMjQrl27lJubq5qaGqWmfnPjg1/96lfBx6tWrVK/fv0MSzIA\nAABgJ0uKck5Ojvbs2aP8/HwFAgEVFxdr/fr1SklJ0eTJk604JAAAAGAqS4pyXFycioqKQtZ9+8Yl\nX5s/f74VhwcA4KrQq2foEoC5uOEIAABRakZOvNKGOzQjJ97uKEBMsmRGGQAAWC99dLzSR1OSAasw\nowwAAAAYoCgDAAAABijKAAAAgAGKMgAAAGCAogwAAAAYoCgDAADAVNXV1SosLFR1dXTfmpzLwwEA\nAMBUZWVlqqurU0tLizIzM+2O02XMKAMAAMBULS0tIctoRVEGAAAADFCUAQAAAAMUZQAAAMAARRkA\nAAAwQFEGAAAADFCUAQAAAANcRxkAACDGvPPOO7Ye3+v1Bpd2Z/nRj37U5T/LjDIAAABggKIMAAAA\nGKAoAwAAAAYoygAAAIABijIAAABggKIMAAAAGKAoAwAAwFROpzNkGa0oygAAADBVVlaWBg8erKys\nLLujdAs3HAEAAICphg8fruHDh9sdo9uYUQYAAAAMUJQBAAAAAxRlAAAAwABFGQAAADBAUQYAAAAM\nUJQBAAAAAxRlAAAAwABFGQAAADBgyQ1H/H6/li1bpqNHj8rpdGr58uUaOnRocHtZWZm2b98uSZow\nYYLmzZtnRQwAAACgyyyZUd6xY4d8Pp/Ky8u1YMEClZSUBLc1NDRo27Zt2rx5syoqKrR7924dOXLE\nihgAAABAl1kyo+x2u5WdnS1JSk9P18GDB4PbBgwYoFdffVXx8fGSpPb2dvXs2dOKGAAAAECXWVKU\nPR6PXC5X8Hl8fLza29uVkJCgHj16qG/fvgoEAlqxYoXGjBmjYcOGGe6ntrbWinimiHMmhCztZMY4\nXWdCjlgRya+7aGPGWPYwIUes4LVpru6OZ7JJOWIB73Vz8V43V3fG05KW53K55PV6g8/9fr8SEr45\n1IULF/Tkk08qMTFRS5cuveR+0tLSLn2Qzz42JWtXDfgf43R63yFdf+tYW3NIlxmnMDW93/0csaK7\n47nLvdukJNHPjNfmp+83mZAkNpgxnvv2mhAkRnR3PE99ZFKQGGDKe72q2oQkscGM8Tx+/LgJSWLD\n5cbT7XZfcpsl5yhnZGSosrJSklRTU6PU1NTgtkAgoJ/97Gf67ne/q6KiouApGNEmecRgjcybouQR\ng+2OAgAAAAtYMqOck5OjPXv2KD8/X4FAQMXFxVq/fr1SUlLk9/v10UcfyefzqaqqSpJUWFiocePG\nWREFAAAA6BJLinJcXJyKiopC1o0YMSL4+JNPPrHisAAAAIBpuOEIAAAAYICiDAAAABigKAMAAAAG\nKMoAAACAAYoyAAAAYICiDAAAABigKAMAAAAGKMoAAACAAYoyAAAAYICiDAAAABigKAMAAAAGKMoA\nAACAAYoyAAAAYICiDAAAABigKAMAAAAGKMoAAACAAYoyAAAAYICiDAAAABigKAMAAAAGKMoAAACA\nAYoyAAAAYICiDAAAABigKAMAAAAGKMoAAACAAYoyAAAAYICiDAAAABigKAMAAAAGKMoAAACAAYoy\nAAAAYICiDAAAABigKAMAAAAGKMoAAACAAYoyAAAAYMCSouz3+7VkyRLl5eWpoKBAJ06cCNleUVGh\n6dOna9asWdq1a5cVEQAAAIBuSbBipzt27JDP51N5eblqampUUlKiNWvWSJJOnz6tTZs26a233tKF\nCxd0//33684775TT6bQiCgAAANAllswou91uZWdnS5LS09N18ODB4LYDBw5o3LhxcjqdSkpKUkpK\nio4cOWJFDAAAAKDLLJlR9ng8crlcwefx8fFqb29XQkKCPB6PkpKSgtsSExPl8XgM9+N2uy95jPtv\nGGte4CjX2TiF7fa87u8jRjR0czzvSOttUpLoZ85r03X5r7lKmDGeYxIeMSFJbOj2eMb/1pwgMeD/\nmvFe/84t3d9HN/3vhd9kOGdjDjPe6wMHDjQhSWzoznhaUpRdLpe8Xm/wud/vV0JCguE2r9cbUpy/\nNn78eCuiAQAAAGGx5NSLjIwMVVZWSpJqamqUmpoa3HbLLbfI7XbrwoUL+vLLL3X8+PGQ7QAAAEAk\ncAQCgYDZO/X7/Vq2bJmOHTumQCCg4uJiVVZWKiUlRZMnT1ZFRYXKy8sVCAT0yCOPaMqUKWZHAAAA\nALrFkqJ8tVi7dq02bNignTt3qmfPnnbHiVp79+7VL37xC40cOVKBQEA+n0/Lli3TmDFj7I4Wlerq\n6lRaWqrW1la1tLRowoQJmj9/vhwOh93Ros6/vjbb29v14IMPKjc31+5oUenb4/m1Pn36aOXKlTam\nil4nT57U3XffrbFjv/nMzh133KF58+bZmCo6NTQ0qLS0VI2NjerVq5d69eqlJ554QqNGjbI7Gmxm\nyTnKV4tt27YpNzdX27dv1/Tp0+2OE9UyMzP1wgsvSJJ2796t3/3ud3rllVdsThV9mpubVVhYqFWr\nVummm25SR0eHfv7zn2vz5s2677777I4Xlb792vR6vSooKNCwYcOUlpZmc7Lo9O3xRPeNHDlSmzZt\nsjtGVGttbdVjjz2m3/72txo3bpykr67QVVRUxNiCotxVe/fuVUpKivLz8/XEE09QlE3U3Nysvn37\n2h0jKu3cuVN33HGHbrrpJklfXXHmmWeeUY8ePewNFiMSExOVl5end999l6IMxIhdu3YpMzMzWJKl\nrz5PtXHjRhtTRbc//OEP+uCDD3T+/HnV19drzpw5UduTKMpdtGXLFs2cOVPDhw+X0+nU/v379b3v\nfc/uWFGrurpaBQUF8vl8OnLkiFavXm13pKjU1NSkIUOGhKxLTEy0KU1suu6663To0CG7Y0Str9/r\nX5swYYJmz55tY6Lo9umnn4aM57PPPqv+/fvbmCj6nDx5UikpKcHnjz32mDwej5qamrRhwwYNGDDA\nxnTRy+PxaN26dfrss8/06KOPUpSvJufOnVNlZaXOnDmjTZs2yePx6PXXX6cod8O3/zv2b3/7m/Lz\n81VZWalevXrZnCy6DBo0SIcPHw5Z19DQoMbGRt122202pYotp06d4i/ObuDUC3Nx6kX3DRgwIOTG\naF/fSXjWrFlqb2+3K1bUGz16tKSvrufs8/lsTtN1llweLtZt27ZNM2bM0GuvvaZ169apoqJCe/bs\n0ZkzZ+yOFhP69etnd4SoNXHiRFVVVam+vl6S1NbWppKSEh07dszmZLHB4/Foy5Ytmjp1qt1RAJhk\n8uTJ+vDDD1VTUxNcd+LECTU2NvIh6G6IlbFjRrkLtmzZohUrVgSf9+7dWz/84Q9VUVGhRx991MZk\n0evr/46Ni4uT1+vVwoULmU3uApfLpZKSEi1evFiBQEBer1cTJ07U/fffb3e0qPXt12ZHR4fmz5+v\n4cOH2x0rav3rqRfSV1cQ4v0OuyQmJmrNmjV67rnn9Oyzz6q9vV3x8fFatGiRbrzxRrvjwWZcHg4A\nAAAwwKkXAAAAgAGKMgAAAGCAogwAAAAYoCgDAAAABijKAAAAgAGKMgBEsLq6Os2dO1cFBQWaMWOG\nVq5cqUtdrGjhwoWqrKwMWXf69GktW7bsCiQFgNhDUQaACNXc3KzCwkI9+eST2rRpkyoqKnTs2DFt\n3rw57H1cf/31FGUA6CKuowwAEWrr1q06dOiQFi9eHFzn9XrVo0cP/eY3v1FjY6Oampo0adIk/fKX\nv9TChQv1xRdfqLW1VR0dHXrqqacUHx+vwsJCVVRU6K677tLtt9+uo0ePyuFw6KWXXlJSUpKN3yEA\nRDZmlAEgQjU1NWnIkCEh6xITE9XU1KT09HStW7dOb775ZsgMc0ZGhjZs2KA5c+aotLQ05M96vV5N\nmzZNr7/+um644YaLTtMAAITiFtYAEKEGDRqkw4cPh6xraGhQY2OjPvnkE1VXV8vlcsnn8wW333rr\nrZKkcePGacWKFRftc8yYMZKkgQMH6sKFCxamB4Dox4wyAESoiRMnqqqqSvX19ZKktrY2lZSUqLa2\nVklJSXruuef005/+VOfPnw9+wO/AgQOSpH379mnUqFEX7dPhcFy5bwAAohwzygAQoVwul0pKSrR4\n8WIFAgF5vV5NnDhRWVlZWrBggWpqauR0OjV06FA1NTVJkvbv368HH3xQDodDxcXFl7xCBgDg8vgw\nHwAAAGCAUy8AAAAAAxRlAAAAwABFGQAAADBAUQYAAAAMUJQBAAAAAxRlAAAAwABFGQAAADBAUQYA\nAAAM/D+MwpWiuMEV0AAAAABJRU5ErkJggg==\n",
      "text/plain": [
       "<matplotlib.figure.Figure at 0x10a507b38>"
      ]
     },
     "metadata": {},
     "output_type": "display_data"
    }
   ],
   "source": [
    "# Analyze Cabins - 'n' is NA\n",
    "fig, ax = plt.subplots(figsize=(12,4))\n",
    "sns.countplot(x=train_data['Cabin'].astype(str).str[0],\n",
    "              order=['A','B','C','D','E','F','G','n'],\n",
    "              data=train_data,\n",
    "              palette='Set2')\n",
    "plt.show()\n",
    "fig, ax = plt.subplots(figsize=(12,4))\n",
    "fig1 = sns.barplot(x=train_data['Cabin'].astype(str).str[0],\n",
    "            y='Survived',\n",
    "            order=['A','B','C','D','E','F','G','n'],\n",
    "            palette='Set2',\n",
    "            data=train_data)\n",
    "plt.show()\n",
    "\n"
   ]
  },
  {
   "cell_type": "code",
   "execution_count": 19,
   "metadata": {},
   "outputs": [
    {
     "data": {
      "image/png": "iVBORw0KGgoAAAANSUhEUgAAAs0AAAEBCAYAAACDjZjTAAAABHNCSVQICAgIfAhkiAAAAAlwSFlz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\nAAAAYEA0AwAAAAb/B84sfyc6VU2NAAAAAElFTkSuQmCC\n",
      "text/plain": [
       "<matplotlib.figure.Figure at 0x10a8f4630>"
      ]
     },
     "metadata": {},
     "output_type": "display_data"
    },
    {
     "data": {
      "image/png": "iVBORw0KGgoAAAANSUhEUgAAAsoAAAEBCAYAAABhUYOqAAAABHNCSVQICAgIfAhkiAAAAAlwSFlz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\n",
      "text/plain": [
       "<matplotlib.figure.Figure at 0x10a8f4c88>"
      ]
     },
     "metadata": {},
     "output_type": "display_data"
    }
   ],
   "source": [
    "#Survival Rate by Embarked\n",
    "fig, ax = plt.subplots(figsize=(12,4))\n",
    "sns.countplot(x='Embarked',data=train_data,palette='Set2')\n",
    "plt.show()\n",
    "\n",
    "fig, ax = plt.subplots(figsize=(12,4))\n",
    "sns.barplot(x='Embarked',y='Survived',data=train_data,palette='Set2')\n",
    "plt.show()\n",
    "\n"
   ]
  },
  {
   "cell_type": "code",
   "execution_count": 20,
   "metadata": {},
   "outputs": [
    {
     "data": {
      "text/plain": [
       "Age            1299\n",
       "Cabin           292\n",
       "Embarked       1299\n",
       "Fare           1299\n",
       "Name           1299\n",
       "Parch          1299\n",
       "PassengerId    1299\n",
       "Pclass         1299\n",
       "Sex            1299\n",
       "SibSp          1299\n",
       "Survived        881\n",
       "Ticket         1299\n",
       "Title          1299\n",
       "dtype: int64"
      ]
     },
     "execution_count": 20,
     "metadata": {},
     "output_type": "execute_result"
    }
   ],
   "source": [
    "#Fill in missing age, fare, and embarked values\n",
    "def fill_missing(input_df):\n",
    "    #Fill missing ages based on person's title\n",
    "    #Create title column\n",
    "    input_df['Title'] = input_df['Name'].map(lambda x: re.compile(\", (.*?)\\.\").findall(x)[0])\n",
    "    age_title = input_df[['Title','Age']].groupby('Title').median()\n",
    "    #Map titles and median ages to dictionary\n",
    "    title_dict = age_title.reset_index().set_index('Title')['Age'].to_dict()\n",
    "    #Map dictionary to NA values in 'Age'\n",
    "    input_df['Age']=input_df['Age'].fillna(input_df['Title'].map(title_dict))\n",
    "    \n",
    "    #Fill in missing fare based on passenger class\n",
    "    fare_class = input_df[['Pclass','Fare']].groupby('Pclass').median()\n",
    "    fare_dict = fare_class.reset_index().set_index('Pclass')['Fare'].to_dict()\n",
    "    input_df['Fare']=input_df['Fare'].fillna(input_df['Pclass'].map(fare_dict))\n",
    "    \n",
    "    #Filling missing embarked by most frequent\n",
    "    input_df['Embarked'].fillna('S',inplace=True)\n",
    "    \n",
    "    return input_df\n",
    "joined_data = fill_missing(joined_data)\n",
    "joined_data.count()"
   ]
  },
  {
   "cell_type": "code",
   "execution_count": 21,
   "metadata": {},
   "outputs": [],
   "source": [
    "# Create a function to preprocess the data\n",
    "# Use label encoder to convert string data to integers\n",
    "# Drop non-categorical data that would be difficult to encode\n",
    "def process_df(input_df):\n",
    "    \n",
    "    #Encode Sex\n",
    "    le = LabelEncoder()\n",
    "    input_df['Sex'] = le.fit_transform(input_df['Sex'])\n",
    "    \n",
    "    #Take Cabin letters for deck and fill NAs\n",
    "    input_df['Cabin'] = pd.Series(1 if not pd.isnull(cabin) else 0 for cabin in input_df['Cabin'])\n",
    "    \n",
    "    #Find Shared Tickets\n",
    "    input_df['Shared Ticket'] = np.where(input_df.groupby('Ticket')['Name'].transform('count') > 1, 1 , 0)\n",
    "    \n",
    "    #Fill Embarked missing data and encode                                \n",
    "    embarked_dummies = pd.get_dummies(input_df['Embarked'],prefix='Embarked')\n",
    "    input_df = pd.concat([input_df,embarked_dummies],axis=1)\n",
    "    input_df.drop(['Embarked'],axis=1,inplace=True)\n",
    "    \n",
    "    # Create Family Size from SibSp and Parch\n",
    "    input_df['Family_Size'] = input_df['SibSp'] + input_df['Parch'] + 1\n",
    "    \n",
    "    return input_df\n",
    "\n",
    "joined_data = process_df(joined_data)\n"
   ]
  },
  {
   "cell_type": "code",
   "execution_count": 22,
   "metadata": {},
   "outputs": [],
   "source": [
    "def separate_titles(input_df):\n",
    "    rare = ['Lady','the Countess','Dona','Jonkheer','Don','Capt','Sir','Major','Col','Dr','Rev']\n",
    "    women = ['Mrs','Miss','Ms','Mme','Mlle']\n",
    "    input_df['Title']=input_df['Title'].replace(rare,'Rare')\n",
    "    input_df['Title']=input_df['Title'].replace(women,'Women')\n",
    "    input_df['Title']=input_df['Title'].replace('Master','Master')\n",
    "    input_df['Title']=input_df['Title'].replace('Mr','Mr')\n",
    "    \n",
    "    title_dummies = pd.get_dummies(input_df['Title'], prefix='Title')\n",
    "    input_df = pd.concat([input_df,title_dummies],axis=1)\n",
    "    return input_df\n",
    "joined_data = separate_titles(joined_data)"
   ]
  },
  {
   "cell_type": "code",
   "execution_count": 23,
   "metadata": {},
   "outputs": [
    {
     "data": {
      "text/html": [
       "<div>\n",
       "<style>\n",
       "    .dataframe thead tr:only-child th {\n",
       "        text-align: right;\n",
       "    }\n",
       "\n",
       "    .dataframe thead th {\n",
       "        text-align: left;\n",
       "    }\n",
       "\n",
       "    .dataframe tbody tr th {\n",
       "        vertical-align: top;\n",
       "    }\n",
       "</style>\n",
       "<table border=\"1\" class=\"dataframe\">\n",
       "  <thead>\n",
       "    <tr style=\"text-align: right;\">\n",
       "      <th></th>\n",
       "      <th>Age</th>\n",
       "      <th>Cabin</th>\n",
       "      <th>Fare</th>\n",
       "      <th>Name</th>\n",
       "      <th>Parch</th>\n",
       "      <th>PassengerId</th>\n",
       "      <th>Pclass</th>\n",
       "      <th>Sex</th>\n",
       "      <th>SibSp</th>\n",
       "      <th>Survived</th>\n",
       "      <th>...</th>\n",
       "      <th>Title</th>\n",
       "      <th>Shared Ticket</th>\n",
       "      <th>Embarked_C</th>\n",
       "      <th>Embarked_Q</th>\n",
       "      <th>Embarked_S</th>\n",
       "      <th>Family_Size</th>\n",
       "      <th>Title_Master</th>\n",
       "      <th>Title_Mr</th>\n",
       "      <th>Title_Rare</th>\n",
       "      <th>Title_Women</th>\n",
       "    </tr>\n",
       "  </thead>\n",
       "  <tbody>\n",
       "    <tr>\n",
       "      <th>0</th>\n",
       "      <td>22.0</td>\n",
       "      <td>0</td>\n",
       "      <td>7.2500</td>\n",
       "      <td>Braund, Mr. Owen Harris</td>\n",
       "      <td>0</td>\n",
       "      <td>1</td>\n",
       "      <td>3</td>\n",
       "      <td>1</td>\n",
       "      <td>1</td>\n",
       "      <td>0.0</td>\n",
       "      <td>...</td>\n",
       "      <td>Mr</td>\n",
       "      <td>0</td>\n",
       "      <td>0</td>\n",
       "      <td>0</td>\n",
       "      <td>1</td>\n",
       "      <td>2</td>\n",
       "      <td>0</td>\n",
       "      <td>1</td>\n",
       "      <td>0</td>\n",
       "      <td>0</td>\n",
       "    </tr>\n",
       "    <tr>\n",
       "      <th>1</th>\n",
       "      <td>38.0</td>\n",
       "      <td>1</td>\n",
       "      <td>71.2833</td>\n",
       "      <td>Cumings, Mrs. John Bradley (Florence Briggs Th...</td>\n",
       "      <td>0</td>\n",
       "      <td>2</td>\n",
       "      <td>1</td>\n",
       "      <td>0</td>\n",
       "      <td>1</td>\n",
       "      <td>1.0</td>\n",
       "      <td>...</td>\n",
       "      <td>Women</td>\n",
       "      <td>1</td>\n",
       "      <td>1</td>\n",
       "      <td>0</td>\n",
       "      <td>0</td>\n",
       "      <td>2</td>\n",
       "      <td>0</td>\n",
       "      <td>0</td>\n",
       "      <td>0</td>\n",
       "      <td>1</td>\n",
       "    </tr>\n",
       "    <tr>\n",
       "      <th>2</th>\n",
       "      <td>26.0</td>\n",
       "      <td>0</td>\n",
       "      <td>7.9250</td>\n",
       "      <td>Heikkinen, Miss. Laina</td>\n",
       "      <td>0</td>\n",
       "      <td>3</td>\n",
       "      <td>3</td>\n",
       "      <td>0</td>\n",
       "      <td>0</td>\n",
       "      <td>1.0</td>\n",
       "      <td>...</td>\n",
       "      <td>Women</td>\n",
       "      <td>0</td>\n",
       "      <td>0</td>\n",
       "      <td>0</td>\n",
       "      <td>1</td>\n",
       "      <td>1</td>\n",
       "      <td>0</td>\n",
       "      <td>0</td>\n",
       "      <td>0</td>\n",
       "      <td>1</td>\n",
       "    </tr>\n",
       "    <tr>\n",
       "      <th>3</th>\n",
       "      <td>35.0</td>\n",
       "      <td>1</td>\n",
       "      <td>53.1000</td>\n",
       "      <td>Futrelle, Mrs. Jacques Heath (Lily May Peel)</td>\n",
       "      <td>0</td>\n",
       "      <td>4</td>\n",
       "      <td>1</td>\n",
       "      <td>0</td>\n",
       "      <td>1</td>\n",
       "      <td>1.0</td>\n",
       "      <td>...</td>\n",
       "      <td>Women</td>\n",
       "      <td>1</td>\n",
       "      <td>0</td>\n",
       "      <td>0</td>\n",
       "      <td>1</td>\n",
       "      <td>2</td>\n",
       "      <td>0</td>\n",
       "      <td>0</td>\n",
       "      <td>0</td>\n",
       "      <td>1</td>\n",
       "    </tr>\n",
       "    <tr>\n",
       "      <th>4</th>\n",
       "      <td>35.0</td>\n",
       "      <td>0</td>\n",
       "      <td>8.0500</td>\n",
       "      <td>Allen, Mr. William Henry</td>\n",
       "      <td>0</td>\n",
       "      <td>5</td>\n",
       "      <td>3</td>\n",
       "      <td>1</td>\n",
       "      <td>0</td>\n",
       "      <td>0.0</td>\n",
       "      <td>...</td>\n",
       "      <td>Mr</td>\n",
       "      <td>0</td>\n",
       "      <td>0</td>\n",
       "      <td>0</td>\n",
       "      <td>1</td>\n",
       "      <td>1</td>\n",
       "      <td>0</td>\n",
       "      <td>1</td>\n",
       "      <td>0</td>\n",
       "      <td>0</td>\n",
       "    </tr>\n",
       "  </tbody>\n",
       "</table>\n",
       "<p>5 rows × 21 columns</p>\n",
       "</div>"
      ],
      "text/plain": [
       "    Age  Cabin     Fare                                               Name  \\\n",
       "0  22.0      0   7.2500                            Braund, Mr. Owen Harris   \n",
       "1  38.0      1  71.2833  Cumings, Mrs. John Bradley (Florence Briggs Th...   \n",
       "2  26.0      0   7.9250                             Heikkinen, Miss. Laina   \n",
       "3  35.0      1  53.1000       Futrelle, Mrs. Jacques Heath (Lily May Peel)   \n",
       "4  35.0      0   8.0500                           Allen, Mr. William Henry   \n",
       "\n",
       "   Parch  PassengerId  Pclass  Sex  SibSp  Survived     ...       Title  \\\n",
       "0      0            1       3    1      1       0.0     ...          Mr   \n",
       "1      0            2       1    0      1       1.0     ...       Women   \n",
       "2      0            3       3    0      0       1.0     ...       Women   \n",
       "3      0            4       1    0      1       1.0     ...       Women   \n",
       "4      0            5       3    1      0       0.0     ...          Mr   \n",
       "\n",
       "  Shared Ticket  Embarked_C  Embarked_Q  Embarked_S  Family_Size  \\\n",
       "0             0           0           0           1            2   \n",
       "1             1           1           0           0            2   \n",
       "2             0           0           0           1            1   \n",
       "3             1           0           0           1            2   \n",
       "4             0           0           0           1            1   \n",
       "\n",
       "   Title_Master  Title_Mr  Title_Rare  Title_Women  \n",
       "0             0         1           0            0  \n",
       "1             0         0           0            1  \n",
       "2             0         0           0            1  \n",
       "3             0         0           0            1  \n",
       "4             0         1           0            0  \n",
       "\n",
       "[5 rows x 21 columns]"
      ]
     },
     "execution_count": 23,
     "metadata": {},
     "output_type": "execute_result"
    }
   ],
   "source": [
    "joined_data.head()"
   ]
  },
  {
   "cell_type": "code",
   "execution_count": 24,
   "metadata": {},
   "outputs": [
    {
     "data": {
      "text/html": [
       "<div>\n",
       "<style>\n",
       "    .dataframe thead tr:only-child th {\n",
       "        text-align: right;\n",
       "    }\n",
       "\n",
       "    .dataframe thead th {\n",
       "        text-align: left;\n",
       "    }\n",
       "\n",
       "    .dataframe tbody tr th {\n",
       "        vertical-align: top;\n",
       "    }\n",
       "</style>\n",
       "<table border=\"1\" class=\"dataframe\">\n",
       "  <thead>\n",
       "    <tr style=\"text-align: right;\">\n",
       "      <th></th>\n",
       "      <th>Age</th>\n",
       "      <th>Cabin</th>\n",
       "      <th>Fare</th>\n",
       "      <th>PassengerId</th>\n",
       "      <th>Pclass</th>\n",
       "      <th>Sex</th>\n",
       "      <th>Survived</th>\n",
       "      <th>Shared Ticket</th>\n",
       "      <th>Embarked_C</th>\n",
       "      <th>Embarked_Q</th>\n",
       "      <th>Embarked_S</th>\n",
       "      <th>Family_Size</th>\n",
       "      <th>Title_Master</th>\n",
       "      <th>Title_Mr</th>\n",
       "      <th>Title_Rare</th>\n",
       "      <th>Title_Women</th>\n",
       "    </tr>\n",
       "  </thead>\n",
       "  <tbody>\n",
       "    <tr>\n",
       "      <th>0</th>\n",
       "      <td>22.0</td>\n",
       "      <td>0</td>\n",
       "      <td>7.2500</td>\n",
       "      <td>1</td>\n",
       "      <td>3</td>\n",
       "      <td>1</td>\n",
       "      <td>0.0</td>\n",
       "      <td>0</td>\n",
       "      <td>0</td>\n",
       "      <td>0</td>\n",
       "      <td>1</td>\n",
       "      <td>2</td>\n",
       "      <td>0</td>\n",
       "      <td>1</td>\n",
       "      <td>0</td>\n",
       "      <td>0</td>\n",
       "    </tr>\n",
       "    <tr>\n",
       "      <th>1</th>\n",
       "      <td>38.0</td>\n",
       "      <td>1</td>\n",
       "      <td>71.2833</td>\n",
       "      <td>2</td>\n",
       "      <td>1</td>\n",
       "      <td>0</td>\n",
       "      <td>1.0</td>\n",
       "      <td>1</td>\n",
       "      <td>1</td>\n",
       "      <td>0</td>\n",
       "      <td>0</td>\n",
       "      <td>2</td>\n",
       "      <td>0</td>\n",
       "      <td>0</td>\n",
       "      <td>0</td>\n",
       "      <td>1</td>\n",
       "    </tr>\n",
       "    <tr>\n",
       "      <th>2</th>\n",
       "      <td>26.0</td>\n",
       "      <td>0</td>\n",
       "      <td>7.9250</td>\n",
       "      <td>3</td>\n",
       "      <td>3</td>\n",
       "      <td>0</td>\n",
       "      <td>1.0</td>\n",
       "      <td>0</td>\n",
       "      <td>0</td>\n",
       "      <td>0</td>\n",
       "      <td>1</td>\n",
       "      <td>1</td>\n",
       "      <td>0</td>\n",
       "      <td>0</td>\n",
       "      <td>0</td>\n",
       "      <td>1</td>\n",
       "    </tr>\n",
       "    <tr>\n",
       "      <th>3</th>\n",
       "      <td>35.0</td>\n",
       "      <td>1</td>\n",
       "      <td>53.1000</td>\n",
       "      <td>4</td>\n",
       "      <td>1</td>\n",
       "      <td>0</td>\n",
       "      <td>1.0</td>\n",
       "      <td>1</td>\n",
       "      <td>0</td>\n",
       "      <td>0</td>\n",
       "      <td>1</td>\n",
       "      <td>2</td>\n",
       "      <td>0</td>\n",
       "      <td>0</td>\n",
       "      <td>0</td>\n",
       "      <td>1</td>\n",
       "    </tr>\n",
       "    <tr>\n",
       "      <th>4</th>\n",
       "      <td>35.0</td>\n",
       "      <td>0</td>\n",
       "      <td>8.0500</td>\n",
       "      <td>5</td>\n",
       "      <td>3</td>\n",
       "      <td>1</td>\n",
       "      <td>0.0</td>\n",
       "      <td>0</td>\n",
       "      <td>0</td>\n",
       "      <td>0</td>\n",
       "      <td>1</td>\n",
       "      <td>1</td>\n",
       "      <td>0</td>\n",
       "      <td>1</td>\n",
       "      <td>0</td>\n",
       "      <td>0</td>\n",
       "    </tr>\n",
       "  </tbody>\n",
       "</table>\n",
       "</div>"
      ],
      "text/plain": [
       "    Age  Cabin     Fare  PassengerId  Pclass  Sex  Survived  Shared Ticket  \\\n",
       "0  22.0      0   7.2500            1       3    1       0.0              0   \n",
       "1  38.0      1  71.2833            2       1    0       1.0              1   \n",
       "2  26.0      0   7.9250            3       3    0       1.0              0   \n",
       "3  35.0      1  53.1000            4       1    0       1.0              1   \n",
       "4  35.0      0   8.0500            5       3    1       0.0              0   \n",
       "\n",
       "   Embarked_C  Embarked_Q  Embarked_S  Family_Size  Title_Master  Title_Mr  \\\n",
       "0           0           0           1            2             0         1   \n",
       "1           1           0           0            2             0         0   \n",
       "2           0           0           1            1             0         0   \n",
       "3           0           0           1            2             0         0   \n",
       "4           0           0           1            1             0         1   \n",
       "\n",
       "   Title_Rare  Title_Women  \n",
       "0           0            0  \n",
       "1           0            1  \n",
       "2           0            1  \n",
       "3           0            1  \n",
       "4           0            0  "
      ]
     },
     "execution_count": 24,
     "metadata": {},
     "output_type": "execute_result"
    }
   ],
   "source": [
    "# drop extra columns\n",
    "def drop_extra(input_df):\n",
    "    input_df.drop(['SibSp',\n",
    "                       'Parch',\n",
    "                       'Name',\n",
    "                       'Ticket',\n",
    "                       'Title',\n",
    "                   ], axis=1,inplace=True)\n",
    "    return input_df\n",
    "joined_data=drop_extra(joined_data)\n",
    "joined_data.head()"
   ]
  },
  {
   "cell_type": "code",
   "execution_count": 25,
   "metadata": {},
   "outputs": [
    {
     "data": {
      "text/plain": [
       "<matplotlib.axes._subplots.AxesSubplot at 0x10a03cb70>"
      ]
     },
     "execution_count": 25,
     "metadata": {},
     "output_type": "execute_result"
    },
    {
     "data": {
      "image/png": "iVBORw0KGgoAAAANSUhEUgAAAowAAAI8CAYAAAB7+fqjAAAABHNCSVQICAgIfAhkiAAAAAlwSFlz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\nPyvXV/yBjRbhAAAAAElFTkSuQmCC\n",
      "text/plain": [
       "<matplotlib.figure.Figure at 0x10b854a90>"
      ]
     },
     "metadata": {},
     "output_type": "display_data"
    }
   ],
   "source": [
    "#Generate a correlation matrix between features\n",
    "x_corr = joined_data.corr()\n",
    "mask = np.zeros_like(x_corr, dtype=np.bool)\n",
    "mask[np.triu_indices_from(mask)] = True\n",
    "f, ax = plt.subplots(figsize=(11, 9))\n",
    "cmap = sns.diverging_palette(220, 10, as_cmap=True)\n",
    "sns.heatmap(x_corr, mask=mask, vmax=.5, cmap=cmap, center=0,\n",
    "            square=True, linewidths=.5)"
   ]
  },
  {
   "cell_type": "code",
   "execution_count": 26,
   "metadata": {},
   "outputs": [
    {
     "name": "stderr",
     "output_type": "stream",
     "text": [
      "/usr/local/lib/python3.6/site-packages/ipykernel_launcher.py:12: SettingWithCopyWarning: \n",
      "A value is trying to be set on a copy of a slice from a DataFrame\n",
      "\n",
      "See the caveats in the documentation: http://pandas.pydata.org/pandas-docs/stable/indexing.html#indexing-view-versus-copy\n",
      "  if sys.path[0] == '':\n"
     ]
    }
   ],
   "source": [
    "# Seperate test and train data, X and Y values\n",
    "processed_train_data = joined_data[:train_len]\n",
    "x_test = joined_data[train_len:]\n",
    "\n",
    "#Prepare training data for fit\n",
    "X = processed_train_data.drop(['Survived','PassengerId'], axis = 1)\n",
    "y = processed_train_data['Survived']\n",
    "\n",
    "#Create PassengerId set for test data\n",
    "IDtest = pd.DataFrame(x_test['PassengerId']).reset_index()\n",
    "IDtest.drop(['index'],axis=1,inplace=True)\n",
    "x_test.drop(['Survived','PassengerId'],axis=1,inplace=True)"
   ]
  },
  {
   "cell_type": "code",
   "execution_count": 27,
   "metadata": {},
   "outputs": [],
   "source": [
    "# Scale data between 0 and 1\n",
    "scaler = MinMaxScaler()\n",
    "X = scaler.fit_transform(X)\n",
    "x_test = scaler.transform(x_test)"
   ]
  },
  {
   "cell_type": "code",
   "execution_count": 28,
   "metadata": {},
   "outputs": [],
   "source": [
    "# Modeling step test differents algorithms \n",
    "# Cross validate model with Kfold stratified cross val\n",
    "kfold = KFold(n_splits=10,shuffle=True,random_state=0)\n",
    "\n",
    "random_state = None\n",
    "classifiers = []\n",
    "classifiers.append(SVC(random_state=random_state))\n",
    "classifiers.append(DecisionTreeClassifier(random_state=random_state))\n",
    "classifiers.append(AdaBoostClassifier(DecisionTreeClassifier(random_state=random_state),random_state=random_state,learning_rate=0.1))\n",
    "classifiers.append(RandomForestClassifier(random_state=random_state))\n",
    "classifiers.append(ExtraTreesClassifier(random_state=random_state))\n",
    "classifiers.append(GradientBoostingClassifier(random_state=random_state))\n",
    "classifiers.append(MLPClassifier(random_state=random_state))\n",
    "classifiers.append(KNeighborsClassifier())\n",
    "classifiers.append(LogisticRegression(random_state = random_state))\n",
    "classifiers.append(LinearDiscriminantAnalysis())\n",
    "cv_results = []"
   ]
  },
  {
   "cell_type": "code",
   "execution_count": 29,
   "metadata": {},
   "outputs": [
    {
     "name": "stderr",
     "output_type": "stream",
     "text": [
      "[Parallel(n_jobs=-1)]: Done   3 out of  10 | elapsed:    0.2s remaining:    0.4s\n",
      "[Parallel(n_jobs=-1)]: Done  10 out of  10 | elapsed:    0.2s finished\n",
      "[Parallel(n_jobs=-1)]: Done   3 out of  10 | elapsed:    0.1s remaining:    0.1s\n",
      "[Parallel(n_jobs=-1)]: Done  10 out of  10 | elapsed:    0.1s finished\n",
      "[Parallel(n_jobs=-1)]: Done  10 out of  10 | elapsed:    1.2s finished\n",
      "[Parallel(n_jobs=-1)]: Done   3 out of  10 | elapsed:    0.1s remaining:    0.3s\n",
      "[Parallel(n_jobs=-1)]: Done  10 out of  10 | elapsed:    0.3s finished\n",
      "[Parallel(n_jobs=-1)]: Done   3 out of  10 | elapsed:    0.1s remaining:    0.3s\n",
      "[Parallel(n_jobs=-1)]: Done  10 out of  10 | elapsed:    0.3s finished\n",
      "[Parallel(n_jobs=-1)]: Done  10 out of  10 | elapsed:    0.9s finished\n",
      "/usr/local/lib/python3.6/site-packages/sklearn/neural_network/multilayer_perceptron.py:564: ConvergenceWarning: Stochastic Optimizer: Maximum iterations (200) reached and the optimization hasn't converged yet.\n",
      "  % self.max_iter, ConvergenceWarning)\n",
      "/usr/local/lib/python3.6/site-packages/sklearn/neural_network/multilayer_perceptron.py:564: ConvergenceWarning: Stochastic Optimizer: Maximum iterations (200) reached and the optimization hasn't converged yet.\n",
      "  % self.max_iter, ConvergenceWarning)\n",
      "/usr/local/lib/python3.6/site-packages/sklearn/neural_network/multilayer_perceptron.py:564: ConvergenceWarning: Stochastic Optimizer: Maximum iterations (200) reached and the optimization hasn't converged yet.\n",
      "  % self.max_iter, ConvergenceWarning)\n",
      "[Parallel(n_jobs=-1)]: Done  10 out of  10 | elapsed:    4.3s finished\n",
      "[Parallel(n_jobs=-1)]: Done   3 out of  10 | elapsed:    0.0s remaining:    0.1s\n",
      "[Parallel(n_jobs=-1)]: Done  10 out of  10 | elapsed:    0.1s finished\n",
      "[Parallel(n_jobs=-1)]: Done   3 out of  10 | elapsed:    0.0s remaining:    0.1s\n",
      "[Parallel(n_jobs=-1)]: Done  10 out of  10 | elapsed:    0.1s finished\n",
      "/usr/local/lib/python3.6/site-packages/sklearn/discriminant_analysis.py:388: UserWarning: Variables are collinear.\n",
      "  warnings.warn(\"Variables are collinear.\")\n",
      "/usr/local/lib/python3.6/site-packages/sklearn/discriminant_analysis.py:388: UserWarning: Variables are collinear.\n",
      "  warnings.warn(\"Variables are collinear.\")\n",
      "/usr/local/lib/python3.6/site-packages/sklearn/discriminant_analysis.py:388: UserWarning: Variables are collinear.\n",
      "  warnings.warn(\"Variables are collinear.\")\n",
      "/usr/local/lib/python3.6/site-packages/sklearn/discriminant_analysis.py:388: UserWarning: Variables are collinear.\n",
      "  warnings.warn(\"Variables are collinear.\")\n",
      "[Parallel(n_jobs=-1)]: Done   3 out of  10 | elapsed:    0.1s remaining:    0.1s\n",
      "[Parallel(n_jobs=-1)]: Done  10 out of  10 | elapsed:    0.1s finished\n"
     ]
    }
   ],
   "source": [
    "for classifier in classifiers:\n",
    "    cv_results.append(cross_val_score(classifier, X, y = y, scoring = 'accuracy', cv = kfold, n_jobs=-1, verbose =1))\n",
    "\n",
    "cv_means = []\n",
    "cv_std = []\n",
    "for cv_result in cv_results:\n",
    "    cv_means.append(cv_result.mean())\n",
    "    cv_std.append(cv_result.std())"
   ]
  },
  {
   "cell_type": "code",
   "execution_count": 30,
   "metadata": {},
   "outputs": [
    {
     "data": {
      "image/png": "iVBORw0KGgoAAAANSUhEUgAAAeYAAAEPCAYAAACX2GeFAAAABHNCSVQICAgIfAhkiAAAAAlwSFlz\nAAALEgAACxIB0t1+/AAAIABJREFUeJzs3XlcTvn///HH1YaUFkuyV3bziRmMMIyxTSXGLstFwzAY\nW0Yqy0h2IT5mRFmLomwfzGBoLDPN2Bo0CyEMibKFSut1fn/4ub7TUAwtF73ut9vcbq6zvM/rvC+3\neXq/z7nOUSmKoiCEEEIInaBX3AUIIYQQ4v9IMAshhBA6RIJZCCGE0CESzEIIIYQOkWAWQgghdIgE\nsxBCCKFDJJiFKCFycnJYt24dPXv25JNPPsHZ2Rk/Pz8yMzOLu7QXqlevHvfu3SMyMpLZs2c/dxsX\nFxeOHz+ebzvXr19n7NixACQmJuLq6lrgtQrxugyKuwAhRNHw8fHhwYMHbNiwAVNTU9LS0pg0aRJT\np07Fz8+vuMt7KR06dKBDhw6vvH9CQgJXrlwBwMrKis2bNxdUaUIUGAlmIUqA69evs3v3bn766SdM\nTEwAMDY2ZubMmZw+fRoALy8vkpOTuX79Ou3atWPkyJHMnDmT8+fPo1KpaNOmDRMnTsTAwID//ve/\nHDhwAENDQywsLJg3bx6VKlXKc/lTjx494sMPP2T//v1UrFgRgL59+/LFF19Qo0YNfH19SUtLIykp\nifr167N06VJKlSql3X/79u3s37+fVatWcenSJaZMmcLjx4+xtbUlLS1Nu93KlSs5ePAgGRkZPH78\nGE9PT9q3b8+0adNITExk2LBhzJw5k65du3L69GmysrKYP38+v/zyC/r6+tjb2+Pt7Y2JiQnt27en\nR48e/PLLL9y8eRMnJycmT578TB+HhoayefNmDA0NKVWqFL6+vtSuXZsrV67w1Vdfce/ePfT09Bg1\nahTOzs5cvHgRX19fkpOTUalUDB06lO7du3P8+HHmzJmDsbExaWlpbN26lZ9++omAgACysrIoXbo0\nnp6evPvuu8TFxTF16lQyMzNRFIXevXszcODAQvk7JIqQIoR46+3bt0/p1atXvtt4enoqQ4YM0X6e\nPHmyMmvWLEWj0SgZGRnK0KFDlVWrVikJCQnKe++9p2RkZCiKoihr1qxRDhw4kOfyf5o8ebKyevVq\nRVEU5dKlS0q7du2UnJwcZf78+crOnTsVRVGUzMxMxcXFRdm3b5+iKIpSt25d5e7du8q2bduUESNG\nKIqiKJ988okSHh6uKIqinDp1SqlXr55y7NgxJT4+XlGr1crjx48VRVGUPXv2KC4uLoqiKMqxY8eU\nLl26KIqiKNevX1eaNGmiKIqiLFu2TBkzZoySmZmp5OTkKF5eXsr06dMVRVGUjz76SJk/f76iKIpy\n69Yt5T//+Y9y7dq1XOeUnZ2tNGrUSElMTFQURVF27NihbN68WVEURenevbuyceNGRVEUJSEhQenQ\noYPy6NEjpUOHDsr+/fu17bZp00b59ddflWPHjin169dX4uPjFUVRlCtXriguLi7KvXv3FEVRlAsX\nLiitW7dWUlNTFW9vb2XVqlWKoihKUlKSMmHCBCUnJyff71noPhkxC1EC6OnpodFoXrhd06ZNtX8+\nevQoYWFhqFQqjIyMcHV1ZcOGDXz22WfUr1+fHj160LZtW9q2bUvLli3RaDTPXf5Pffr0YebMmQwb\nNoxt27bRs2dP9PT08PDwICoqiqCgIK5evUpSUlKuUfDf3b9/n9jYWLp3766tu06dOgBUrVqVBQsW\nsHv3bv766y/Onj1Lampqvud99OhR3N3dMTQ0BECtVvPFF19o1z+dPreysqJ8+fI8ePCA6tWra9fr\n6+vj6OiIq6sr7dq1o3Xr1nTt2pXk5GTOnz9Pnz59ALC2tubgwYNcunSJjIwMOnfurG23c+fO/Pjj\nj7Ro0QJra2uqVq0KQFRUFElJSbi5uWmPp1KpuHbtGp06dcLT05OYmBhatmzJtGnT0NOTW4fedPIN\nClEC2Nvbc/nyZVJSUnItT0xMZMSIEaSnpwNPpref+meQazQasrOz0dPTY+PGjcybNw9zc3Pmzp3L\n7Nmz81z+T82aNSM7O5uYmBj27NlDr169AJg4cSLh4eFUrVoVNzc3GjVqhJLHo/xVKhVArvUGBk/G\nGX/88Qeurq6kpKTQunVrPvvssxf2z/PONSsrS/v579PpKpXquXUtWrSIlStXUqNGDYKCghgzZoy2\npqf1Aly+fJmcnJxn9lcUhezsbODZ76Fly5b873//0/4XHh5OnTp1+Oijj9i/fz9OTk6cO3eOrl27\ncu3atReer9BtEsxClABWVlZ07dqVKVOmaMM5JSUFHx8fzM3NKV269DP7fPDBB2zatAlFUcjMzCQ8\nPJxWrVpx/vx5XFxcsLOz4/PPP8fNzY3Y2Ng8lz9Pnz59mDVrFvXq1aNKlSoA/PTTT3zxxRc4Ozuj\nUqk4e/bscwMMwNzcnEaNGhEREQE8CeMLFy4AcPLkSd555x0+/fRT3n//fSIjI7Xt6Ovr5wrcp9q0\nacPmzZvJyspCo9GwadMmWrdu/dL9e+/ePT788EPMzc1xc3NjwoQJxMbGYmJiQqNGjdi5cycAN2/e\npH///pQrVw5DQ0O+//574Mk/kPbv30+rVq2eadvBwYGoqCji4uIAOHLkCN26dSMjI4Mvv/yS7777\nji5dujBjxgxMTEy4efPmS9ctdJNMZQtRQsyYMYMVK1bg6uqKvr4+mZmZdOzYUfvzoX+aNm0as2fP\npmvXrmRlZdGmTRtGjhyJkZERTk5O9OrVC2NjY0qXLs20adOoX7/+c5c/T/fu3VmyZAlLlizRLnN3\nd+eLL77AzMyMMmXK0Lx583xHf0uWLMHb25vNmzdTo0YNbG1tgSc/m/r+++9xdnbG0NCQli1b8uDB\nA1JSUqhTpw76+vr07t0bf39/bVujRo1iwYIFdO/enezsbOzt7Zk+ffpL962lpSWjRo3Czc2N0qVL\no6+vr50tWLx4MTNnziQkJASVSsWcOXOwtrZmxYoVzJ49m+XLl5OTk8MXX3yBg4PDMz/5qlOnDr6+\nvkycOBFFUTAwMCAgIABjY2NGjx7N1KlT2bJlC/r6+nTs2JH333//pesWukml5DVXJIQQQogiJ1PZ\nQgghhA6RYBZCCCF0iASzEEIIoUMkmIUQQggdIsEshBBC6BD5uZR4bdHR0cVdghBCvJH+/rS9pySY\nRYF43l8uAefOnaNBgwbFXYbOkv7Jn/RP/t70/slrUCPBLApEwMmjxV2Czjp88nZxl6DTpH/yJ/2T\nt3YmFYu7hEIh15iFEEIIHSLBLIQQQugQCWYhhBBCh0gwCyGEEDpEglkIIYTQIXJXdgkRGBjIzz//\nTHZ2NiqVCk9PT8aNG0dkZKT2Je5ZWVl8/PHH/O9//0Oj0bBgwQKuXbtGdnY21tbW+Pr6YmpqWsxn\nIoQQbzcJ5hLg0qVL/PDDD4SFhaFSqTh37hyenp7UqFGDEydO0KJFCwB++OEHWrRogampKcOGDcPV\n1ZVOnToBsH79er766qtc77AVQghR8CSYSwBTU1MSEhLYunUrbdu2pUGDBmzdupWDBw+yc+dObTBv\n27aN0aNHc+PGDe7cuaMNZQC1Wk2vXr2K6xSEEG8Z/5HjX7uNdfqGGBsbv/L+hw8ffu0aCoNcYy4B\nrKysCAgI4Ndff6Vfv344Ojpy6NAhOnbsyMmTJ0lPTycpKYk7d+7QpEkTkpKSqFatWq429PX1ZRpb\nCCGKgIyYS4C//voLExMT5s2bB8Bvv/3G8OHDadGiBR07duTgwYMkJCRoR8RVqlTh1q1budrIyspi\n7969dOvWrcjrF0K8fdxXLnvtNtqZVHyjH8mZFxkxlwCxsbH4+vqSmZkJgI2NDeXKlUNfX58+ffqw\nZ88eDh48qA1dKysrLCwsOHjwoLaN4OBgIiMji6V+IYQoSWTEXAJ07tyZuLg4evfujbGxMYqiMHny\nZExNTTE1NSUtLQ07O7tcU9ULFy7E19eXtWvXkpWVRY0aNZg9e3YxnoUQQpQMKkVRlOIuQrzZoqOj\nOaFJLe4yhBAlzJs+lR0dHf3cN/PJVLYQQgihQySYhRBCCB0iwSyEEELoELn5SxSIUc3bFncJOunc\nuXNv9DWwwib9kz/pn/ydO3euuEsoFDJiFkIIIXSIBLMQQgihQySYhRBCCB0iwSyEEELoELn5SxSI\nx4/lcZ3PU6sWPH6cUNxl6Czpn/yV5P4pU6ZDcZdQbGTELIQQQugQCWYhhBBCh0gwCyGEEDpEglkI\nIYTQIXLzVwE6fvw4EyZMoHbt2iiKQnZ2NoMHD8bZ2fml25gzZw6ffvopVapUeWbd0aNHuXnzJv36\n9Xvp9mJjY7Wvazxz5gz29vbo6ekxbNgw2rVr99LtCCGEKBoSzAXMwcEBf39/AFJTU1Gr1djY2Lz0\nY/WmTp2a57q2bf/9Yy/r1atHSEgIAO3bt2ft2rWUKlXqX7cjhBCiaEgwF6KyZcvSr18/9u3bx3ff\nfcepU6fQaDS4ubnh5OTE2bNnmTt3LhqNBisrKxYtWsTw4cPx8fEhOTmZBQsWYGBgQJkyZVi2bBnf\nf/89ly9fZtKkSaxdu5Zvv/0WAwMDmjVrhoeHB8uXLyc+Pp67d++SkJCAt7c3bdq0ybM+tVqNpaUl\nDx48IDAwEB8fH/766y80Gg0TJkygRYsWnDhxAn9/f/T19alevTq+vr4YGhoWYS8KId5EH3888bX2\n19OzeOE2aWlpGBsbP3fd4cOHX+v4xUmCuZCVL1+etWvX0rBhQ8LCwsjIyKBv3760bt2ar776iiVL\nlmBnZ0dERARxcXHa/Q4ePIiTkxNDhgzhhx9+4OHDh9p1sbGx7N27l82bN2NgYMDYsWM5dOgQAEZG\nRqxevZqoqCjWrl2bbzADuLi40KlTJ0JDQ7GwsGDu3Lncv3+fQYMGsWfPHqZPn05oaCjly5dn6dKl\n7Nixg759+xZOZwkhhJBgLmwJCQl07dqVXbt2oVarAcjOzubGjRvcuXMHOzs7APr06ZNrv5EjR7Jy\n5UqGDBmClZUV9vb22nWXL1+mcePG2pFrs2bNuHjxIoB2yrxy5cpkZma+sD4bGxsALly4QHR0NDEx\nMdoa7927R1JSEhMmTAAgPT2dVq1avXJfCCFKjv37l7zW/i/zgJG39e1bcld2IUpJSSEiIgJTU1Na\ntGhBSEgIGzZswMnJierVq1OpUiWuXr0KQGBgIAcOHNDuu2vXLnr06EFISAh16tQhPDxcu87W1paY\nmBiys7NRFIWTJ09qA1alUv2rGp9ub2trS5cuXQgJCSEoKAhHR0csLCyoXLkyK1asICQkhJEjR+Lg\n4PCavSKEECI/MmIuYMeOHUOtVqOnp0dOTg5jx46lU6dOzJ8/nwEDBpCWlkbHjh0xMTFh5syZTJky\nBT09PSpWrIibmxvBwcEA2NvbM23aNMqUKYOenh6+vr6cPHkSeHJDl5OTE/3790ej0dC0aVM6duzI\n+fPnX7luV1dXpk2bxqBBg0hJSWHAgAHo6ekxdepURowYgaIolC1bloULFxZIPwkhhHg+laIoSnEX\nId5s0dHRNGyYXNxlCCHeIiVhKjs6OpqmTZs+s1ymsoUQQggdIsEshBBC6BAJZiGEEEKHSDALIYQQ\nOkTuyhYFoiS/1Dw/b/rNKYVN+id/0j8lk4yYhRBCCB0iwSyEEELoEAlmIYQQQodIMAshhBA6RG7+\nEgXi6KFzxV2Czrp9S/omP9I/+Xvb+6ftR3Jz2z/JiFkIIYTQIRLMQgghhA6RYBZCCCF0iASzEEII\noUMkmHVMUFAQH3zwARkZGc+sCwsLY/ny5Xnuu337dtq1a4darWbAgAEMGjSIGzduFEhdycnJ7N69\nu0DaEkIIkTcJZh2za9cunJ2d+fbbb19pfxcXF0JCQggNDaVr166sWbOmQOqKjY3lhx9+KJC2hBBC\n5E1+LqVDjh8/To0aNXB1dcXDw4OePXty6tQp5s6dS7ly5dDX16dJkyYALF68mN9//53k5GTq16/P\nvHnznmnvwYMHWFpaAhAVFcXSpUspVaoU5ubm2jbnz59PdHQ08CTUhwwZwvfff09QUBAGBgZUqlQJ\nf39/Vq5cyfnz59myZQv9+vUruk4RQui88e5DXnlfM3PjV943LS2NEydOvPL+ukqCWYdERETQp08f\nbG1tMTIy4uzZs8ycOZP//ve/2NjYMGPGDABSUlIoV64c69atQ6PR0KVLFxITEwHYs2cPZ8+eJTU1\nlWvXrrFx40YURWH69OmEhYVhZWXFhg0bCAgI4P333yc+Pp7w8HCys7MZMGAADg4O7Nmzh2HDhuHo\n6MjOnTtJSUlh5MiRbN68WUJZCCEKmQSzjnjw4AFHjx7l3r17hISEkJKSwsaNG7lz5w42NjYAvPfe\ne1y7do1SpUpx7949Jk6ciLGxMWlpaWRlZQFPRr2TJk0C4JdffmHs2LFs2bIFExMTrKysAGjevDlL\nliyhfPnyNGvWDJVKhaGhIY0bNyYuLg5vb29WrVrFxo0bsbW1pWPHjsXTKUKIN8Iy/w2vvO/rPGDk\n3Lm38+Erco1ZR+zatYtevXqxdu1a1qxZQ3h4OFFRUZQpU4a4uDgAfvvtNwCOHj3KzZs3WbJkCRMn\nTiQ9PR1FUZ5p09ramqysLCwsLEhJSSEpKQmAEydOUKtWLezs7LTT2FlZWZw+fZqaNWuyZcsWxo4d\ny8aNGwE4cOAAenp6aDSaougKIYQo0WTErCMiIiJYuHCh9nOZMmXo3LkzFSpUYPLkyZiYmFC2bFnM\nzMywt7dnxYoVDBw4EJVKRfXq1bWh+3QqW19fn9TUVGbOnIlKpWL27NmMHTsWlUqFmZkZ8+bNw9LS\nkhMnTtCvXz+ysrJwdHSkUaNGJCYm8vnnn1O2bFmMjY1p164dmZmZXLhwgfXr1+Pm5lZMvSSEEG8/\nlfK8oZYQ/0J0dDSpD1/9Bg4hRMn1ulPZDRq8uc/ajo6OpmnTps8sl6lsIYQQQodIMAshhBA6RIJZ\nCCGE0CESzEIIIYQOkbuyRYGQl50/35t+c0phk/7Jn/RPySQjZiGEEEKHSDALIYQQOkSCWQghhNAh\nco1ZFIjb/rOLuwSdVAG4va+4q9Bd0j/5k/55AcdexV1BoZARsxBCCKFDJJiFEEIIHSLBLIQQQugQ\nCWYhhBBCh0gwCyGEEDpE7sr+F44fP86ECROoXbs2AKmpqVSrVo1FixZhZGT0Sm26u7vj6upKixYt\nXmn/+Ph4unXrRqNGjbTLWrRowZgxY16pvbwkJCRw/vx52rdvX6DtCiGEyE2C+V9ycHDA399f+/nL\nL7/khx9+wNHRsdhqql27NiEhIYV6jGPHjnH58mUJZiGEKGQSzK8hMzOTpKQkzMzMmDp1Krdu3SIp\nKYn27dvj7u6Ol5cXRkZG3Lhxg6SkJObPn0+jRo3YtGkTERERVKxYkbt37wKQlZWFt7c38fHx5OTk\n8Omnn+Ls7IxaraZevXpcvHgRY2NjmjVrxk8//cTDhw9Zu3ZtvvXNnz+f6OhoAFxcXBgyZAheXl4k\nJyeTnJzMqlWrWL16NadOnUKj0eDm5oaTkxObNm1i586d6Onp8Z///Advb28CAwNJT0/n3XffpUOH\nDoXet0KIt1f3b9YUSDtZYbswNjZ+7XYOHz78+sUUIAnmf+nYsWOo1Wru3r2Lnp4effv2pXr16jRp\n0oQ+ffqQkZFB27ZtcXd3B6BKlSr4+voSHh7Oli1bGDduHMHBwezevRuVSkXPnj0B2LJlC5aWlixa\ntIiUlBR69uyJg4MDAPb29kybNo1hw4ZRunRp1q1bh6enJydPnqR+/fpcunQJtVqtrXHRokX8+eef\nxMfHEx4eTnZ2NgMGDNC25+DggJubG0eOHCE+Pp6wsDAyMjLo27cvrVu3Zvv27cyYMQN7e3tCQ0NR\nFIURI0Zw+fJlCWUhhChkEsz/0tOp7Pv37zN06FCqVauGubk5v/32G8eOHcPExITMzEzt9k/fDFO5\ncmV+/fVXrl27Ru3atbXXpO3t7QGIi4ujVatWAJiYmGBnZ8f169cBtNePy5Urp72+Xa5cOTIyMoDn\nT2Xv3r2bZs2aoVKpMDQ0pHHjxsTFxQFgY2MDwIULF/jjjz+0oZ6dnc2NGzeYN28ea9euZeHChTRp\n0gRFUQq4F4UQJdnOL4YVSDt3HHu9lW/fkruyX5GFhQV+fn5MmzaN9evXY2pqyuLFixk6dCjp6ena\nMFOpVLn2q1WrFpcuXSI9PZ2cnBzOnTsHgJ2dHadOnQIgJSWFCxcuUK1atVeuz87OTjuNnZWVxenT\np6lZs2aummxtbWnRogUhISFs2LABJycnqlevTnh4ODNnzmTjxo2cO3eO06dPo6enh0ajeeV6hBBC\nvBwZMb+G2rVro1arOXfuHFevXuXMmTMYGRlRs2ZNkpKSnruPpaUlw4cPx9XVFUtLS8qUKQNA3759\nmT59Ov379ycjI4MxY8ZQvnz5V67to48+4sSJE/Tr14+srCwcHR1z3bkN0L59e06cOMGAAQNIS0uj\nY8eOmJiYUK9ePQYMGEDZsmWxsrKicePGmJiYEBAQQKNGjejSpcsr1yWEECJ/KkXmKcVrio6OpsbR\nvcVdhhCihHnTp7Kjo6Np2rTpM8tlKlsIIYTQIRLMQgghhA6RYBZCCCF0iASzEEIIoUPkrmxRICq6\nTyvuEnTSuXPn3uibUwqb9E/+pH/yd+f//9z0bSMjZiGEEEKHSDALIYQQOkSCWQghhNAhL7zGvHnz\nZjZv3kxmZiaKoqBSqfjuu++KojbxBvHbeaK4S9BZe2Klb/Ij/ZM/6Z9neXR/v7hLKFQvDObg4GAC\nAwMxMzMrinqEEEKIEu2FwVyvXj2sra3R19cvinqEEEKIEu2Fwezg4EDHjh2pXr26dio7ODi4KGoT\nQgghSpwXBvOWLVtYunQppqamRVGPEEIIUaK9MJitrKz4z3/+g56e3MAthBBCFLYXBnNmZiaffPIJ\nderUQaVSAbB48eJCL+xtdvz4cSZMmEDt2rW1yywsLPjvf//7zLaxsbE8fPiQ5s2bv7Dd2NhYZs+e\nDcCZM2ewt7dHT0+PYcOG0a5duwKrXwghROF5YTB//vnnRVFHiePg4IC/v/8Lt/v++++pUKHCSwVz\nvXr1CAkJAaB9+/asXbuWUqVKvXatQgghis4Lg7lKlSrs37+fx48fa5e9//7b/Ruy4pCdnc2gQYP4\n4osvaNCgAUOGDCEwMJAdO3ZgaGhIo0aNmDJlCrVq1cLQ0BBPT098fHzIyMjg9u3bTJgwgY4dO+bZ\nvlqtxtLSkgcPHhAYGIiPjw9//fUXGo2GCRMm0KJFC06cOIG/vz/6+vpUr14dX19f4uPj8fb2xsDA\nAI1Gw+LFi7G2ti7CnhFCvKlWThtVKO1+u/TJPU9paWkYGxsXSJuHDx8ukHYKwguD+csvv6RNmzZU\nqFChKOopMY4dO4ZardZ+/vDDD1m0aBEjR46kYsWKTJ48mapVq9KjRw8qVKiAvb09aWlpjB49moYN\nG/Lzzz/z6aef0qJFC3799VeWL1+ebzADuLi40KlTJ0JDQ7GwsGDu3Lncv3+fQYMGsWfPHqZPn05o\naCjly5dn6dKl7Nixg6ysLOzt7fHw8ODUqVM8evRIglkIIQrRC4O5dOnSjBkzpihqKVHymsp+7733\nOHPmDG3btn3ufjY2NgBUrFiRgIAAtm7dikqlIjs7+4XHfLrvhQsXiI6OJiYmBngyWr937x5JSUlM\nmDABgPT0dFq1asXo0aMJCgris88+w9TUFHd391c6XyFEyTNydkChtPv0yV9v69u38gzmK1euAFCh\nQgX27NlDw4YNtTd/Pf0fvChYZ86c4eLFizRv3py1a9cybNgwVCoVGo1Gu83Tu+OXLVtGnz59+PDD\nD9m2bRs7dux4YftPvz9bW1sqV67MyJEjSU9PJyAgAAsLCypXrsyKFSswNTUlMjISY2NjIiMjadq0\nKWPGjGHPnj2sXr2aefPmFU4HCCGEyDuYv/rqK+2ft2zZov2zPGCkYPxzKvvRo0ekpKQQFBRElSpV\n6NOnD++//z7vvPMOCxcuxM7OLtf+jo6OLFy4kMDAQCpXrsz9+/df+tiurq5MmzaNQYMGkZKSwoAB\nA9DT02Pq1KmMGDECRVEoW7YsCxcuJDU1FU9PTwICAtBoNHh7exdYHwghhHiWSlEUJb8NDh06xEcf\nfaT9/N133+Hs7FzohYk3R3R0ND9czynuMoQQJcTbMpUdHR1N06ZNn1me54j50KFDnD59mj179nD6\n9GkANBoNkZGREsxCCCFEIckzmOvXr09ycjKlSpXSXlNWqVR06dKlyIoTQgghSpo8g7lixYr06NED\nJycneRynEEIIUUTyDGZPT08WL16Ms7Oz9m7ep2+XioyMLLICxZvhbX9x+at606+BFTbpn/xJ/5RM\neQbz0+dhjx8/nk8++aTIChJCCCFKshfOUUdERBRFHUIIIYTgJd8u1b17d2xsbFCpVKhUKnm7lBBC\nCFFIXhjMkyZNKoo6hBBCCMFLBHPDhg355ptviIuLo1atWowePboo6hJvmNt7Jhd3CTqpAnA7rrir\n0F3SP/mT/snfv+mfii4LC7WWgvTCa8xTpkyhSpUquLu7U7VqVby8vIqiLiGEEKJEeuGI+f79+9pn\nOjdo0ID9+/cXelFCCCFESfXCEXNGRga3b98G4M6dO7nedCSEEEKIgvXCEfP48eNxdXXFxMSE1NRU\nZs2aVRR1CSGEECXSC4O5devWREZGcu/ePSwtLYuipiJ3/fp1/Pz8uHXrFqVLl6Z06dJ4eHhQp06d\nf9XO0aNH+e6775g/fz5jxozh66+//lf7JyQkcP78edq3b4+Xlxd//PEH5ubmZGZmUq1aNebPn4+h\noeG/avN5YmNjefjwIc2bN8fd3Z0FCxZgZGT02u0KIYR4fS8M5s6dO5OT83+v9DMwMMDa2hoPDw8a\nNWpUqMUVhcePHzNq1ChmzZrFu+++C0BMTAy+vr6EhIS8crv/NpThyTuaL1++TPv27QHw8PCgbdu2\nAHz55ZcqTda7AAAgAElEQVRERkbi6Oj4yjU99f3331OhQgWaN2+Ov7//a7cnhBCi4LwwmB0cHHB0\ndKRZs2acPn2aiIgIevXqxezZswkLCyuKGgvVoUOHcHBw0IYygL29PcHBwXh5eZGcnExycjIBAQEs\nWrSIW7dukZSURPv27XF3dycuLo4pU6ZQpkwZypQpg5mZGfBkpiEqKorY2Fhmz54NgLm5OXPnzuXP\nP/8kKCgIQ0ND4uPjcXZ2ZsSIEQQGBpKenp6rFoCcnBxSUlIoX748AGvXruXbb7/FwMCAZs2a4eHh\nwcOHD/Hw8CAlJYWcnBzGjx9Py5Yt8ff35/jx42RnZ9O5c2c++eQTduzYgaGhIY0aNWLChAns3buX\nGTNmYGRkxI0bN0hKSmL+/Pk0atSIiIgINm3ahJmZGYaGhjg7O9OzZ88i+naEECVVd+/NBdqe4aIT\nBdoewOHDhwu8TXiJYL5y5QqtWrUCoEWLFqxYsYKWLVu+0ohQF8XHx1OjRg3t51GjRpGSkkJSUhLW\n1ta0a9cONzc34uPjadKkCX369CEjI4O2bdvi7u7OwoULGTduHK1btyYwMJDLly/nan/69OnMnTuX\n2rVrExERwerVq2nVqhUJCQns2rWLzMxM2rRpw6hRoxgxYgSXL1+mQ4cOHDhwAD8/P4KCgkhKSqJU\nqVLUr1+f2NhY9u7dy+bNmzEwMGDs2LEcOnSIEydO0KpVK4YMGUJiYiL9+/cnMjKS3bt3ExwcTKVK\nldi+fTtWVlb06NGDChUqYG9vn6vWKlWq4OvrS3h4OFu2bGHChAmsXr2anTt3YmRkxODBg4vkOxFC\niJLshcFsZGREWFgY7777LqdPn8bIyIjff/891/T2m6xy5cr8/vvv2s8BAQEA9O3bl8qVK2vfRW1u\nbs5vv/3GsWPHMDExITMzE4CrV69qA+699957Jpjj4uKYOXMmAFlZWdSqVQuAunXrYmBggIGBAaVL\nl35ubX+fyl62bBnz58/ngw8+oHHjxtprzc2aNePixYvExcXRtWtXAKysrDAxMeHu3bv4+fmxePFi\n7ty5Q5s2bfLti6dvsalcuTK//vor165dw87OjjJlygA8M5IXQojCsnOea4G291Y9YGTRokVcvXqV\nRYsWcf36dRYuXMjdu3eZM2dOUdRX6Dp06MAvv/zCmTNntMv++usvbt26xY0bN7SvvNy+fTumpqYs\nXryYoUOHkp6ejqIo2NnZcfr0aYBcAf+UjY0NCxYsICQkBA8PD9q1awegbffv9PT08vw5mrW1NVlZ\nWdja2hITE0N2djaKonDy5ElsbGyws7Pj1KlTACQmJvLw4UPKlSvHvn37WLJkCcHBwezYsUN7Ts87\nzj9rqlGjBpcvXyY9PR2NRkNMTMxL9KgQQojXkeeI+cqVK9o/u7q6at/FnJyczIcfflgkxRWFsmXL\nEhAQwOLFi1m0aBHZ2dno6+vj7e3NkSNHtNu1bNmSL7/8kjNnzmBkZETNmjVJSkrCy8sLT09P1qxZ\ng6WlJaVKlcrVvo+PD56enmRnZ6NSqZgzZw5JSUnPraVu3boEBARob6p7OpX9NLDnzp1L9erVcXJy\non///mg0Gpo2bUrHjh1p3rw5U6ZMYf/+/aSnp+Pr64uRkRFmZmb07duX0qVL07p1a6pUqcI777zD\nwoULsbOzy7dvLC0tGT58OAMGDMDc3JyMjAwMDF44ySKEEOI1qBRFUZ634unTvuD/RlL379/n6tWr\n/Pbbb0VTnShW2dnZBAUFMWrUKBRFYeDAgbi7u9O8efNc20VHR1Pj5pZiqlIIIV5MF6eyo6Ojadq0\n6TPL8xz+/P2nQjExMWzcuJG4uDh69+5dOBUKnWNgYMDjx4/p0aMHhoaG2Nvb06xZs+IuSwgh3mp5\nBnNmZibffvstoaGhGBoakpKSQmRkZJ43Kom308SJE5k4cWJxlyGEECVGnjd/tW/fntjYWPz8/AgN\nDaVSpUoSykIIIUQhy3PEPGTIEHbv3s2NGzfo3bs3eVyKFkIIIUQByvPmr6dOnDhBREQER48epXfv\n3nzyySfUrVu3qOoTb4C8bmAQcO7cOe3vw8WzpH/yJ/2Tvze9f/L6f+cLf8f8/vvv4+fnx4EDB6hc\nuTKTJ08ulAKFEEII8RLB/FS5cuVQq9Xs3LmzMOsRQgghSrSXDmYhhBBCFL4XXmMW4kWio6O5rr+1\nuMsQQohndG8yr7hLyNMrX2MWQgghRNGRYBZCCCF0iASzEEIIoUMkmIUQQggdIsEshBBC6BCdCObj\nx49Tr149vv3221zLu3btipeX13P32b59O4sWLQJgy5YtZGVlce7cOb7++us8j7N8+XLCwsLyXO/l\n5cXRo0df4QxenpeXF127dkWtVqNWqxk4cCAXL14s1GP+3caNG4vsWEIIIf49nQhmAFtb21zBHBsb\ny+PHj19q31WrVqHRaGjQoAFjxowprBILjIeHByEhIYSEhDBixAiWLVtWZMcOCAgosmMJIYT49/J8\niUVRq1+/PleuXOHRo0eYmpqya9cuunbtys2bN2ndujVRUVEAuLu74+rqqt0vIiKC27dv4+7uzpAh\nQ9i8eTP+/v506NCBxo0bc+3aNerUqcOcOXNyHW/x4sWcOnUKjUaDm5sbTk5Oz60rJyeHr776ilu3\nbpGUlET79u0ZP348H3/8MREREZibmxMaGkpqaiouLi5Mnz6djIwMSpUqxaxZs8jJyWHUqFGYm5vT\ntm3bZ9p/8OABxsbGwJN3YO/ZsweVSoWzszODBw/Gy8uL5ORkkpOTWbVqFcuWLSMmJoasrCzGjh1L\nx44dn3suarUaGxsbrly5gqIo+Pv7s3XrVh48eICPjw/29vZs27YNjUbDuHHjuH37Nhs2bMDIyIha\ntWrh6+vL7t27OXLkCOnp6Vy7do3hw4fTs2fPgvrKhRDiGdM+21Sg7S01+aVA2zt8+HCBtvc8OjNi\nBujcuTPff/89iqIQExPDu++++8J9+vTpQ8WKFfH398+1PDExkfHjx7N161bS0tI4ePCgdt2RI0eI\nj48nLCyM4OBgVq5cycOHD5/b/s2bN2nSpAlr1qxh69atbN68GT09Pbp27aod4e/atYsePXqwYMEC\n1Go1ISEhDBs2TDvVfvv2bdasWcPw4cMB8PPzQ61WM2TIEH788UcmTZrEpUuX+O677wgNDWXTpk0c\nPHiQy5cvA+Dg4MDmzZs5ceIE9+/fZ+vWrQQHB/P777/ney7vvfceISEhODk5sWrVKkaNGoWZmRk+\nPj7Ak8eshoWFUb9+fZYvX86GDRsICwvD1NSULVu2AJCSksKqVasICAggMDDwZb9KIYQQr0hnRszw\n5Jqyj48P1atXp1mzZs/d5mUfVGZtbU3NmjUBePfdd7ly5Yp23YULF/jjjz9Qq9UAZGdnc+PGjee2\nY25uzm+//caxY8cwMTEhMzMTgF69ejFx4kSaN29OhQoVqFChAhcuXGDVqlWsXr0aRVEwMHjSvdWq\nVcPIyEjbpoeHxzOj51OnTpGQkICbmxvwZCT9119/AWBjYwPAlStXaNKkCQBmZmZMmDCBoKCgPM/F\nwcEBeBLQP/zwwzPn9rTd69evU7t2bUxMTABo3rw5P/30E40bN6Z+/fra/nx67kIIUVhmrx5YoO3p\n8pO/8qJTI+bq1auTlpZGSEgI3bp10y7Pzs4mNTWVzMxMLl269Mx+KpUKjUaTa1liYiK3b98G4Ndf\nf6V27dradba2trRo0YKQkBA2bNiAk5MT1atXf25N27dvx9TUlMWLFzN06FDS09NRFIWqVatiamrK\nypUr6d27t7bdSZMmERISwsyZM3F0dARAT+/F3Wxra0vt2rUJDg4mJCSEnj17Uq9ePe35Pd3mt99+\nA+DRo0cMGzYs33P5/fffnzn/v//D5mld1apVIy4ujrS0NODJqz6fhvbTYwshhCgaOhXMAM7Ozty8\neVMbDACDBw+mX79+jBs3jipVqjyzT7NmzRgxYkSu0DEyMmLWrFn06dOHSpUq0b59e+269u3bY2xs\nzIABA7TXTJ+OFufMmUPPnj3p2bMnX375JS1btuTHH39k4MCB+Pj4ULNmTZKSkgDo27cvp06dok2b\nNgB4enryzTffMGjQIDw9PbXB+jLq169Py5Yt6d+/Pz179uTq1atYWVnl2qZDhw6YmZnRv39/hg0b\nxuDBg/M9lx07djBo0CAOHz7MyJEjAbCzs2PSpEm52rW0tGTs2LEMHjyYvn37cv/+ffr37//StQsh\nhCg4b+1LLP5+w1hh2bt3LxcuXGD8+PGFepxXoVar8fHxwc7OrtCPJS+xEELoKl2eys7rJRY6dY35\nTbJkyRKOHz/OypUri7sUIYQQb5G3NpgLe7Q8ceLEQm3/dYWEhBR3CUIIIV6Bzl1jFkIIIUoyCWYh\nhBBCh7y1U9miaOnyDRbF6dy5czRo0KC4y9BZ0j/5k/7J39vaPzJiFkIIIXSIBLMQQgihQySYhRBC\nCB3y1j5gRBSd6OhoGpayLu4yhBAlVJl3nn0i5JsgrweMyIhZCCGE0CESzEIIIYQOkWAWQgghdIgE\nsxBCCKFDJJiFEEIIHSLBXMCOHz+Ou7u79vO+fftwcXFh8ODBjBkzJte2rVu3zretf27/d/Hx8fTt\n2/eZ5V5eXhw9evRfVi2EEEJXSDAXoj179hAYGMj69eupUqUK0dHR7Ny586X3//rrrwuxOiGEELpI\nnpVdSHbu3MnGjRtZt24dZmZmwJNXRS5fvhwHBwcqV66s3fbRo0dMnTqV+/fvAzBt2jTq1atH69at\niYqKIiYmhpkzZ1K2bFnKly9PqVKlGDNmDPfu3WP06NHcvn2bevXqMXv2bABCQ0NZs2YNOTk5zJkz\nh5o1a7J27Vq+/fZbDAwMaNasGR4eHjx8+BAPDw9SUlLIyclh/PjxtGzZEhcXF2rVqoWhoSGDBg1i\nwYIFGBgYUKZMGZYtW4aJiUnRd6gQ4q308ae9X7sNvbJGr7X/4cOHX7uGgiTBXAhOnTpFYmIiDx48\nICcnR7vcysqK8ePHM3XqVNasWaNdvnLlShwcHBgwYABXr17F29ubsLAw7foZM2awcOFC6tSpg7+/\nP4mJiQCkpKQwb948TE1N6dSpE3fv3gXgvffeY8SIERw5cgQ/Pz/Gjh3L3r172bx5MwYGBowdO5ZD\nhw5x4sQJWrVqxZAhQ0hMTKR///5ERkaSlpbG6NGjadiwIQsWLMDJyYkhQ4bwww8/8PDhQwlmIYQo\nRBLMhaBixYqsW7eOiIgIPDw8CAoK0q7r1q0bBw8eJDQ0VLvswoULHDt2jL179wLw4MGDXO0lJSVR\np04dAJo2bcp3330HQPXq1bWj8fLly/P48WMAmjVrBsC7777LwoULuXz5Mo0bN8bQ0FC7/uLFi8TF\nxdG1a1fgyT8aTExMtOFuY2MDwMiRI1m5ciVDhgzBysoKe3v7AuwpIURJt3/d1tdu40198lde5Bpz\nIahZsyalSpVi0KBBGBoaEhAQkGu9j48Pa9euJTU1FQBbW1vc3NwICQlh6dKldOvWLdf2lStX5tKl\nSwCcPXtWu1ylUj33+DExMcCTkXudOnWwtbUlJiaG7OxsFEXh5MmT2NjYYGdnx6lTpwBITEzk4cOH\nmJubA6Cn9+Svxq5du+jRowchISHUqVOH8PDw1+0eIYQQ+ZARcyGbO3cu3bt3R19fH2dnZwAsLS3x\n8vLiiy++AJ6MSqdOnUp4eDgpKSnP3I09Y8YMpkyZgrGxMYaGhlhZWeV7zLNnzzJ48GBUKhVz586l\natWqODk50b9/fzQaDU2bNqVjx440b96cKVOmsH//ftLT0/H19cXAIPdfCXt7e6ZNm0aZMmXQ09PD\n19e3AHtHCCHEP8lLLN4AmzZtwsnJCUtLS/z9/TE0NMz3p1RFTV5iIYQoTm/qVHZeL7GQEfMboHz5\n8gwdOhRjY2NMTU2ZP39+cZckhBCikEgwvwEcHR1xdHQs7jKEEEIUAbn5SwghhNAhEsxCCCGEDpGp\nbFEg3tSbLwrbuXPnaNCgQXGXobOkf/In/ZO/t7V/ZMQshBBC6BAJZiGEEEKHSDALIYQQOkQeMCJe\nW3R0NKampsVdhhBC5Klu3brFXcIz8nrAiIyYhRBCCB0iwSyEEELoEAlmIYQQQodIMAshhBA6RIJZ\nCCGE0CElIpiPHz+Ou7v7K+8fGBhITExMnus3btwIwNGjR9myZUue273zzjuo1WrUajWurq707duX\n69evv3JdBWHOnDkkJCQUaw1CCCH+jzyS8yWMGDEi3/UBAQEMGjSItm3b5rudmZkZISEh2s+bN29m\n3bp1fPXVVwVS56uYOnVqsR1bCCHEs0psMEdFRbF06VJKlSqFubk5c+fOxdTUlJkzZ/L7779ToUIF\nbty4QUBAAF9//TXOzs5Ur14db29vDAwM0Gg0LF68mJ07d/LgwQN8fHywt7fn8uXLTJo0iRUrVnDw\n4EFycnLo378/rq6uz9SQkJBAuXLlANi7dy/r169HT0+Ppk2bMmnSJO7du8ekSZPIzMzExsaGY8eO\nceDAAVxcXKhVqxaGhob4+voydepU7t+/D8C0adOoV68e3t7e/PXXX6SnpzN48GC6d++Ov78/x48f\nJzs7m86dOzNixAjUajU+Pj5UrFgRDw8PUlJSyMnJYfz48bRs2ZKuXbvy/vvvExsbi0qlYsWKFfKb\nZSFEkVOr1a+1f5kyZV67hsOHD792Gy+jRAazoihMnz6dsLAwrKys2LBhAwEBATRt2pTk5GS2bt3K\nvXv36Ny5c679fv75Z+zt7fHw8ODUqVM8evSIUaNGsXHjRnx8fNi+fTsAf/75J0ePHiUiIoKcnByW\nLFmCoig8ePAAtVpNSkoKDx48oFOnTowbN47k5GSWL1/Otm3bKFOmDB4eHkRFRXHkyBE6dOjAwIED\niYqKIioqCoC0tDRGjx5Nw4YN8fPzw8HBgQEDBnD16lW8vb0JCgri5MmThIeHA2j32717N8HBwVSq\nVElb61MBAQG0atWKIUOGkJiYSP/+/YmMjCQ1NZUuXbowffp0vvzyS44ePUqXLl0K+ysSQogSq0QG\n8/379zExMcHKygqA5s2bs2TJEiwsLGjSpAkAlpaW2Nra5tqvd+/eBAUF8dlnn2FqaprndesrV65g\nb2+Pvr4++vr6eHl5Af83lZ2Tk4OXlxeGhoaULVuWmJgY7t27p50yT01N5dq1a8TFxdGjRw8AmjVr\nlusYNjY2AFy4cIFjx46xd+9eAB48eICJiQlTpkxh+vTppKSk0K1bNwD8/PxYvHgxd+7coU2bNrna\ni4uLo2vXrgBYWVlhYmLC3bt3AWjYsCEA1tbWZGRk/Ku+FkKIgvD3y4CvQhef/JWXEnHz1z9ZWFiQ\nkpJCUlISACdOnKBWrVrUqVOHM2fOAE8C7urVq7n2i4yMpGnTpmzYsAFHR0dWr14NPBmB/52trS1/\n/vknGo2GrKwsPv30UzIzM7Xr9fX1mTVrFgcOHODw4cNUq1YNa2tr1q5dS0hICIMGDaJJkybUrVuX\n06dPA2jrekpPT097LDc3N0JCQli6dCndunUjKSmJP/74g2+++YbAwED8/PzIzMxk3759LFmyhODg\nYHbs2MGNGze07dnZ2XHq1CkAEhMTefjwIebm5gCoVKrX6m8hhBAvr8SMmKOioujZs6f28+eff87Y\nsWNRqVSYmZkxb948LCwsOHr0KK6urlSoUIHSpUtjaGio3eedd97B09OTgIAANBoN3t7ewJNQmzRp\nEq1atQKgQYMGtGnThv79+6PRaOjfvz9GRka56ildujRz5szB09OT3bt34+bmhlqtJicnh6pVq+Lk\n5MTw4cOZPHkye/fupVKlShgYPPt1jRw5kqlTpxIeHk5KSgpjxoyhYsWK3L59G1dXV/T09Bg6dChG\nRkaYmZnRt29fSpcuTevWralS5f/eofz5558zZcoU9u/fT3p6Or6+vs89nhBCiMIlL7H4m7i4OM6f\nP0+XLl24f/8+Li4uHDp06JlQLSpHjhzBwsICe3t7fv75Z1auXElwcHCx1JIfeYmFEELX6eJUdl4v\nsZAh0d9YW1uzaNEiNmzYQE5ODpMmTSq2UAaoVq0aU6ZMQV9fH41GIz9tEkKIEkBGzOK1yYhZCKHr\n3qQRc4m8+UsIIYTQVTKVLQqELv5rVBecO3eOBg0aFHcZOkv6J3/SP/l7W/tHRsxCCCGEDpFgFkII\nIXSIBLMQQgihQySYhRBCCB0iP5cSry06OprEg4nFXYYQQuTi7Olc3CXkS34uJYQQQrwBJJiFEEII\nHSLBLIQQQugQCWYhhBBChxRKMB8/fhx3d/dcy9zd3XO9k7igbN++nXbt2qFWqxk4cCCDBg3il19+\nAeDo0aNs2bLlldsODAwkJibmpbYdM2bMKx/nn06ePMn58+e1nxMTE2ncuDF79+59pfbi4+Pp27fv\nv9pnzpw5JCQkvNLxhBBCvLoieySnv79/obXt4uLCpEmTALhz5w4DBw5k48aNtG3b9rXaHTFixEtv\n+/XXX7/Wsf5u27ZtODs7U79+feDJPz7UajWhoaE4OTkV2HHyI2+yEkKI4lFkwdy+fXv27t3LjBkz\nMDIy4saNGyQlJTF//nwaNWrE3r17Wb9+PXp6ejRt2pRJkyZx69YtfHx8yMjI4Pbt20yYMIGOHTvi\n4uJCrVq1MDQ0pE2bNrmOU6FCBT7++GMOHz6Mvr4+ly9fZuzYsYwfP56UlBQeP36Mu7s7H3zwARER\nEYSFhaHRaGjfvj3jxo3jo48+wtbWFjs7Ox4+fIizszN37tzh0KFDpKenc/v2bQYPHkxkZCQXL15k\n8uTJdOzYkdatWxMVFYVaraZ+/fpcvHiRlJQUli1bRtWqVVm8eDG///47ycnJ1K9fn3nz5rF8+XLi\n4+O5e/cuCQkJeHt7Y2FhwY8//sgff/xB7dq1sba25n//+x+hoaGMHj2aCxcuULduXbZv386RI0dI\nT0/n2rVrDB8+nJ49e3LixAm+/vprFEUhNTWVxYsXY2hoCMCVK1fw8PBg69atAEyYMIGhQ4cSGRnJ\n8ePHyc7OpnPnzowYMQK1Wo2Pjw/JycksWLAAAwMDypQpw7JlyzAxMSmqvzZCiBLOa5XXK++7cO/C\nV9738OHDr7zv6yqWa8xVqlRhzZo1qNVqtmzZQnJyMsuXL2f9+vWEhYWRmJhIVFQUly9f5tNPP2Xd\nunX4+vqyadMmANLS0hg9enSeo/Dy5ctz//597edr166RnJzMypUrWbJkCTk5Ody9e5egoCBCQ0PZ\nsWMHmZmZpKamcvPmTRYtWsSUKVNytZmamkpQUBDDhw8nLCyMr7/+Gl9fX7Zv3/7M8e3t7Vm/fj2t\nW7fm22+/JSUlhXLlyrFu3Tq2bdvGmTNnSEx88rtfIyMjVq9ezdSpU1m/fj3vvPMObdq0wcPDgypV\nqvDLL79Qt25dLC0t6dWrl7YPAFJSUli1ahUBAQEEBgYCcPHiRfz8/AgJCaFz587s27dPu72NjQ2l\nS5fm0qVLJCcnEx8fj729Pbt372bRokWEhoZSrly5XOdy8OBBnJyc2LhxI/379+fhw4f/5qsWQgjx\nLxXL26Wevg2kcuXK/Prrr1y7do179+5pp45TU1O5du0azZo1IyAggK1bt6JSqcjOzta2YWNjk2f7\nCQkJNGzYkJycHADq1KlDv379mDhxItnZ2ajVaq5fv06dOnUoXbo0gHYq3MLCAgsLizxrNjU1xc7O\nDpVKhZmZGRkZGc9s27BhQ+353blzh1KlSnHv3j0mTpyIsbExaWlpZGVlPdMXz7sGHx4eTnx8PMOG\nDSMrK4vY2FhtrU+nuq2trbX7WllZMWfOHIyNjUlMTOS9997L1V6fPn3Yvn07VapUoVu3bgD4+fmx\nePFi7ty588wMxMiRI1m5ciVDhgzBysoKe3v7PPtdCCEK2vzP57/yvrr+gJG8FMuIWaVS5fpcrVo1\nrK2tWbt2LSEhIQwaNIgmTZqwbNkyPvnkE/z8/GjRogV/f0iZnt7zS09KSiIyMpIPP/xQuyw2NpbU\n1FQCAwOZP38+s2bNokaNGly+fFkbaOPGjSMxMTHPdv9Z879x9OhRbt68yZIlS5g4cSLp6enac3le\nuyqVCkVRuHfvHmfPniUiIoI1a9YQHBxMp06d2LFjR577Tp8+nblz5zJ//nwqVarEPx/s5ujoSFRU\nFAcOHKBbt25kZmayb98+lixZQnBwMDt27ODGjRva7Xft2kWPHj0ICQmhTp06hIeHv3I/CCGEeLFC\nGzFHRUXRs2dP7ef87si2tLTEzc0NtVpNTk4OVatWxcnJCUdHRxYuXEhgYCCVK1fONT39d3v27OHs\n2bPo6emhKArz5s3D3Nxcu75WrVp888037N27F41Gw7hx47C0tGT48OEMGjQIlUrFRx99hJWVVcF1\nwN/Y29uzYsUKBg4ciEqlonr16iQlJeW5fePGjVm0aBHOzs78v/buP6aq+o/j+JOLcCF+FVIqJJvo\n1OF0V6KctllbjCy8prR7maFLU6TV2sw1bK3lFV0rtbWQaGNBJCFTzJHhyH7MSbXGH2SRi6TUojUF\nFyA/urt1uef7h/NOwu+F71cu5xavx1/3fs7lnvdeXHjzOdz7+WRnZxMeHu4/5nQ6KSoqoqCg4IZf\nu2rVKvLz84mOjiYpKWnEeaxWK3fffTfd3d3+jBISEnA6nURFRXHvvfeSnJw8rPYXX3yR6OhoLBYL\nxcXFNxOFiIiMQmtlT0I7d+4kOzubpUuXjsvzaa1sEQlFoX4pW2tlCwBPPPEEfX1949aURURkfJny\n5i8xT2VlpdkliIhIAJoxi4iIhBA1ZhERkRCiS9kyLkL9TRZmaWtr839WXUZSPoEpn8D+rfloxiwi\nIhJC9HEpuWktLS1mlyAi8o90o49LqTGLiIiEEF3KFhERCSFqzCIiIiFEjVnGxOfz8dJLL5GXl8f6\n9cIfwUkAAAfvSURBVOv55Zdfhh0/fPgwubm5OJ1OTp48aVKV5hktn6qqKhwOBw6Hg9LSUpOqNM9o\n+Vx7zObNm6mtrTWhQvOMls2pU6dwOp04HA5cLteIjWn+7UbLp7KyktzcXB599FE++eQTk6ocZ4bI\nGJw4ccLYvn27YRiGcfr0aePJJ5/0H+vq6jJWrlxpeDweo6+vz397MgmUT0dHh7FmzRrD6/UaPp/P\nyMvLM9ra2swq1RSB8rnmtddeMxwOh3Hw4MGJLs9UgbLp7+83cnJyjN9//90wDMMoLy/3354sAuVz\n5coV47777jM8Ho/R29tr3H///WaVOa40Y5YxaWlp8e/VbLPZOHPmjP9Ya2srixcvJjIykri4OFJT\nU/nhhx/MKtUUgfKZPn06b7/9NuHh4f59xa1Wq1mlmiJQPgAfffQRYWFhI/YDnwwCZXP69Gnmzp3L\nq6++ymOPPUZSUhKJiYlmlWqKQPlER0eTnJyM2+3G7Xbf1Pa8oUQLjMiYDAwMEBsb678fHh6O1+tl\nypQpDAwMEBcX5z8WExPDwMCAGWWaJlA+ERERJCYmYhgGe/bsIT09nVmzZplY7cQLlE97ezsNDQ2U\nlJTw5ptvmlilOQJl09PTQ3NzM/X19dxyyy3k5+djs9km1esnUD4AM2bMICcnh6GhIQoLC80qc1yp\nMcuYxMbGMjg46L/v8/n8Pxh/PzY4ODisUU8GgfIB8Hg8vPDCC8TExLBjxw4zSjRVoHzq6+vp7Ozk\n8ccf57fffiMiIoKUlBSWL19uVrkTKlA2t956KwsXLuT2228HIDMzk7a2tknVmAPl09TURFdXF599\n9hkAmzZtIiMjg0WLFplS63jRpWwZk4yMDJqamgD45ptvmDt3rv/YokWLaGlpwePx0N/fz7lz54Yd\nnwwC5WMYBk899RTz5s2juLiY8PBws8o0TaB8ioqKqKuro7q6mjVr1rBhw4ZJ05QhcDYLFiygvb2d\n7u5uvF4v3377LXPmzDGrVFMEyichIYGoqCgiIyOxWq3ExcXR19dnVqnjRguMyJj4fD5cLhft7e0Y\nhsHLL79MU1MTqampPPDAAxw+fJhDhw5hGAaFhYU8+OCDZpc8oQLl4/P52LZtGzabzf/4bdu2sXjx\nYhMrnlijvX6u2b9/P0lJSaxdu9bEaifWaNkcP36ciooKAFasWMGWLVtMrnhijZZPSUkJn3/+ORaL\nhYyMDIqKiv7x/2tWYxYREQkhupQtIiISQtSYRUREQogas4iISAhRYxYREQkhaswiIiIhRI1ZRMZd\nc3Mz8+bN4/jx48PG7XY7zz//fNDO63K5WL16ddCeX2QiqDGLSFCkpaUNa8xnz57F7XYH7Xxut5uW\nlhZmz55Nc3Nz0M4jEmxaklNEgmL+/PlcuHCB/v5+4uLiOHbsGHa7nYsXLwLQ2NhIVVUVFouFu+66\ni+eee45Lly7hcrnweDxcvnyZrVu3kpWVhd1u55577uHs2bOEhYVRVlY2YtnXxsZGli5dyvLly6mp\nqWHJkiUAnDx5ktLSUgzDYMGCBezcuZNTp06NGMvKyqKxsRGr1cq+fftIS0sjJSWFffv2ERERgdPp\nJCoqipqaGrxeL2FhYZSWlnLbbbexa9cuWltb+euvv3jmmWdobW1l2rRp5Ofnc+XKFTZu3MjRo0cn\n/Hsg/0yaMYtI0GRnZ/Pxxx9jGIZ/FzKA3t5e9u/fT1VVFbW1tXR2dvLll19y/vx5Nm7cyDvvvENx\ncTE1NTXA1fXXc3JyeO+997jjjjv8SzRer66uDofDwbJly/j+++/p7OzE6/Wya9cuysvLOXr0KKmp\nqVy6dOmGY/+Nx+Ph4MGDrF69mp9//pny8nJqa2uZM2cOX3zxBZ9++ik9PT0cOXKEAwcOcObMGRwO\nB/X19QA0NDRgt9uDkK78W2nGLCJBY7fbcblczJw5k8zMTP94R0cH3d3d/uUlBwcH6ejoIDMzk7fe\neosjR474t8i8Jj09Hbi6m5DH4xl2nnPnzvHjjz/yyiuvABAWFkZtbS35+fnEx8czdepUAAoKCrh8\n+fKIsb+7fkHE6zeMmDp1Ktu3bycmJobz589js9m4cOGCf7nVhIQEtm7dClzdZe2nn37iww8/pKys\n7P9MUCYjzZhFJGhmzpzJH3/8QXV1NatWrfKP33nnncyYMYPKykqqq6tZt24dNpuNN954g0ceeYS9\ne/eyZMmSYQ0y0PrHdXV1PPvss1RUVFBRUcG7777L+++/T0JCAn19ffT29gKwe/duLl68OGKstbWV\nyMhIurq6MAxj2H7iFsvVX5P9/f2UlJTw+uuvs3v3bqxWK4ZhkJaWxnfffed/zKZNmwBwOp2UlZUx\nbdq0SbeHstwczZhFJKgefvhhPvjgA2bNmsWvv/4KQGJiIhs2bGD9+vUMDQ2RkpLCQw89xIoVK9iz\nZw/l5eVMnz6dnp6eUZ//zz//pKGhgWPHjvnHkpOTmT9/PidOnGDHjh0UFhZisVhIT09n4cKFNxzb\nvHkzW7ZsISUlhfj4+BHniY2NJSMjg7y8PKZMmUJ8fDxdXV3k5uby1VdfsXbtWoaGhnj66acByMrK\nori4mL17945TkjJZaBMLEZEgcLvdrFu3jrq6Ov+sW2Qs9GoRERlnX3/9NU6nk4KCAjVl+Z9pxiwi\nIhJC9KeciIhICFFjFhERCSFqzCIiIiFEjVlERCSEqDGLiIiEEDVmERGREPIfbb4XMCkD5swAAAAA\nSUVORK5CYII=\n",
      "text/plain": [
       "<matplotlib.figure.Figure at 0x10b950668>"
      ]
     },
     "metadata": {},
     "output_type": "display_data"
    }
   ],
   "source": [
    "cv_res = pd.DataFrame(\n",
    "    {\"CrossValMeans\":cv_means,\n",
    "     \"CrossValerrors\": cv_std,\n",
    "     \"Algorithm\":[\"SVC\",\n",
    "                  \"DecisionTree\",\n",
    "                  \"AdaBoost\",\n",
    "                  \"RandomForest\",\n",
    "                  \"ExtraTrees\",\n",
    "                  \"GradientBoosting\",\n",
    "                  \"MultipleLayerPerceptron\",\n",
    "                  \"KNeighboors\",\n",
    "                  \"LogisticRegression\",\n",
    "                  \"LinearDiscriminantAnalysis\"\n",
    "                 ]})\n",
    "g = sns.barplot(\"CrossValMeans\",\"Algorithm\",data = cv_res, palette=\"Set3\",orient = \"h\",**{'xerr':cv_std})\n",
    "g.set_xlabel(\"Mean Accuracy\")\n",
    "g = g.set_title(\"Cross validation scores\")"
   ]
  },
  {
   "cell_type": "code",
   "execution_count": 31,
   "metadata": {},
   "outputs": [
    {
     "data": {
      "text/html": [
       "<div>\n",
       "<style>\n",
       "    .dataframe thead tr:only-child th {\n",
       "        text-align: right;\n",
       "    }\n",
       "\n",
       "    .dataframe thead th {\n",
       "        text-align: left;\n",
       "    }\n",
       "\n",
       "    .dataframe tbody tr th {\n",
       "        vertical-align: top;\n",
       "    }\n",
       "</style>\n",
       "<table border=\"1\" class=\"dataframe\">\n",
       "  <thead>\n",
       "    <tr style=\"text-align: right;\">\n",
       "      <th></th>\n",
       "      <th>Algorithm</th>\n",
       "      <th>CrossValMeans</th>\n",
       "      <th>CrossValerrors</th>\n",
       "    </tr>\n",
       "  </thead>\n",
       "  <tbody>\n",
       "    <tr>\n",
       "      <th>0</th>\n",
       "      <td>SVC</td>\n",
       "      <td>0.800255</td>\n",
       "      <td>0.046489</td>\n",
       "    </tr>\n",
       "    <tr>\n",
       "      <th>1</th>\n",
       "      <td>DecisionTree</td>\n",
       "      <td>0.776379</td>\n",
       "      <td>0.045232</td>\n",
       "    </tr>\n",
       "    <tr>\n",
       "      <th>2</th>\n",
       "      <td>AdaBoost</td>\n",
       "      <td>0.759372</td>\n",
       "      <td>0.043310</td>\n",
       "    </tr>\n",
       "    <tr>\n",
       "      <th>3</th>\n",
       "      <td>RandomForest</td>\n",
       "      <td>0.801315</td>\n",
       "      <td>0.049744</td>\n",
       "    </tr>\n",
       "    <tr>\n",
       "      <th>4</th>\n",
       "      <td>ExtraTrees</td>\n",
       "      <td>0.794510</td>\n",
       "      <td>0.059912</td>\n",
       "    </tr>\n",
       "    <tr>\n",
       "      <th>5</th>\n",
       "      <td>GradientBoosting</td>\n",
       "      <td>0.831984</td>\n",
       "      <td>0.056835</td>\n",
       "    </tr>\n",
       "    <tr>\n",
       "      <th>6</th>\n",
       "      <td>MultipleLayerPerceptron</td>\n",
       "      <td>0.826353</td>\n",
       "      <td>0.055610</td>\n",
       "    </tr>\n",
       "    <tr>\n",
       "      <th>7</th>\n",
       "      <td>KNeighboors</td>\n",
       "      <td>0.805886</td>\n",
       "      <td>0.046205</td>\n",
       "    </tr>\n",
       "    <tr>\n",
       "      <th>8</th>\n",
       "      <td>LogisticRegression</td>\n",
       "      <td>0.832022</td>\n",
       "      <td>0.046187</td>\n",
       "    </tr>\n",
       "    <tr>\n",
       "      <th>9</th>\n",
       "      <td>LinearDiscriminantAnalysis</td>\n",
       "      <td>0.822932</td>\n",
       "      <td>0.041951</td>\n",
       "    </tr>\n",
       "  </tbody>\n",
       "</table>\n",
       "</div>"
      ],
      "text/plain": [
       "                    Algorithm  CrossValMeans  CrossValerrors\n",
       "0                         SVC       0.800255        0.046489\n",
       "1                DecisionTree       0.776379        0.045232\n",
       "2                    AdaBoost       0.759372        0.043310\n",
       "3                RandomForest       0.801315        0.049744\n",
       "4                  ExtraTrees       0.794510        0.059912\n",
       "5            GradientBoosting       0.831984        0.056835\n",
       "6     MultipleLayerPerceptron       0.826353        0.055610\n",
       "7                 KNeighboors       0.805886        0.046205\n",
       "8          LogisticRegression       0.832022        0.046187\n",
       "9  LinearDiscriminantAnalysis       0.822932        0.041951"
      ]
     },
     "execution_count": 31,
     "metadata": {},
     "output_type": "execute_result"
    }
   ],
   "source": [
    "cv_res"
   ]
  },
  {
   "cell_type": "code",
   "execution_count": 32,
   "metadata": {},
   "outputs": [],
   "source": [
    "# Optimize & Analyze:\n",
    "# SVC,\n",
    "# AdaBoost, \n",
    "# RandomForest, \n",
    "# ExtraTrees, \n",
    "# GradientBoosting, \n",
    "# MultiLayerPerceptrion, \n",
    "# KNeighbors, \n",
    "# Logistic Regression"
   ]
  },
  {
   "cell_type": "code",
   "execution_count": 33,
   "metadata": {},
   "outputs": [
    {
     "name": "stdout",
     "output_type": "stream",
     "text": [
      "Fitting 10 folds for each of 28 candidates, totalling 280 fits\n"
     ]
    },
    {
     "name": "stderr",
     "output_type": "stream",
     "text": [
      "[Parallel(n_jobs=-1)]: Done  42 tasks      | elapsed:    2.2s\n",
      "[Parallel(n_jobs=-1)]: Done 192 tasks      | elapsed:   14.7s\n",
      "[Parallel(n_jobs=-1)]: Done 280 out of 280 | elapsed:   29.1s finished\n"
     ]
    },
    {
     "data": {
      "text/plain": [
       "0.83314415437003408"
      ]
     },
     "execution_count": 33,
     "metadata": {},
     "output_type": "execute_result"
    }
   ],
   "source": [
    "#Support Vector Machine Optimization\n",
    "SVMC = SVC(probability=True)\n",
    "svc_param_grid = {'kernel': ['rbf'], \n",
    "                  'gamma': [ 0.001, 0.01, 0.1, 1],\n",
    "                  'C': [1, 10, 50, 100,200,300, 1000]}\n",
    "\n",
    "gsSVMC = GridSearchCV(SVMC,param_grid = svc_param_grid, cv=kfold, scoring=\"accuracy\", n_jobs= -1, verbose = 1)\n",
    "\n",
    "gsSVMC.fit(X,y)\n",
    "\n",
    "SVMC_best = gsSVMC.best_estimator_\n",
    "\n",
    "# Best Score\n",
    "gsSVMC.best_score_"
   ]
  },
  {
   "cell_type": "code",
   "execution_count": 34,
   "metadata": {},
   "outputs": [
    {
     "name": "stdout",
     "output_type": "stream",
     "text": [
      "Fitting 10 folds for each of 112 candidates, totalling 1120 fits\n"
     ]
    },
    {
     "name": "stderr",
     "output_type": "stream",
     "text": [
      "[Parallel(n_jobs=-1)]: Done 712 tasks      | elapsed:    4.3s\n",
      "[Parallel(n_jobs=-1)]: Done 1120 out of 1120 | elapsed:    6.1s finished\n"
     ]
    },
    {
     "data": {
      "text/plain": [
       "0.79682179341657211"
      ]
     },
     "execution_count": 34,
     "metadata": {},
     "output_type": "execute_result"
    }
   ],
   "source": [
    "#AdaBoost Optimization\n",
    "DTC = DecisionTreeClassifier()\n",
    "adaDTC = AdaBoostClassifier(DTC, random_state=7)\n",
    "ada_param_grid = {\"base_estimator__criterion\" : [\"gini\", \"entropy\"],\n",
    "              \"base_estimator__splitter\" :   [\"best\", \"random\"],\n",
    "              \"algorithm\" : [\"SAMME\",\"SAMME.R\"],\n",
    "              \"n_estimators\" :[1,2],\n",
    "              \"learning_rate\":  [0.0001, 0.001, 0.01, 0.1, 0.2, 0.3,1.5]\n",
    "                 }\n",
    "\n",
    "gsadaDTC = GridSearchCV(adaDTC,param_grid = ada_param_grid, cv=kfold, scoring=\"accuracy\", n_jobs= -1, verbose = 1)\n",
    "\n",
    "gsadaDTC.fit(X,y)\n",
    "\n",
    "ada_best = gsadaDTC.best_estimator_\n",
    "# Best Score\n",
    "gsadaDTC.best_score_"
   ]
  },
  {
   "cell_type": "code",
   "execution_count": 35,
   "metadata": {},
   "outputs": [
    {
     "name": "stdout",
     "output_type": "stream",
     "text": [
      "Fitting 10 folds for each of 162 candidates, totalling 1620 fits\n"
     ]
    },
    {
     "name": "stderr",
     "output_type": "stream",
     "text": [
      "[Parallel(n_jobs=-1)]: Done  42 tasks      | elapsed:   10.5s\n",
      "[Parallel(n_jobs=-1)]: Done 192 tasks      | elapsed:   53.3s\n",
      "[Parallel(n_jobs=-1)]: Done 442 tasks      | elapsed:  1.9min\n",
      "[Parallel(n_jobs=-1)]: Done 792 tasks      | elapsed:  3.4min\n",
      "[Parallel(n_jobs=-1)]: Done 1242 tasks      | elapsed:  5.2min\n",
      "[Parallel(n_jobs=-1)]: Done 1620 out of 1620 | elapsed:  6.6min finished\n"
     ]
    },
    {
     "data": {
      "text/plain": [
       "0.83768444948921683"
      ]
     },
     "execution_count": 35,
     "metadata": {},
     "output_type": "execute_result"
    }
   ],
   "source": [
    "#Random Forest Optimization\n",
    "clf_rf = RandomForestClassifier()\n",
    "rf_param_grid = {'max_depth': [4,6,8],\n",
    "                'max_features':['sqrt','log2','auto'],\n",
    "                'min_samples_split': [1.0,3,9],\n",
    "                'min_samples_leaf': [1,3,9],\n",
    "                'bootstrap': [False],\n",
    "                'n_estimators': [100,300],\n",
    "                'criterion': ['gini']\n",
    "                }\n",
    "gsRFC = GridSearchCV(clf_rf, param_grid = rf_param_grid, cv=kfold, scoring='accuracy', n_jobs= -1, verbose = 1)\n",
    "gsRFC.fit(X,y)\n",
    "RFC_best = gsRFC.best_estimator_\n",
    "gsRFC.best_score_"
   ]
  },
  {
   "cell_type": "code",
   "execution_count": 36,
   "metadata": {},
   "outputs": [
    {
     "name": "stdout",
     "output_type": "stream",
     "text": [
      "Fitting 10 folds for each of 162 candidates, totalling 1620 fits\n"
     ]
    },
    {
     "name": "stderr",
     "output_type": "stream",
     "text": [
      "[Parallel(n_jobs=-1)]: Done  42 tasks      | elapsed:   13.4s\n",
      "[Parallel(n_jobs=-1)]: Done 192 tasks      | elapsed:   48.9s\n",
      "[Parallel(n_jobs=-1)]: Done 442 tasks      | elapsed:  1.6min\n",
      "[Parallel(n_jobs=-1)]: Done 792 tasks      | elapsed:  2.7min\n",
      "[Parallel(n_jobs=-1)]: Done 1242 tasks      | elapsed:  4.2min\n",
      "[Parallel(n_jobs=-1)]: Done 1620 out of 1620 | elapsed:  5.8min finished\n"
     ]
    },
    {
     "data": {
      "text/plain": [
       "0.8354143019296254"
      ]
     },
     "execution_count": 36,
     "metadata": {},
     "output_type": "execute_result"
    }
   ],
   "source": [
    "#ExtraTrees Optimization\n",
    "ExtC = ExtraTreesClassifier()\n",
    "\n",
    "\n",
    "## Search grid for optimal parameters\n",
    "ex_param_grid = {\"max_depth\": [4,6,8],\n",
    "              \"max_features\": ['sqrt','log2','auto'],\n",
    "              \"min_samples_split\": [1.0, 3, 9],\n",
    "              \"min_samples_leaf\": [1, 3, 9],\n",
    "              \"bootstrap\": [False],\n",
    "              \"n_estimators\" :[100,300],\n",
    "              \"criterion\": [\"gini\"]\n",
    "                }\n",
    "\n",
    "\n",
    "gsExtC = GridSearchCV(ExtC,param_grid = ex_param_grid, cv=kfold, scoring=\"accuracy\", n_jobs= -1, verbose = 1)\n",
    "\n",
    "gsExtC.fit(X,y)\n",
    "\n",
    "ExtC_best = gsExtC.best_estimator_\n",
    "\n",
    "# Best score\n",
    "gsExtC.best_score_"
   ]
  },
  {
   "cell_type": "code",
   "execution_count": 37,
   "metadata": {
    "scrolled": true
   },
   "outputs": [
    {
     "name": "stdout",
     "output_type": "stream",
     "text": [
      "Fitting 10 folds for each of 486 candidates, totalling 4860 fits\n"
     ]
    },
    {
     "name": "stderr",
     "output_type": "stream",
     "text": [
      "[Parallel(n_jobs=-1)]: Done  76 tasks      | elapsed:    5.7s\n",
      "[Parallel(n_jobs=-1)]: Done 376 tasks      | elapsed:   26.5s\n",
      "[Parallel(n_jobs=-1)]: Done 869 tasks      | elapsed:  1.3min\n",
      "[Parallel(n_jobs=-1)]: Done 1219 tasks      | elapsed:  2.4min\n",
      "[Parallel(n_jobs=-1)]: Done 1669 tasks      | elapsed:  3.8min\n",
      "[Parallel(n_jobs=-1)]: Done 2219 tasks      | elapsed:  4.5min\n",
      "[Parallel(n_jobs=-1)]: Done 2869 tasks      | elapsed: 58.3min\n",
      "[Parallel(n_jobs=-1)]: Done 3619 tasks      | elapsed: 60.0min\n",
      "[Parallel(n_jobs=-1)]: Done 4469 tasks      | elapsed: 62.2min\n",
      "[Parallel(n_jobs=-1)]: Done 4860 out of 4860 | elapsed: 63.7min finished\n"
     ]
    },
    {
     "data": {
      "text/plain": [
       "0.83768444948921683"
      ]
     },
     "execution_count": 37,
     "metadata": {},
     "output_type": "execute_result"
    }
   ],
   "source": [
    "#Gradient Boosting Optimization\n",
    "GBC = GradientBoostingClassifier()\n",
    "gb_param_grid = {'loss' : [\"deviance\"],\n",
    "              'n_estimators' : [100,150,200],\n",
    "              'learning_rate': [0.1, 0.05, 0.01],\n",
    "              'max_depth': [4, 8],\n",
    "              'min_samples_leaf': [1, 3, 9],\n",
    "              'min_samples_split': [1.0,3,10],\n",
    "              'max_features': ['sqrt','log2',None] \n",
    "              }\n",
    "\n",
    "gsGBC = GridSearchCV(GBC,param_grid = gb_param_grid, cv=kfold, scoring=\"accuracy\", n_jobs= -1, verbose = 1)\n",
    "\n",
    "gsGBC.fit(X,y)\n",
    "\n",
    "GBC_best = gsGBC.best_estimator_\n",
    "\n",
    "# Best score\n",
    "gsGBC.best_score_"
   ]
  },
  {
   "cell_type": "code",
   "execution_count": 38,
   "metadata": {},
   "outputs": [
    {
     "name": "stdout",
     "output_type": "stream",
     "text": [
      "Fitting 10 folds for each of 12 candidates, totalling 120 fits\n"
     ]
    },
    {
     "name": "stderr",
     "output_type": "stream",
     "text": [
      "[Parallel(n_jobs=-1)]: Done  42 tasks      | elapsed:   18.9s\n",
      "[Parallel(n_jobs=-1)]: Done 120 out of 120 | elapsed:   57.2s finished\n"
     ]
    },
    {
     "data": {
      "text/plain": [
       "0.83200908059023837"
      ]
     },
     "execution_count": 38,
     "metadata": {},
     "output_type": "execute_result"
    }
   ],
   "source": [
    "#Multiple Layer Perceptron Optimization\n",
    "MLP = MLPClassifier()\n",
    "mlp_param_grid = {'hidden_layer_sizes' : [(8,),(20,),(100,)],\n",
    "                  'activation' : ['tanh','relu'],\n",
    "                  'solver' : ['lbfgs','adam'],\n",
    "                  'max_iter' : [1000]}\n",
    "\n",
    "gsMLP = GridSearchCV(MLP,param_grid = mlp_param_grid, cv=kfold, scoring='accuracy',n_jobs=-1,verbose=1)\n",
    "gsMLP.fit(X,y)\n",
    "MLP_best = gsMLP.best_estimator_\n",
    "\n",
    "gsMLP.best_score_"
   ]
  },
  {
   "cell_type": "code",
   "execution_count": 39,
   "metadata": {
    "scrolled": true
   },
   "outputs": [
    {
     "name": "stdout",
     "output_type": "stream",
     "text": [
      "Fitting 10 folds for each of 32 candidates, totalling 320 fits\n"
     ]
    },
    {
     "name": "stderr",
     "output_type": "stream",
     "text": [
      "[Parallel(n_jobs=-1)]: Done 320 out of 320 | elapsed:    3.1s finished\n"
     ]
    },
    {
     "data": {
      "text/plain": [
       "0.82292849035187288"
      ]
     },
     "execution_count": 39,
     "metadata": {},
     "output_type": "execute_result"
    }
   ],
   "source": [
    "#K Nearest Neighbors Optimization\n",
    "KNN = KNeighborsClassifier()\n",
    "knn_param_grid = {'n_neighbors' : [10,15,25,50],\n",
    "                 'weights' : ['uniform','distance'],\n",
    "                  'leaf_size' : [25,50,100,200]}\n",
    "\n",
    "gsKNN = GridSearchCV(KNN,param_grid = knn_param_grid,cv=kfold, scoring ='accuracy',n_jobs=-1, verbose =1)\n",
    "gsKNN.fit(X,y)\n",
    "KNN_best = gsKNN.best_estimator_\n",
    "\n",
    "gsKNN.best_score_"
   ]
  },
  {
   "cell_type": "code",
   "execution_count": 40,
   "metadata": {
    "scrolled": true
   },
   "outputs": [
    {
     "data": {
      "text/plain": [
       "LogisticRegression(C=1.0, class_weight=None, dual=False, fit_intercept=True,\n",
       "          intercept_scaling=1, max_iter=100, multi_class='ovr', n_jobs=1,\n",
       "          penalty='l2', random_state=None, solver='liblinear', tol=0.0001,\n",
       "          verbose=0, warm_start=False)"
      ]
     },
     "execution_count": 40,
     "metadata": {},
     "output_type": "execute_result"
    }
   ],
   "source": [
    "#Fit Logistic Regression model\n",
    "LGR = LogisticRegression()\n",
    "LGR.fit(X,y)"
   ]
  },
  {
   "cell_type": "code",
   "execution_count": 41,
   "metadata": {
    "scrolled": true
   },
   "outputs": [
    {
     "data": {
      "image/png": "iVBORw0KGgoAAAANSUhEUgAAAVkAAAD0CAYAAAAxB1VfAAAABHNCSVQICAgIfAhkiAAAAAlwSFlz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\n",
      "text/plain": [
       "<matplotlib.figure.Figure at 0x10bc143c8>"
      ]
     },
     "metadata": {},
     "output_type": "display_data"
    }
   ],
   "source": [
    "test_Survived_MLP = pd.Series(MLP_best.predict(x_test), name='MLP')\n",
    "test_Survived_KNN = pd.Series(KNN_best.predict(x_test), name ='KNN')\n",
    "test_Survived_LGR = pd.Series(LGR.predict(x_test), name='LGR')\n",
    "test_Survived_RFC = pd.Series(RFC_best.predict(x_test), name=\"RFC\")\n",
    "test_Survived_ExtC = pd.Series(ExtC_best.predict(x_test), name=\"ExtC\")\n",
    "test_Survived_SVMC = pd.Series(SVMC_best.predict(x_test), name=\"SVC\")\n",
    "test_Survived_AdaC = pd.Series(ada_best.predict(x_test), name=\"Ada\")\n",
    "test_Survived_GBC = pd.Series(GBC_best.predict(x_test), name=\"GBC\")\n",
    "\n",
    "\n",
    "# Concatenate all classifier results\n",
    "ensemble_results = pd.concat([test_Survived_MLP,test_Survived_KNN,test_Survived_LGR,test_Survived_RFC,test_Survived_ExtC,test_Survived_AdaC,test_Survived_GBC, test_Survived_SVMC],axis=1)\n",
    "\n",
    "# Create correlation heatmap between classifiers\n",
    "g= sns.heatmap(ensemble_results.corr(),annot=True)"
   ]
  },
  {
   "cell_type": "code",
   "execution_count": 42,
   "metadata": {},
   "outputs": [
    {
     "name": "stderr",
     "output_type": "stream",
     "text": [
      "[Parallel(n_jobs=1)]: Done  10 out of  10 | elapsed:    8.5s finished\n"
     ]
    },
    {
     "data": {
      "text/plain": [
       "VotingClassifier(estimators=[('rfc', RandomForestClassifier(bootstrap=False, class_weight=None, criterion='gini',\n",
       "            max_depth=8, max_features='auto', max_leaf_nodes=None,\n",
       "            min_impurity_decrease=0.0, min_impurity_split=None,\n",
       "            min_samples_leaf=9, min_samples_split=9,\n",
       "            min_wei...imators=100, n_jobs=1,\n",
       "           oob_score=False, random_state=None, verbose=0, warm_start=False))],\n",
       "         flatten_transform=None, n_jobs=1, voting='soft', weights=None)"
      ]
     },
     "execution_count": 42,
     "metadata": {},
     "output_type": "execute_result"
    }
   ],
   "source": [
    "#Pick classifiers with low correlation and high accuracy\n",
    "votingC = VotingClassifier(estimators=[('rfc', RFC_best),\n",
    "                                       ('gbc',GBC_best),\n",
    "                                       ('svm',SVMC_best),\n",
    "                                       ('xtc',ExtC_best)], \n",
    "                                           voting='soft')\n",
    "#Fit voting classifier to training set\n",
    "final_score = cross_val_score(votingC, X, y = y, \n",
    "                              scoring = 'accuracy', \n",
    "                              cv = kfold, \n",
    "                              verbose =1)\n",
    "votingC.fit(X,y)"
   ]
  },
  {
   "cell_type": "code",
   "execution_count": 43,
   "metadata": {},
   "outputs": [
    {
     "name": "stdout",
     "output_type": "stream",
     "text": [
      "0.835418794688\n"
     ]
    }
   ],
   "source": [
    "print(final_score.mean())"
   ]
  },
  {
   "cell_type": "code",
   "execution_count": 44,
   "metadata": {},
   "outputs": [],
   "source": [
    "#Predict with training set, write to csv for submission\n",
    "test_Survived = pd.Series(votingC.predict(x_test).astype(int),name='Survived')\n",
    "result = pd.concat([IDtest,test_Survived], axis=1)\n",
    "result.to_csv(\"results.csv\",index=False)"
   ]
  },
  {
   "cell_type": "code",
   "execution_count": null,
   "metadata": {},
   "outputs": [],
   "source": []
  }
 ],
 "metadata": {
  "kernelspec": {
   "display_name": "Python 3",
   "language": "python",
   "name": "python3"
  },
  "language_info": {
   "codemirror_mode": {
    "name": "ipython",
    "version": 3
   },
   "file_extension": ".py",
   "mimetype": "text/x-python",
   "name": "python",
   "nbconvert_exporter": "python",
   "pygments_lexer": "ipython3",
<<<<<<< HEAD
   "version": "3.6.3"
=======
   "version": "3.6.2"
>>>>>>> 114d79bf400187c96be9f52135011a2eb401a61e
  }
 },
 "nbformat": 4,
 "nbformat_minor": 2
}
