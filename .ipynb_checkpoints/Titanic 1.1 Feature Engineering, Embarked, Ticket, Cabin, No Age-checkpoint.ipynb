{
 "cells": [
  {
   "cell_type": "code",
   "execution_count": 296,
   "metadata": {},
   "outputs": [],
   "source": [
    "import matplotlib.pyplot as plt\n",
    "%matplotlib inline\n",
    "\n",
    "import numpy as np\n",
    "import pandas as pd\n",
    "from sklearn.ensemble import RandomForestClassifier, AdaBoostClassifier, GradientBoostingClassifier, ExtraTreesClassifier, VotingClassifier\n",
    "from sklearn.discriminant_analysis import LinearDiscriminantAnalysis\n",
    "from sklearn.linear_model import LogisticRegression\n",
    "from sklearn.neighbors import KNeighborsClassifier\n",
    "from sklearn.tree import DecisionTreeClassifier\n",
    "from sklearn.neural_network import MLPClassifier\n",
    "from sklearn.svm import SVC\n",
    "from sklearn.model_selection import GridSearchCV, cross_val_score, learning_curve, KFold\n",
    "from sklearn.preprocessing import LabelEncoder, StandardScaler, MinMaxScaler\n",
    "from sklearn.metrics import accuracy_score\n",
    "from sklearn.decomposition import PCA\n",
    "import seaborn as sns\n",
    "sns.set_style('whitegrid')\n",
    "import re\n",
    "from collections import Counter"
   ]
  },
  {
   "cell_type": "code",
   "execution_count": 297,
   "metadata": {},
   "outputs": [],
   "source": [
    "#Import the training data\n",
    "train_data = pd.read_csv('titanic_train.csv',\n",
    "                        delimiter = ',',\n",
    "                        index_col=None,\n",
    "                        engine='python')"
   ]
  },
  {
   "cell_type": "code",
   "execution_count": 298,
   "metadata": {},
   "outputs": [],
   "source": [
    "#Import the test data\n",
    "test_data = pd.read_csv('test.csv', \n",
    "                        delimiter=',',\n",
    "                        na_values=['NA'],\n",
    "                        index_col=None,\n",
    "                        engine='python')"
   ]
  },
  {
   "cell_type": "code",
   "execution_count": 299,
   "metadata": {},
   "outputs": [],
   "source": [
    "#Combine test and training data\n",
    "train_len = len(train_data)\n",
    "joined_data = pd.concat([train_data, test_data],axis=0,).reset_index(drop=True)"
   ]
  },
  {
   "cell_type": "code",
   "execution_count": 300,
   "metadata": {},
   "outputs": [
    {
     "data": {
      "text/html": [
       "<div>\n",
       "<style>\n",
       "    .dataframe thead tr:only-child th {\n",
       "        text-align: right;\n",
       "    }\n",
       "\n",
       "    .dataframe thead th {\n",
       "        text-align: left;\n",
       "    }\n",
       "\n",
       "    .dataframe tbody tr th {\n",
       "        vertical-align: top;\n",
       "    }\n",
       "</style>\n",
       "<table border=\"1\" class=\"dataframe\">\n",
       "  <thead>\n",
       "    <tr style=\"text-align: right;\">\n",
       "      <th></th>\n",
       "      <th>PassengerId</th>\n",
       "      <th>Survived</th>\n",
       "      <th>Pclass</th>\n",
       "      <th>Name</th>\n",
       "      <th>Sex</th>\n",
       "      <th>Age</th>\n",
       "      <th>SibSp</th>\n",
       "      <th>Parch</th>\n",
       "      <th>Ticket</th>\n",
       "      <th>Fare</th>\n",
       "      <th>Cabin</th>\n",
       "      <th>Embarked</th>\n",
       "    </tr>\n",
       "  </thead>\n",
       "  <tbody>\n",
       "    <tr>\n",
       "      <th>0</th>\n",
       "      <td>1</td>\n",
       "      <td>0</td>\n",
       "      <td>3</td>\n",
       "      <td>Braund, Mr. Owen Harris</td>\n",
       "      <td>male</td>\n",
       "      <td>22.0</td>\n",
       "      <td>1</td>\n",
       "      <td>0</td>\n",
       "      <td>A/5 21171</td>\n",
       "      <td>7.2500</td>\n",
       "      <td>NaN</td>\n",
       "      <td>S</td>\n",
       "    </tr>\n",
       "    <tr>\n",
       "      <th>1</th>\n",
       "      <td>2</td>\n",
       "      <td>1</td>\n",
       "      <td>1</td>\n",
       "      <td>Cumings, Mrs. John Bradley (Florence Briggs Th...</td>\n",
       "      <td>female</td>\n",
       "      <td>38.0</td>\n",
       "      <td>1</td>\n",
       "      <td>0</td>\n",
       "      <td>PC 17599</td>\n",
       "      <td>71.2833</td>\n",
       "      <td>C85</td>\n",
       "      <td>C</td>\n",
       "    </tr>\n",
       "    <tr>\n",
       "      <th>2</th>\n",
       "      <td>3</td>\n",
       "      <td>1</td>\n",
       "      <td>3</td>\n",
       "      <td>Heikkinen, Miss. Laina</td>\n",
       "      <td>female</td>\n",
       "      <td>26.0</td>\n",
       "      <td>0</td>\n",
       "      <td>0</td>\n",
       "      <td>STON/O2. 3101282</td>\n",
       "      <td>7.9250</td>\n",
       "      <td>NaN</td>\n",
       "      <td>S</td>\n",
       "    </tr>\n",
       "    <tr>\n",
       "      <th>3</th>\n",
       "      <td>4</td>\n",
       "      <td>1</td>\n",
       "      <td>1</td>\n",
       "      <td>Futrelle, Mrs. Jacques Heath (Lily May Peel)</td>\n",
       "      <td>female</td>\n",
       "      <td>35.0</td>\n",
       "      <td>1</td>\n",
       "      <td>0</td>\n",
       "      <td>113803</td>\n",
       "      <td>53.1000</td>\n",
       "      <td>C123</td>\n",
       "      <td>S</td>\n",
       "    </tr>\n",
       "    <tr>\n",
       "      <th>4</th>\n",
       "      <td>5</td>\n",
       "      <td>0</td>\n",
       "      <td>3</td>\n",
       "      <td>Allen, Mr. William Henry</td>\n",
       "      <td>male</td>\n",
       "      <td>35.0</td>\n",
       "      <td>0</td>\n",
       "      <td>0</td>\n",
       "      <td>373450</td>\n",
       "      <td>8.0500</td>\n",
       "      <td>NaN</td>\n",
       "      <td>S</td>\n",
       "    </tr>\n",
       "  </tbody>\n",
       "</table>\n",
       "</div>"
      ],
      "text/plain": [
       "   PassengerId  Survived  Pclass  \\\n",
       "0            1         0       3   \n",
       "1            2         1       1   \n",
       "2            3         1       3   \n",
       "3            4         1       1   \n",
       "4            5         0       3   \n",
       "\n",
       "                                                Name     Sex   Age  SibSp  \\\n",
       "0                            Braund, Mr. Owen Harris    male  22.0      1   \n",
       "1  Cumings, Mrs. John Bradley (Florence Briggs Th...  female  38.0      1   \n",
       "2                             Heikkinen, Miss. Laina  female  26.0      0   \n",
       "3       Futrelle, Mrs. Jacques Heath (Lily May Peel)  female  35.0      1   \n",
       "4                           Allen, Mr. William Henry    male  35.0      0   \n",
       "\n",
       "   Parch            Ticket     Fare Cabin Embarked  \n",
       "0      0         A/5 21171   7.2500   NaN        S  \n",
       "1      0          PC 17599  71.2833   C85        C  \n",
       "2      0  STON/O2. 3101282   7.9250   NaN        S  \n",
       "3      0            113803  53.1000  C123        S  \n",
       "4      0            373450   8.0500   NaN        S  "
      ]
     },
     "execution_count": 300,
     "metadata": {},
     "output_type": "execute_result"
    }
   ],
   "source": [
    "train_data.head()"
   ]
  },
  {
   "cell_type": "code",
   "execution_count": 301,
   "metadata": {},
   "outputs": [
    {
     "data": {
      "text/plain": [
       "0.38383838383838381"
      ]
     },
     "execution_count": 301,
     "metadata": {},
     "output_type": "execute_result"
    }
   ],
   "source": [
    "#Baseline Mean\n",
    "train_data['Survived'].mean()"
   ]
  },
  {
   "cell_type": "code",
   "execution_count": 302,
   "metadata": {},
   "outputs": [
    {
     "data": {
      "text/html": [
       "<div>\n",
       "<style>\n",
       "    .dataframe thead tr:only-child th {\n",
       "        text-align: right;\n",
       "    }\n",
       "\n",
       "    .dataframe thead th {\n",
       "        text-align: left;\n",
       "    }\n",
       "\n",
       "    .dataframe tbody tr th {\n",
       "        vertical-align: top;\n",
       "    }\n",
       "</style>\n",
       "<table border=\"1\" class=\"dataframe\">\n",
       "  <thead>\n",
       "    <tr style=\"text-align: right;\">\n",
       "      <th></th>\n",
       "      <th></th>\n",
       "      <th>Survived</th>\n",
       "      <th>Age</th>\n",
       "      <th>Fare</th>\n",
       "      <th>Parch</th>\n",
       "      <th>SibSp</th>\n",
       "    </tr>\n",
       "    <tr>\n",
       "      <th>Pclass</th>\n",
       "      <th>Sex</th>\n",
       "      <th></th>\n",
       "      <th></th>\n",
       "      <th></th>\n",
       "      <th></th>\n",
       "      <th></th>\n",
       "    </tr>\n",
       "  </thead>\n",
       "  <tbody>\n",
       "    <tr>\n",
       "      <th rowspan=\"2\" valign=\"top\">1</th>\n",
       "      <th>female</th>\n",
       "      <td>0.968085</td>\n",
       "      <td>34.611765</td>\n",
       "      <td>106.125798</td>\n",
       "      <td>0.457447</td>\n",
       "      <td>0.553191</td>\n",
       "    </tr>\n",
       "    <tr>\n",
       "      <th>male</th>\n",
       "      <td>0.368852</td>\n",
       "      <td>41.281386</td>\n",
       "      <td>67.226127</td>\n",
       "      <td>0.278689</td>\n",
       "      <td>0.311475</td>\n",
       "    </tr>\n",
       "    <tr>\n",
       "      <th rowspan=\"2\" valign=\"top\">2</th>\n",
       "      <th>female</th>\n",
       "      <td>0.921053</td>\n",
       "      <td>28.722973</td>\n",
       "      <td>21.970121</td>\n",
       "      <td>0.605263</td>\n",
       "      <td>0.486842</td>\n",
       "    </tr>\n",
       "    <tr>\n",
       "      <th>male</th>\n",
       "      <td>0.157407</td>\n",
       "      <td>30.740707</td>\n",
       "      <td>19.741782</td>\n",
       "      <td>0.222222</td>\n",
       "      <td>0.342593</td>\n",
       "    </tr>\n",
       "    <tr>\n",
       "      <th rowspan=\"2\" valign=\"top\">3</th>\n",
       "      <th>female</th>\n",
       "      <td>0.500000</td>\n",
       "      <td>21.750000</td>\n",
       "      <td>16.118810</td>\n",
       "      <td>0.798611</td>\n",
       "      <td>0.895833</td>\n",
       "    </tr>\n",
       "    <tr>\n",
       "      <th>male</th>\n",
       "      <td>0.135447</td>\n",
       "      <td>26.507589</td>\n",
       "      <td>12.661633</td>\n",
       "      <td>0.224784</td>\n",
       "      <td>0.498559</td>\n",
       "    </tr>\n",
       "  </tbody>\n",
       "</table>\n",
       "</div>"
      ],
      "text/plain": [
       "               Survived        Age        Fare     Parch     SibSp\n",
       "Pclass Sex                                                        \n",
       "1      female  0.968085  34.611765  106.125798  0.457447  0.553191\n",
       "       male    0.368852  41.281386   67.226127  0.278689  0.311475\n",
       "2      female  0.921053  28.722973   21.970121  0.605263  0.486842\n",
       "       male    0.157407  30.740707   19.741782  0.222222  0.342593\n",
       "3      female  0.500000  21.750000   16.118810  0.798611  0.895833\n",
       "       male    0.135447  26.507589   12.661633  0.224784  0.498559"
      ]
     },
     "execution_count": 302,
     "metadata": {},
     "output_type": "execute_result"
    }
   ],
   "source": [
    "train_data[['Survived','Age','Fare','Parch','SibSp','Pclass','Sex']].groupby(['Pclass','Sex']).mean()"
   ]
  },
  {
   "cell_type": "code",
   "execution_count": 303,
   "metadata": {},
   "outputs": [
    {
     "data": {
      "text/plain": [
       "<matplotlib.axes._subplots.AxesSubplot at 0x113da6550>"
      ]
     },
     "execution_count": 303,
     "metadata": {},
     "output_type": "execute_result"
    },
    {
     "data": {
      "image/png": "[encoded data removed]",
      "text/plain": [
       "<matplotlib.figure.Figure at 0x113df7940>"
      ]
     },
     "metadata": {},
     "output_type": "display_data"
    }
   ],
   "source": [
    "class_sex_grouping = train_data.groupby(['Pclass','Sex']).mean()\n",
    "sns.barplot(x=\"Pclass\",\n",
    "            y=\"Survived\",\n",
    "            hue ='Sex',\n",
    "            data=class_sex_grouping.reset_index())"
   ]
  },
  {
   "cell_type": "code",
   "execution_count": 304,
   "metadata": {
    "scrolled": true
   },
   "outputs": [
    {
     "name": "stderr",
     "output_type": "stream",
     "text": [
      "/usr/local/lib/python3.6/site-packages/ipykernel_launcher.py:2: SettingWithCopyWarning: \n",
      "A value is trying to be set on a copy of a slice from a DataFrame.\n",
      "Try using .loc[row_indexer,col_indexer] = value instead\n",
      "\n",
      "See the caveats in the documentation: http://pandas.pydata.org/pandas-docs/stable/indexing.html#indexing-view-versus-copy\n",
      "  \n"
     ]
    },
    {
     "data": {
      "text/plain": [
       "<matplotlib.axes._subplots.AxesSubplot at 0x116e5d358>"
      ]
     },
     "execution_count": 304,
     "metadata": {},
     "output_type": "execute_result"
    },
    {
     "data": {
      "image/png": "[encoded data removed]",
      "text/plain": [
       "<matplotlib.figure.Figure at 0x1152b13c8>"
      ]
     },
     "metadata": {},
     "output_type": "display_data"
    }
   ],
   "source": [
    "family_size = train_data[['Survived','Parch','SibSp']]\n",
    "family_size['family_size'] = family_size['Parch']+family_size['SibSp'] +1\n",
    "sns.barplot(x='family_size',y='Survived',data=family_size)"
   ]
  },
  {
   "cell_type": "code",
   "execution_count": 305,
   "metadata": {},
   "outputs": [
    {
     "data": {
      "text/plain": [
       "<matplotlib.axes._subplots.AxesSubplot at 0x1181de198>"
      ]
     },
     "execution_count": 305,
     "metadata": {},
     "output_type": "execute_result"
    },
    {
     "data": {
      "image/png": "[encoded data removed]",
      "text/plain": [
       "<matplotlib.figure.Figure at 0x1175902e8>"
      ]
     },
     "metadata": {},
     "output_type": "display_data"
    },
    {
     "data": {
      "image/png": "[encoded data removed]",
      "text/plain": [
       "<matplotlib.figure.Figure at 0x117590780>"
      ]
     },
     "metadata": {},
     "output_type": "display_data"
    }
   ],
   "source": [
    "#Density by age\n",
    "ages = sns.FacetGrid(train_data, hue='Survived', aspect = 4)\n",
    "ages.map(sns.kdeplot, 'Age', shade = True)\n",
    "ages.set(xlim=(0,titanic_df['Age'].max()))\n",
    "ages.add_legend()\n",
    "#Age and Survival Rate\n",
    "fig, axis1 = plt.subplots(1,1,figsize=(18,4))\n",
    "average_age = titanic_df[['Age','Survived']].groupby(['Age'], as_index=False).mean()\n",
    "sns.barplot(x='Age',y='Survived', data=average_age)"
   ]
  },
  {
   "cell_type": "code",
   "execution_count": 306,
   "metadata": {},
   "outputs": [
    {
     "data": {
      "text/plain": [
       "PassengerId    891\n",
       "Survived       891\n",
       "Pclass         891\n",
       "Name           891\n",
       "Sex            891\n",
       "Age            714\n",
       "SibSp          891\n",
       "Parch          891\n",
       "Ticket         891\n",
       "Fare           891\n",
       "Cabin          204\n",
       "Embarked       891\n",
       "dtype: int64"
      ]
     },
     "execution_count": 306,
     "metadata": {},
     "output_type": "execute_result"
    }
   ],
   "source": [
    "titanic_df.count()"
   ]
  },
  {
   "cell_type": "code",
   "execution_count": 307,
   "metadata": {},
   "outputs": [
    {
     "data": {
      "text/plain": [
       "array(['S', 'C', 'Q'], dtype=object)"
      ]
     },
     "execution_count": 307,
     "metadata": {},
     "output_type": "execute_result"
    },
    {
     "data": {
      "image/png": "[encoded data removed]",
      "text/plain": [
       "<matplotlib.figure.Figure at 0x1171322e8>"
      ]
     },
     "metadata": {},
     "output_type": "display_data"
    }
   ],
   "source": [
    "sns.barplot(x='Embarked',y='Survived',data=train_data)\n",
    "titanic_df['Embarked'].fillna(value='C',inplace=True)\n",
    "titanic_df['Embarked'].unique()"
   ]
  },
  {
   "cell_type": "code",
   "execution_count": 308,
   "metadata": {},
   "outputs": [
    {
     "data": {
      "text/plain": [
       "<matplotlib.axes._subplots.AxesSubplot at 0x118dfdd30>"
      ]
     },
     "execution_count": 308,
     "metadata": {},
     "output_type": "execute_result"
    },
    {
     "data": {
      "image/png": "[encoded data removed]",
      "text/plain": [
       "<matplotlib.figure.Figure at 0x11540d9e8>"
      ]
     },
     "metadata": {},
     "output_type": "display_data"
    }
   ],
   "source": [
    "sns.countplot(x='Embarked',data=train_data)"
   ]
  },
  {
   "cell_type": "code",
   "execution_count": 309,
   "metadata": {},
   "outputs": [],
   "source": [
    "# Create a function to preprocess the data\n",
    "# Use label encoder to convert string data to integers\n",
    "# Drop non-categorical data that would be difficult to encode\n",
    "def process_df(titanic_df):\n",
    "    processed_df = titanic_df.copy()\n",
    "      #Encode Sex\n",
    "    le = LabelEncoder()\n",
    "    processed_df['Sex'] = le.fit_transform(processed_df['Sex'])\n",
    "    \n",
    "    #Take Cabin letters for deck and fill NAs\n",
    "    processed_df['Cabin'] = pd.Series([cabin[0] if not pd.isnull(cabin) else 'X' for cabin in processed_df['Cabin'] ])\n",
    "    cabin_dummies = pd.get_dummies(processed_df['Cabin'],prefix='Cabin')\n",
    "    processed_df = pd.concat([processed_df,cabin_dummies],axis=1)\n",
    "    \n",
    "    #Take letters from ticket info\n",
    "    Ticket = []\n",
    "    for i in list(processed_df.Ticket):\n",
    "        if not i.isdigit() :\n",
    "            Ticket.append(i.replace(\".\",\"\").replace(\"/\",\"\").strip().split(' ')[0]) #Take prefix\n",
    "        else:\n",
    "            Ticket.append('X')\n",
    "    processed_df['Ticket'] = Ticket\n",
    "    ticket_dummies = pd.get_dummies(processed_df['Ticket'],prefix='T')\n",
    "    processed_df = pd.concat([processed_df,ticket_dummies],axis=1)\n",
    "            \n",
    "    #Fill Embarked missing data and encode                                \n",
    "    processed_df['Embarked'].fillna('S',inplace=True)\n",
    "    embarked_dummies = pd.get_dummies(processed_df['Embarked'],prefix='Embarked')\n",
    "    processed_df = pd.concat([processed_df,embarked_dummies],axis=1)\n",
    "    processed_df.drop(['Embarked'],axis=1,inplace=True)\n",
    "    \n",
    "    # Create dummy variables for Pclass\n",
    "    pclass_dummies_titanic = pd.get_dummies(processed_df['Pclass'],prefix='PClass')\n",
    "    processed_df = pd.concat([processed_df,pclass_dummies_titanic],axis=1)\n",
    "\n",
    "    # Small, Medium, Or Large Family\n",
    "    processed_df['family_size'] = processed_df['SibSp'] + processed_df['Parch'] + 1\n",
    "    processed_df['single'] = processed_df['family_size'].map(lambda s: 1 if s==1 else 0)\n",
    "    processed_df['smallF'] = processed_df['family_size'].map(lambda s: 1 if s < 5 else 0)\n",
    "    processed_df['medF'] = processed_df['family_size'].map(lambda s: 1 if 3 <= s <= 4 else 0)\n",
    "    processed_df['largeF']= processed_df['family_size'].map(lambda s: 1 if s > 4 else 0)\n",
    "    processed_df['family_size'] = processed_df['family_size'].map(int)\n",
    "\n",
    "    # Create titles from names\n",
    "    name_title = processed_df['Name'].map(lambda x: re.compile(\", (.*?)\\.\").findall(x)[0])\n",
    "    processed_df['title'] = name_title\n",
    "    \n",
    "    return processed_df\n",
    "\n",
    "joined_data = process_df(joined_data)\n"
   ]
  },
  {
   "cell_type": "code",
   "execution_count": 310,
   "metadata": {},
   "outputs": [
    {
     "data": {
      "text/plain": [
       "Age            1309\n",
       "Cabin          1309\n",
       "Fare           1309\n",
       "Name           1309\n",
       "Parch          1309\n",
       "PassengerId    1309\n",
       "Pclass         1309\n",
       "Sex            1309\n",
       "SibSp          1309\n",
       "Survived        891\n",
       "Ticket         1309\n",
       "Cabin_A        1309\n",
       "Cabin_B        1309\n",
       "Cabin_C        1309\n",
       "Cabin_D        1309\n",
       "Cabin_E        1309\n",
       "Cabin_F        1309\n",
       "Cabin_G        1309\n",
       "Cabin_T        1309\n",
       "Cabin_X        1309\n",
       "T_A            1309\n",
       "T_A4           1309\n",
       "T_A5           1309\n",
       "T_AQ3          1309\n",
       "T_AQ4          1309\n",
       "T_AS           1309\n",
       "T_C            1309\n",
       "T_CA           1309\n",
       "T_CASOTON      1309\n",
       "T_FC           1309\n",
       "               ... \n",
       "T_SCPARIS      1309\n",
       "T_SCParis      1309\n",
       "T_SOC          1309\n",
       "T_SOP          1309\n",
       "T_SOPP         1309\n",
       "T_SOTONO2      1309\n",
       "T_SOTONOQ      1309\n",
       "T_SP           1309\n",
       "T_STONO        1309\n",
       "T_STONO2       1309\n",
       "T_STONOQ       1309\n",
       "T_SWPP         1309\n",
       "T_WC           1309\n",
       "T_WEP          1309\n",
       "T_X            1309\n",
       "Embarked_C     1309\n",
       "Embarked_Q     1309\n",
       "Embarked_S     1309\n",
       "PClass_1       1309\n",
       "PClass_2       1309\n",
       "PClass_3       1309\n",
       "family_size    1309\n",
       "single         1309\n",
       "smallF         1309\n",
       "medF           1309\n",
       "largeF         1309\n",
       "title          1309\n",
       "child          1309\n",
       "adult          1309\n",
       "elder          1309\n",
       "Length: 72, dtype: int64"
      ]
     },
     "execution_count": 310,
     "metadata": {},
     "output_type": "execute_result"
    }
   ],
   "source": [
    "#Fill in missing ages and fare values\n",
    "def fill_missing(processed_df):\n",
    "    age_title = processed_df[['title','Age']].groupby('title').median()\n",
    "    title_dict = age_title.reset_index().set_index('title')['Age'].to_dict()\n",
    "    processed_df['Age']=processed_df['Age'].fillna(processed_df['title'].map(title_dict))\n",
    "    \n",
    "      #Put ages into bins\n",
    "\n",
    "    processed_df['child'] = processed_df['Age'].map(lambda x: 1 if x < 17 else 0)\n",
    "    processed_df['adult'] = processed_df['Age'].map(lambda x: 1 if 16 < x < 45 else 0)\n",
    "    processed_df['elder'] = processed_df['Age'].map(lambda x: 1 if x > 44 else 0)\n",
    "    \n",
    "    fare_class = processed_df[['Pclass','Fare']].groupby('Pclass').median()\n",
    "    fare_dict = fare_class.reset_index().set_index('Pclass')['Fare'].to_dict()\n",
    "    processed_df['Fare']=processed_df['Fare'].fillna(processed_df['Pclass'].map(fare_dict))\n",
    "    \n",
    "    return processed_df\n",
    "joined_data = fill_missing(joined_data)\n",
    "joined_data.count()"
   ]
  },
  {
   "cell_type": "code",
   "execution_count": 311,
   "metadata": {},
   "outputs": [],
   "source": [
    "def separate_titles(processed_df):\n",
    "    rare = ['Lady','the Countess','Dona','Jonkheer','Don','Capt','Sir','Major','Col','Dr','Rev']\n",
    "    women = ['Mrs','Miss''Ms','Mme','Mlle']\n",
    "    processed_df['title']=processed_df['title'].replace(rare,'rare')\n",
    "    processed_df['title']=processed_df['title'].replace(women,'women')\n",
    "    title_dummies = pd.get_dummies(processed_df['title'])\n",
    "    processed_df = pd.concat([processed_df,title_dummies],axis=1)\n",
    "    return processed_df\n",
    "joined_data = separate_titles(joined_data)"
   ]
  },
  {
   "cell_type": "code",
   "execution_count": 312,
   "metadata": {},
   "outputs": [],
   "source": [
    "# def locate_outliers(n,input_df,features):\n",
    "#     outlier_indices = list()\n",
    "#     for col in features:\n",
    "#         q1 = np.percentile(input_df[col],25)\n",
    "#         q3 = np.percentile(input_df[col],75)\n",
    "#         iqr = q3 - q1\n",
    "#         outlier_step = iqr * 1.5\n",
    "#         outlier_list_col = input_df[(input_df[col] < q1 - outlier_step) | (input_df[col] > q3 + outlier_step )].index\n",
    "        \n",
    "#         # append the found outlier indices for col to the list of outlier indices \n",
    "#         outlier_indices.extend(outlier_list_col)\n",
    "        \n",
    "#     # select observations containing more than 2 outliers\n",
    "#     outlier_indices = Counter(outlier_indices)        \n",
    "#     multiple_outliers = list( k for k, z in outlier_indices.items() if z > n )\n",
    "    \n",
    "#     return multiple_outliers   \n",
    "\n",
    "# outliers = locate_outliers(2,processed_df,['SibSp','Parch','Fare'])\n",
    "# processed_df.loc[outliers]"
   ]
  },
  {
   "cell_type": "code",
   "execution_count": null,
   "metadata": {},
   "outputs": [],
   "source": []
  },
  {
   "cell_type": "code",
   "execution_count": null,
   "metadata": {},
   "outputs": [],
   "source": []
  },
  {
   "cell_type": "code",
   "execution_count": null,
   "metadata": {},
   "outputs": [],
   "source": []
  },
  {
   "cell_type": "code",
   "execution_count": null,
   "metadata": {},
   "outputs": [],
   "source": []
  },
  {
   "cell_type": "code",
   "execution_count": null,
   "metadata": {},
   "outputs": [],
   "source": []
  },
  {
   "cell_type": "code",
   "execution_count": 313,
   "metadata": {},
   "outputs": [
    {
     "data": {
      "text/html": [
       "<div>\n",
       "<style>\n",
       "    .dataframe thead tr:only-child th {\n",
       "        text-align: right;\n",
       "    }\n",
       "\n",
       "    .dataframe thead th {\n",
       "        text-align: left;\n",
       "    }\n",
       "\n",
       "    .dataframe tbody tr th {\n",
       "        vertical-align: top;\n",
       "    }\n",
       "</style>\n",
       "<table border=\"1\" class=\"dataframe\">\n",
       "  <thead>\n",
       "    <tr style=\"text-align: right;\">\n",
       "      <th></th>\n",
       "      <th>Fare</th>\n",
       "      <th>PassengerId</th>\n",
       "      <th>Sex</th>\n",
       "      <th>Survived</th>\n",
       "      <th>Cabin_A</th>\n",
       "      <th>Cabin_B</th>\n",
       "      <th>Cabin_C</th>\n",
       "      <th>Cabin_D</th>\n",
       "      <th>Cabin_E</th>\n",
       "      <th>Cabin_F</th>\n",
       "      <th>...</th>\n",
       "      <th>largeF</th>\n",
       "      <th>child</th>\n",
       "      <th>adult</th>\n",
       "      <th>elder</th>\n",
       "      <th>Master</th>\n",
       "      <th>Miss</th>\n",
       "      <th>Mr</th>\n",
       "      <th>Ms</th>\n",
       "      <th>rare</th>\n",
       "      <th>women</th>\n",
       "    </tr>\n",
       "  </thead>\n",
       "  <tbody>\n",
       "    <tr>\n",
       "      <th>0</th>\n",
       "      <td>7.2500</td>\n",
       "      <td>1</td>\n",
       "      <td>1</td>\n",
       "      <td>0.0</td>\n",
       "      <td>0</td>\n",
       "      <td>0</td>\n",
       "      <td>0</td>\n",
       "      <td>0</td>\n",
       "      <td>0</td>\n",
       "      <td>0</td>\n",
       "      <td>...</td>\n",
       "      <td>0</td>\n",
       "      <td>0</td>\n",
       "      <td>1</td>\n",
       "      <td>0</td>\n",
       "      <td>0</td>\n",
       "      <td>0</td>\n",
       "      <td>1</td>\n",
       "      <td>0</td>\n",
       "      <td>0</td>\n",
       "      <td>0</td>\n",
       "    </tr>\n",
       "    <tr>\n",
       "      <th>1</th>\n",
       "      <td>71.2833</td>\n",
       "      <td>2</td>\n",
       "      <td>0</td>\n",
       "      <td>1.0</td>\n",
       "      <td>0</td>\n",
       "      <td>0</td>\n",
       "      <td>1</td>\n",
       "      <td>0</td>\n",
       "      <td>0</td>\n",
       "      <td>0</td>\n",
       "      <td>...</td>\n",
       "      <td>0</td>\n",
       "      <td>0</td>\n",
       "      <td>1</td>\n",
       "      <td>0</td>\n",
       "      <td>0</td>\n",
       "      <td>0</td>\n",
       "      <td>0</td>\n",
       "      <td>0</td>\n",
       "      <td>0</td>\n",
       "      <td>1</td>\n",
       "    </tr>\n",
       "    <tr>\n",
       "      <th>2</th>\n",
       "      <td>7.9250</td>\n",
       "      <td>3</td>\n",
       "      <td>0</td>\n",
       "      <td>1.0</td>\n",
       "      <td>0</td>\n",
       "      <td>0</td>\n",
       "      <td>0</td>\n",
       "      <td>0</td>\n",
       "      <td>0</td>\n",
       "      <td>0</td>\n",
       "      <td>...</td>\n",
       "      <td>0</td>\n",
       "      <td>0</td>\n",
       "      <td>1</td>\n",
       "      <td>0</td>\n",
       "      <td>0</td>\n",
       "      <td>1</td>\n",
       "      <td>0</td>\n",
       "      <td>0</td>\n",
       "      <td>0</td>\n",
       "      <td>0</td>\n",
       "    </tr>\n",
       "    <tr>\n",
       "      <th>3</th>\n",
       "      <td>53.1000</td>\n",
       "      <td>4</td>\n",
       "      <td>0</td>\n",
       "      <td>1.0</td>\n",
       "      <td>0</td>\n",
       "      <td>0</td>\n",
       "      <td>1</td>\n",
       "      <td>0</td>\n",
       "      <td>0</td>\n",
       "      <td>0</td>\n",
       "      <td>...</td>\n",
       "      <td>0</td>\n",
       "      <td>0</td>\n",
       "      <td>1</td>\n",
       "      <td>0</td>\n",
       "      <td>0</td>\n",
       "      <td>0</td>\n",
       "      <td>0</td>\n",
       "      <td>0</td>\n",
       "      <td>0</td>\n",
       "      <td>1</td>\n",
       "    </tr>\n",
       "    <tr>\n",
       "      <th>4</th>\n",
       "      <td>8.0500</td>\n",
       "      <td>5</td>\n",
       "      <td>1</td>\n",
       "      <td>0.0</td>\n",
       "      <td>0</td>\n",
       "      <td>0</td>\n",
       "      <td>0</td>\n",
       "      <td>0</td>\n",
       "      <td>0</td>\n",
       "      <td>0</td>\n",
       "      <td>...</td>\n",
       "      <td>0</td>\n",
       "      <td>0</td>\n",
       "      <td>1</td>\n",
       "      <td>0</td>\n",
       "      <td>0</td>\n",
       "      <td>0</td>\n",
       "      <td>1</td>\n",
       "      <td>0</td>\n",
       "      <td>0</td>\n",
       "      <td>0</td>\n",
       "    </tr>\n",
       "  </tbody>\n",
       "</table>\n",
       "<p>5 rows × 69 columns</p>\n",
       "</div>"
      ],
      "text/plain": [
       "      Fare  PassengerId  Sex  Survived  Cabin_A  Cabin_B  Cabin_C  Cabin_D  \\\n",
       "0   7.2500            1    1       0.0        0        0        0        0   \n",
       "1  71.2833            2    0       1.0        0        0        1        0   \n",
       "2   7.9250            3    0       1.0        0        0        0        0   \n",
       "3  53.1000            4    0       1.0        0        0        1        0   \n",
       "4   8.0500            5    1       0.0        0        0        0        0   \n",
       "\n",
       "   Cabin_E  Cabin_F  ...    largeF  child  adult  elder  Master  Miss  Mr  Ms  \\\n",
       "0        0        0  ...         0      0      1      0       0     0   1   0   \n",
       "1        0        0  ...         0      0      1      0       0     0   0   0   \n",
       "2        0        0  ...         0      0      1      0       0     1   0   0   \n",
       "3        0        0  ...         0      0      1      0       0     0   0   0   \n",
       "4        0        0  ...         0      0      1      0       0     0   1   0   \n",
       "\n",
       "   rare  women  \n",
       "0     0      0  \n",
       "1     0      1  \n",
       "2     0      0  \n",
       "3     0      1  \n",
       "4     0      0  \n",
       "\n",
       "[5 rows x 69 columns]"
      ]
     },
     "execution_count": 313,
     "metadata": {},
     "output_type": "execute_result"
    }
   ],
   "source": [
    "# drop extra columns\n",
    "def drop_extra(processed_df):\n",
    "    processed_df.drop(['SibSp',\n",
    "                       'Parch',\n",
    "                       'Name',\n",
    "                       'title',\n",
    "                       'family_size',\n",
    "                       'Pclass',\n",
    "                       'Age',\n",
    "                       'Cabin',\n",
    "                       'Ticket'\n",
    "                   ], axis=1,inplace=True)\n",
    "    return processed_df\n",
    "joined_data=drop_extra(joined_data)\n",
    "joined_data.head()"
   ]
  },
  {
   "cell_type": "code",
   "execution_count": 314,
   "metadata": {},
   "outputs": [
    {
     "data": {
      "text/plain": [
       "Index(['Fare', 'PassengerId', 'Sex', 'Survived', 'Cabin_A', 'Cabin_B',\n",
       "       'Cabin_C', 'Cabin_D', 'Cabin_E', 'Cabin_F', 'Cabin_G', 'Cabin_T',\n",
       "       'Cabin_X', 'T_A', 'T_A4', 'T_A5', 'T_AQ3', 'T_AQ4', 'T_AS', 'T_C',\n",
       "       'T_CA', 'T_CASOTON', 'T_FC', 'T_FCC', 'T_Fa', 'T_LINE', 'T_LP', 'T_PC',\n",
       "       'T_PP', 'T_PPP', 'T_SC', 'T_SCA3', 'T_SCA4', 'T_SCAH', 'T_SCOW',\n",
       "       'T_SCPARIS', 'T_SCParis', 'T_SOC', 'T_SOP', 'T_SOPP', 'T_SOTONO2',\n",
       "       'T_SOTONOQ', 'T_SP', 'T_STONO', 'T_STONO2', 'T_STONOQ', 'T_SWPP',\n",
       "       'T_WC', 'T_WEP', 'T_X', 'Embarked_C', 'Embarked_Q', 'Embarked_S',\n",
       "       'PClass_1', 'PClass_2', 'PClass_3', 'single', 'smallF', 'medF',\n",
       "       'largeF', 'child', 'adult', 'elder', 'Master', 'Miss', 'Mr', 'Ms',\n",
       "       'rare', 'women'],\n",
       "      dtype='object')"
      ]
     },
     "execution_count": 314,
     "metadata": {},
     "output_type": "execute_result"
    }
   ],
   "source": [
    "joined_data.columns"
   ]
  },
  {
   "cell_type": "code",
   "execution_count": 315,
   "metadata": {},
   "outputs": [
    {
     "data": {
      "text/plain": [
       "<matplotlib.axes._subplots.AxesSubplot at 0x1191605c0>"
      ]
     },
     "execution_count": 315,
     "metadata": {},
     "output_type": "execute_result"
    },
    {
     "data": {
      "image/png": "[encoded data removed]",
      "text/plain": [
       "<matplotlib.figure.Figure at 0x1183ad828>"
      ]
     },
     "metadata": {},
     "output_type": "display_data"
    }
   ],
   "source": [
    "#Generate a correlation matrix between features\n",
    "x_corr = joined_data.corr()\n",
    "mask = np.zeros_like(x_corr, dtype=np.bool)\n",
    "mask[np.triu_indices_from(mask)] = True\n",
    "f, ax = plt.subplots(figsize=(11, 9))\n",
    "cmap = sns.diverging_palette(220, 10, as_cmap=True)\n",
    "sns.heatmap(x_corr, mask=mask, vmax=.5, cmap=cmap, center=0,\n",
    "            square=True, linewidths=.5)"
   ]
  },
  {
   "cell_type": "code",
   "execution_count": null,
   "metadata": {},
   "outputs": [],
   "source": []
  },
  {
   "cell_type": "code",
   "execution_count": 316,
   "metadata": {},
   "outputs": [
    {
     "name": "stderr",
     "output_type": "stream",
     "text": [
      "/usr/local/lib/python3.6/site-packages/ipykernel_launcher.py:10: SettingWithCopyWarning: \n",
      "A value is trying to be set on a copy of a slice from a DataFrame\n",
      "\n",
      "See the caveats in the documentation: http://pandas.pydata.org/pandas-docs/stable/indexing.html#indexing-view-versus-copy\n",
      "  # Remove the CWD from sys.path while we load stuff.\n"
     ]
    }
   ],
   "source": [
    "# Seperate test and train data, X and Y values\n",
    "processed_train_data = joined_data[:train_len]\n",
    "x_test = joined_data[train_len:]\n",
    "\n",
    "X = processed_train_data.drop(['Survived','PassengerId'], axis = 1)\n",
    "y = processed_train_data['Survived']\n",
    "\n",
    "IDtest = pd.DataFrame(x_test['PassengerId']).reset_index()\n",
    "IDtest.drop(['index'],axis=1,inplace=True)\n",
    "x_test.drop(['Survived','PassengerId'],axis=1,inplace=True)"
   ]
  },
  {
   "cell_type": "code",
   "execution_count": 317,
   "metadata": {},
   "outputs": [],
   "source": [
    "#Dimensionality Reduction\n",
    "def dim_reduction(X):\n",
    "    pca = PCA(n_components=5)\n",
    "    X_reduced = pca.fit_transform(X)\n",
    "    df_X_reduced = pd.DataFrame(X_reduced)\n",
    "    return df_X_reduced\n",
    "\n",
    "#X = dim_reduction(X_full)\n",
    "#X.head()"
   ]
  },
  {
   "cell_type": "code",
   "execution_count": 318,
   "metadata": {},
   "outputs": [],
   "source": [
    "# Modeling step Test differents algorithms \n",
    "# Cross validate model with Kfold stratified cross val\n",
    "kfold = KFold(n_splits=10,shuffle=True,random_state=0)\n",
    "\n",
    "random_state = None\n",
    "classifiers = []\n",
    "classifiers.append(SVC(random_state=random_state))\n",
    "classifiers.append(DecisionTreeClassifier(random_state=random_state))\n",
    "classifiers.append(AdaBoostClassifier(DecisionTreeClassifier(random_state=random_state),random_state=random_state,learning_rate=0.1))\n",
    "classifiers.append(RandomForestClassifier(random_state=random_state))\n",
    "classifiers.append(ExtraTreesClassifier(random_state=random_state))\n",
    "classifiers.append(GradientBoostingClassifier(random_state=random_state))\n",
    "classifiers.append(MLPClassifier(random_state=random_state))\n",
    "classifiers.append(KNeighborsClassifier())\n",
    "classifiers.append(LogisticRegression(random_state = random_state))\n",
    "classifiers.append(LinearDiscriminantAnalysis())\n",
    "cv_results = []"
   ]
  },
  {
   "cell_type": "code",
   "execution_count": 319,
   "metadata": {},
   "outputs": [
    {
     "name": "stderr",
     "output_type": "stream",
     "text": [
      "[Parallel(n_jobs=2)]: Done  10 out of  10 | elapsed:    0.5s finished\n",
      "[Parallel(n_jobs=2)]: Done  10 out of  10 | elapsed:    0.1s finished\n",
      "[Parallel(n_jobs=2)]: Done  10 out of  10 | elapsed:    1.3s finished\n",
      "[Parallel(n_jobs=2)]: Done  10 out of  10 | elapsed:    0.3s finished\n",
      "[Parallel(n_jobs=2)]: Done  10 out of  10 | elapsed:    0.3s finished\n",
      "[Parallel(n_jobs=2)]: Done  10 out of  10 | elapsed:    1.0s finished\n",
      "[Parallel(n_jobs=2)]: Done  10 out of  10 | elapsed:    1.2s finished\n",
      "[Parallel(n_jobs=2)]: Done  10 out of  10 | elapsed:    0.1s finished\n",
      "[Parallel(n_jobs=2)]: Done  10 out of  10 | elapsed:    0.1s finished\n",
      "/usr/local/lib/python3.6/site-packages/sklearn/discriminant_analysis.py:388: UserWarning: Variables are collinear.\n",
      "  warnings.warn(\"Variables are collinear.\")\n",
      "/usr/local/lib/python3.6/site-packages/sklearn/discriminant_analysis.py:388: UserWarning: Variables are collinear.\n",
      "  warnings.warn(\"Variables are collinear.\")\n",
      "[Parallel(n_jobs=2)]: Done  10 out of  10 | elapsed:    0.1s finished\n"
     ]
    }
   ],
   "source": [
    "for classifier in classifiers:\n",
    "    cv_results.append(cross_val_score(classifier, X, y = y, scoring = 'accuracy', cv = kfold, n_jobs=2, verbose =1))\n",
    "\n",
    "cv_means = []\n",
    "cv_std = []\n",
    "for cv_result in cv_results:\n",
    "    cv_means.append(cv_result.mean())\n",
    "    cv_std.append(cv_result.std())"
   ]
  },
  {
   "cell_type": "code",
   "execution_count": 320,
   "metadata": {},
   "outputs": [
    {
     "data": {
      "image/png": "[encoded data removed]",
      "text/plain": [
       "<matplotlib.figure.Figure at 0x11929bcf8>"
      ]
     },
     "metadata": {},
     "output_type": "display_data"
    }
   ],
   "source": [
    "cv_res = pd.DataFrame(\n",
    "    {\"CrossValMeans\":cv_means,\n",
    "     \"CrossValerrors\": cv_std,\n",
    "     \"Algorithm\":[\"SVC\",\n",
    "                  \"DecisionTree\",\n",
    "                  \"AdaBoost\",\n",
    "                  \"RandomForest\",\n",
    "                  \"ExtraTrees\",\n",
    "                  \"GradientBoosting\",\n",
    "                  \"MultipleLayerPerceptron\",\n",
    "                  \"KNeighboors\",\n",
    "                  \"LogisticRegression\",\n",
    "                  \"LinearDiscriminantAnalysis\"\n",
    "                 ]})\n",
    "g = sns.barplot(\"CrossValMeans\",\"Algorithm\",data = cv_res, palette=\"Set3\",orient = \"h\",**{'xerr':cv_std})\n",
    "g.set_xlabel(\"Mean Accuracy\")\n",
    "g = g.set_title(\"Cross validation scores\")"
   ]
  },
  {
   "cell_type": "code",
   "execution_count": 321,
   "metadata": {},
   "outputs": [
    {
     "data": {
      "text/html": [
       "<div>\n",
       "<style>\n",
       "    .dataframe thead tr:only-child th {\n",
       "        text-align: right;\n",
       "    }\n",
       "\n",
       "    .dataframe thead th {\n",
       "        text-align: left;\n",
       "    }\n",
       "\n",
       "    .dataframe tbody tr th {\n",
       "        vertical-align: top;\n",
       "    }\n",
       "</style>\n",
       "<table border=\"1\" class=\"dataframe\">\n",
       "  <thead>\n",
       "    <tr style=\"text-align: right;\">\n",
       "      <th></th>\n",
       "      <th>Algorithm</th>\n",
       "      <th>CrossValMeans</th>\n",
       "      <th>CrossValerrors</th>\n",
       "    </tr>\n",
       "  </thead>\n",
       "  <tbody>\n",
       "    <tr>\n",
       "      <th>0</th>\n",
       "      <td>SVC</td>\n",
       "      <td>0.802422</td>\n",
       "      <td>0.028765</td>\n",
       "    </tr>\n",
       "    <tr>\n",
       "      <th>1</th>\n",
       "      <td>DecisionTree</td>\n",
       "      <td>0.794632</td>\n",
       "      <td>0.036820</td>\n",
       "    </tr>\n",
       "    <tr>\n",
       "      <th>2</th>\n",
       "      <td>AdaBoost</td>\n",
       "      <td>0.798040</td>\n",
       "      <td>0.037181</td>\n",
       "    </tr>\n",
       "    <tr>\n",
       "      <th>3</th>\n",
       "      <td>RandomForest</td>\n",
       "      <td>0.803571</td>\n",
       "      <td>0.033153</td>\n",
       "    </tr>\n",
       "    <tr>\n",
       "      <th>4</th>\n",
       "      <td>ExtraTrees</td>\n",
       "      <td>0.795755</td>\n",
       "      <td>0.034236</td>\n",
       "    </tr>\n",
       "    <tr>\n",
       "      <th>5</th>\n",
       "      <td>GradientBoosting</td>\n",
       "      <td>0.837228</td>\n",
       "      <td>0.019194</td>\n",
       "    </tr>\n",
       "    <tr>\n",
       "      <th>6</th>\n",
       "      <td>MultipleLayerPerceptron</td>\n",
       "      <td>0.761998</td>\n",
       "      <td>0.064102</td>\n",
       "    </tr>\n",
       "    <tr>\n",
       "      <th>7</th>\n",
       "      <td>KNeighboors</td>\n",
       "      <td>0.781223</td>\n",
       "      <td>0.042462</td>\n",
       "    </tr>\n",
       "    <tr>\n",
       "      <th>8</th>\n",
       "      <td>LogisticRegression</td>\n",
       "      <td>0.827129</td>\n",
       "      <td>0.025894</td>\n",
       "    </tr>\n",
       "    <tr>\n",
       "      <th>9</th>\n",
       "      <td>LinearDiscriminantAnalysis</td>\n",
       "      <td>0.827141</td>\n",
       "      <td>0.022711</td>\n",
       "    </tr>\n",
       "  </tbody>\n",
       "</table>\n",
       "</div>"
      ],
      "text/plain": [
       "                    Algorithm  CrossValMeans  CrossValerrors\n",
       "0                         SVC       0.802422        0.028765\n",
       "1                DecisionTree       0.794632        0.036820\n",
       "2                    AdaBoost       0.798040        0.037181\n",
       "3                RandomForest       0.803571        0.033153\n",
       "4                  ExtraTrees       0.795755        0.034236\n",
       "5            GradientBoosting       0.837228        0.019194\n",
       "6     MultipleLayerPerceptron       0.761998        0.064102\n",
       "7                 KNeighboors       0.781223        0.042462\n",
       "8          LogisticRegression       0.827129        0.025894\n",
       "9  LinearDiscriminantAnalysis       0.827141        0.022711"
      ]
     },
     "execution_count": 321,
     "metadata": {},
     "output_type": "execute_result"
    }
   ],
   "source": [
    "#clf_dt = tree.DecisionTreeClassifier(max_depth=10)\n",
    "cv_res"
   ]
  },
  {
   "cell_type": "code",
   "execution_count": 322,
   "metadata": {},
   "outputs": [],
   "source": [
    "#Optimize top 5 algorithms\n",
    "#SVM\n",
    "#Ada Boost\n",
    "#Gradient Boosting\n",
    "#ExtraTrees\n",
    "#Random Forest\n",
    "\n",
    "\n"
   ]
  },
  {
   "cell_type": "code",
   "execution_count": 323,
   "metadata": {},
   "outputs": [
    {
     "name": "stdout",
     "output_type": "stream",
     "text": [
      "Fitting 10 folds for each of 28 candidates, totalling 280 fits\n"
     ]
    },
    {
     "name": "stderr",
     "output_type": "stream",
     "text": [
      "[Parallel(n_jobs=2)]: Done  46 tasks      | elapsed:    7.9s\n",
      "[Parallel(n_jobs=2)]: Done 196 tasks      | elapsed:   42.2s\n",
      "[Parallel(n_jobs=2)]: Done 280 out of 280 | elapsed:  1.4min finished\n"
     ]
    },
    {
     "data": {
      "text/plain": [
       "0.82267115600448937"
      ]
     },
     "execution_count": 323,
     "metadata": {},
     "output_type": "execute_result"
    }
   ],
   "source": [
    "#SVM Optimization\n",
    "SVMC = SVC(probability=True)\n",
    "svc_param_grid = {'kernel': ['rbf'], \n",
    "                  'gamma': [ 0.001, 0.01, 0.1, 1],\n",
    "                  'C': [1, 10, 50, 100,200,300, 1000]}\n",
    "\n",
    "gsSVMC = GridSearchCV(SVMC,param_grid = svc_param_grid, cv=kfold, scoring=\"accuracy\", n_jobs= 2, verbose = 1)\n",
    "\n",
    "gsSVMC.fit(X,y)\n",
    "\n",
    "SVMC_best = gsSVMC.best_estimator_\n",
    "\n",
    "# Best Score\n",
    "gsSVMC.best_score_"
   ]
  },
  {
   "cell_type": "code",
   "execution_count": 324,
   "metadata": {},
   "outputs": [
    {
     "name": "stdout",
     "output_type": "stream",
     "text": [
      "Fitting 10 folds for each of 112 candidates, totalling 1120 fits\n"
     ]
    },
    {
     "name": "stderr",
     "output_type": "stream",
     "text": [
      "[Parallel(n_jobs=2)]: Done 1032 tasks      | elapsed:    7.6s\n",
      "[Parallel(n_jobs=2)]: Done 1120 out of 1120 | elapsed:    8.2s finished\n"
     ]
    },
    {
     "data": {
      "text/plain": [
       "0.81818181818181823"
      ]
     },
     "execution_count": 324,
     "metadata": {},
     "output_type": "execute_result"
    }
   ],
   "source": [
    "DTC = DecisionTreeClassifier()\n",
    "\n",
    "adaDTC = AdaBoostClassifier(DTC, random_state=7)\n",
    "\n",
    "ada_param_grid = {\"base_estimator__criterion\" : [\"gini\", \"entropy\"],\n",
    "              \"base_estimator__splitter\" :   [\"best\", \"random\"],\n",
    "              \"algorithm\" : [\"SAMME\",\"SAMME.R\"],\n",
    "              \"n_estimators\" :[1,2],\n",
    "              \"learning_rate\":  [0.0001, 0.001, 0.01, 0.1, 0.2, 0.3,1.5]}\n",
    "\n",
    "gsadaDTC = GridSearchCV(adaDTC,param_grid = ada_param_grid, cv=kfold, scoring=\"accuracy\", n_jobs= 2, verbose = 1)\n",
    "\n",
    "gsadaDTC.fit(X,y)\n",
    "\n",
    "ada_best = gsadaDTC.best_estimator_\n",
    "# Best Score\n",
    "gsadaDTC.best_score_"
   ]
  },
  {
   "cell_type": "code",
   "execution_count": null,
   "metadata": {},
   "outputs": [
    {
     "name": "stdout",
     "output_type": "stream",
     "text": [
      "Fitting 10 folds for each of 486 candidates, totalling 4860 fits\n"
     ]
    },
    {
     "name": "stderr",
     "output_type": "stream",
     "text": [
      "[Parallel(n_jobs=2)]: Done  88 tasks      | elapsed:   13.4s\n",
      "[Parallel(n_jobs=2)]: Done 388 tasks      | elapsed:   49.4s\n",
      "[Parallel(n_jobs=2)]: Done 872 tasks      | elapsed:  2.1min\n",
      "[Parallel(n_jobs=2)]: Done 1254 tasks      | elapsed:  3.8min\n",
      "[Parallel(n_jobs=2)]: Done 1774 tasks      | elapsed:  6.1min\n",
      "[Parallel(n_jobs=2)]: Done 2442 tasks      | elapsed:  7.8min\n",
      "[Parallel(n_jobs=2)]: Done 3148 tasks      | elapsed: 11.7min\n",
      "[Parallel(n_jobs=2)]: Done 4054 tasks      | elapsed: 14.4min\n",
      "[Parallel(n_jobs=2)]: Done 4860 out of 4860 | elapsed: 19.1min finished\n"
     ]
    },
    {
     "data": {
      "text/plain": [
       "0.84175084175084181"
      ]
     },
     "execution_count": 325,
     "metadata": {},
     "output_type": "execute_result"
    }
   ],
   "source": [
    "#Gradient Boosting Optimization\n",
    "\n",
    "GBC = GradientBoostingClassifier()\n",
    "gb_param_grid = {'loss' : [\"deviance\"],\n",
    "              'n_estimators' : [100,150,200],\n",
    "              'learning_rate': [0.1, 0.05, 0.01],\n",
    "              'max_depth': [4, 8],\n",
    "              'min_samples_leaf': [1, 3, 9],\n",
    "              'min_samples_split': [1.0,3,10],\n",
    "              'max_features': ['auto','log2',None] \n",
    "              }\n",
    "\n",
    "gsGBC = GridSearchCV(GBC,param_grid = gb_param_grid, cv=kfold, scoring=\"accuracy\", n_jobs= 2, verbose = 1)\n",
    "\n",
    "gsGBC.fit(X,y)\n",
    "\n",
    "GBC_best = gsGBC.best_estimator_\n",
    "\n",
    "# Best score\n",
    "gsGBC.best_score_"
   ]
  },
  {
   "cell_type": "code",
   "execution_count": null,
   "metadata": {},
   "outputs": [
    {
     "name": "stdout",
     "output_type": "stream",
     "text": [
      "Fitting 10 folds for each of 162 candidates, totalling 1620 fits\n"
     ]
    },
    {
     "name": "stderr",
     "output_type": "stream",
     "text": [
      "[Parallel(n_jobs=2)]: Done  46 tasks      | elapsed:    9.3s\n",
      "[Parallel(n_jobs=2)]: Done 196 tasks      | elapsed:   42.1s\n",
      "[Parallel(n_jobs=2)]: Done 446 tasks      | elapsed:  1.6min\n",
      "[Parallel(n_jobs=2)]: Done 796 tasks      | elapsed: 140.1min\n"
     ]
    }
   ],
   "source": [
    "#ExtraTrees\n",
    "\n",
    "#ExtraTrees \n",
    "ExtC = ExtraTreesClassifier()\n",
    "\n",
    "\n",
    "## Search grid for optimal parameters\n",
    "ex_param_grid = {\"max_depth\": [4,6,8],\n",
    "              \"max_features\": ['sqrt','auto','log2'],\n",
    "              \"min_samples_split\": [1.0, 3, 9],\n",
    "              \"min_samples_leaf\": [1, 3, 9],\n",
    "              \"bootstrap\": [False],\n",
    "              \"n_estimators\" :[100,300],\n",
    "              \"criterion\": [\"gini\"]}\n",
    "\n",
    "\n",
    "gsExtC = GridSearchCV(ExtC,param_grid = ex_param_grid, cv=kfold, scoring=\"accuracy\", n_jobs= 2, verbose = 1)\n",
    "\n",
    "gsExtC.fit(X,y)\n",
    "\n",
    "ExtC_best = gsExtC.best_estimator_\n",
    "\n",
    "# Best score\n",
    "gsExtC.best_score_"
   ]
  },
  {
   "cell_type": "code",
   "execution_count": null,
   "metadata": {},
   "outputs": [],
   "source": [
    "#Random Forest Optimization\n",
    "clf_rf = RandomForestClassifier()\n",
    "rf_param_grid = {'max_depth': [4,6,8],\n",
    "                'max_features':['sqrt','auto','log2'],\n",
    "                'min_samples_split': [1.0,3,9],\n",
    "                'min_samples_leaf': [1,3,9],\n",
    "                'bootstrap': [False],\n",
    "                'n_estimators': [100,300],\n",
    "                'criterion': ['gini']}\n",
    "gsRFC = GridSearchCV(clf_rf, param_grid = rf_param_grid, cv=kfold, scoring='accuracy', n_jobs= 2, verbose = 1)\n",
    "gsRFC.fit(X,y)\n",
    "RFC_best = gsRFC.best_estimator_\n",
    "gsRFC.best_score_"
   ]
  },
  {
   "cell_type": "code",
   "execution_count": null,
   "metadata": {
    "scrolled": false
   },
   "outputs": [],
   "source": [
    "votingC = VotingClassifier(estimators=[('rfc', RFC_best),\n",
    "                                       ('gbc',GBC_best),\n",
    "                                       ('svm',SVMC_best),\n",
    "                                       ('ada',ada_best),\n",
    "                                       ('xtc',ExtC_best)], \n",
    "                                            voting='soft',\n",
    "                           weights = [3,3,2,1,3]\n",
    "                          )"
   ]
  },
  {
   "cell_type": "code",
   "execution_count": null,
   "metadata": {},
   "outputs": [],
   "source": [
    "final_score = cross_val_score(votingC, X, y = y, \n",
    "                              scoring = 'accuracy', \n",
    "                              cv = kfold, \n",
    "                              verbose =1)\n",
    "votingC.fit(X,y)"
   ]
  },
  {
   "cell_type": "code",
   "execution_count": null,
   "metadata": {},
   "outputs": [],
   "source": [
    "print(final_score.mean())"
   ]
  },
  {
   "cell_type": "code",
   "execution_count": null,
   "metadata": {},
   "outputs": [],
   "source": []
  },
  {
   "cell_type": "code",
   "execution_count": null,
   "metadata": {},
   "outputs": [],
   "source": [
    "test_Survived = pd.Series(votingC.predict(x_test).astype(int),name='Survived')\n",
    "result = pd.concat([IDtest,test_Survived], axis=1)\n",
    "result.to_csv(\"ensemble_python_voting.csv\",index=False)"
   ]
  },
  {
   "cell_type": "code",
   "execution_count": null,
   "metadata": {},
   "outputs": [],
   "source": [
    "result"
   ]
  },
  {
   "cell_type": "code",
   "execution_count": null,
   "metadata": {},
   "outputs": [],
   "source": []
  }
 ],
 "metadata": {
  "celltoolbar": "Tags",
  "kernelspec": {
   "display_name": "Python 3",
   "language": "python",
   "name": "python3"
  },
  "language_info": {
   "codemirror_mode": {
    "name": "ipython",
    "version": 3
   },
   "file_extension": ".py",
   "mimetype": "text/x-python",
   "name": "python",
   "nbconvert_exporter": "python",
   "pygments_lexer": "ipython3",
   "version": "3.6.2"
  }
 },
 "nbformat": 4,
 "nbformat_minor": 2
}
