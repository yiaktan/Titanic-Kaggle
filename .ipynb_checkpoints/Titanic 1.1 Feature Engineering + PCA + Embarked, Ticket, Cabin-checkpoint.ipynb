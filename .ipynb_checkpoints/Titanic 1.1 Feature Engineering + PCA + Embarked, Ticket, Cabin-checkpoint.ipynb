{
 "cells": [
  {
   "cell_type": "code",
   "execution_count": 1,
   "metadata": {},
   "outputs": [],
   "source": [
    "import matplotlib.pyplot as plt\n",
    "%matplotlib inline\n",
    "\n",
    "import numpy as np\n",
    "import pandas as pd\n",
    "from sklearn.ensemble import RandomForestClassifier, AdaBoostClassifier, GradientBoostingClassifier, ExtraTreesClassifier, VotingClassifier\n",
    "from sklearn.discriminant_analysis import LinearDiscriminantAnalysis\n",
    "from sklearn.linear_model import LogisticRegression\n",
    "from sklearn.neighbors import KNeighborsClassifier\n",
    "from sklearn.tree import DecisionTreeClassifier\n",
    "from sklearn.neural_network import MLPClassifier\n",
    "from sklearn.svm import SVC\n",
    "from sklearn.model_selection import GridSearchCV, cross_val_score, learning_curve, KFold\n",
    "from sklearn.preprocessing import LabelEncoder, StandardScaler, MinMaxScaler\n",
    "from sklearn.metrics import accuracy_score\n",
    "from sklearn.decomposition import PCA\n",
    "import seaborn as sns\n",
    "sns.set_style('whitegrid')\n",
    "import re"
   ]
  },
  {
   "cell_type": "code",
   "execution_count": 2,
   "metadata": {},
   "outputs": [],
   "source": [
    "#Import the data from excel\n",
    "titanic_df = pd.read_csv('titanic_train.csv',\n",
    "                        delimiter = ',',\n",
    "                        index_col=None,\n",
    "                        engine='python')"
   ]
  },
  {
   "cell_type": "code",
   "execution_count": 3,
   "metadata": {},
   "outputs": [
    {
     "data": {
      "text/html": [
       "<div>\n",
       "<style>\n",
       "    .dataframe thead tr:only-child th {\n",
       "        text-align: right;\n",
       "    }\n",
       "\n",
       "    .dataframe thead th {\n",
       "        text-align: left;\n",
       "    }\n",
       "\n",
       "    .dataframe tbody tr th {\n",
       "        vertical-align: top;\n",
       "    }\n",
       "</style>\n",
       "<table border=\"1\" class=\"dataframe\">\n",
       "  <thead>\n",
       "    <tr style=\"text-align: right;\">\n",
       "      <th></th>\n",
       "      <th>PassengerId</th>\n",
       "      <th>Survived</th>\n",
       "      <th>Pclass</th>\n",
       "      <th>Name</th>\n",
       "      <th>Sex</th>\n",
       "      <th>Age</th>\n",
       "      <th>SibSp</th>\n",
       "      <th>Parch</th>\n",
       "      <th>Ticket</th>\n",
       "      <th>Fare</th>\n",
       "      <th>Cabin</th>\n",
       "      <th>Embarked</th>\n",
       "    </tr>\n",
       "  </thead>\n",
       "  <tbody>\n",
       "    <tr>\n",
       "      <th>0</th>\n",
       "      <td>1</td>\n",
       "      <td>0</td>\n",
       "      <td>3</td>\n",
       "      <td>Braund, Mr. Owen Harris</td>\n",
       "      <td>male</td>\n",
       "      <td>22.0</td>\n",
       "      <td>1</td>\n",
       "      <td>0</td>\n",
       "      <td>A/5 21171</td>\n",
       "      <td>7.2500</td>\n",
       "      <td>NaN</td>\n",
       "      <td>S</td>\n",
       "    </tr>\n",
       "    <tr>\n",
       "      <th>1</th>\n",
       "      <td>2</td>\n",
       "      <td>1</td>\n",
       "      <td>1</td>\n",
       "      <td>Cumings, Mrs. John Bradley (Florence Briggs Th...</td>\n",
       "      <td>female</td>\n",
       "      <td>38.0</td>\n",
       "      <td>1</td>\n",
       "      <td>0</td>\n",
       "      <td>PC 17599</td>\n",
       "      <td>71.2833</td>\n",
       "      <td>C85</td>\n",
       "      <td>C</td>\n",
       "    </tr>\n",
       "    <tr>\n",
       "      <th>2</th>\n",
       "      <td>3</td>\n",
       "      <td>1</td>\n",
       "      <td>3</td>\n",
       "      <td>Heikkinen, Miss. Laina</td>\n",
       "      <td>female</td>\n",
       "      <td>26.0</td>\n",
       "      <td>0</td>\n",
       "      <td>0</td>\n",
       "      <td>STON/O2. 3101282</td>\n",
       "      <td>7.9250</td>\n",
       "      <td>NaN</td>\n",
       "      <td>S</td>\n",
       "    </tr>\n",
       "    <tr>\n",
       "      <th>3</th>\n",
       "      <td>4</td>\n",
       "      <td>1</td>\n",
       "      <td>1</td>\n",
       "      <td>Futrelle, Mrs. Jacques Heath (Lily May Peel)</td>\n",
       "      <td>female</td>\n",
       "      <td>35.0</td>\n",
       "      <td>1</td>\n",
       "      <td>0</td>\n",
       "      <td>113803</td>\n",
       "      <td>53.1000</td>\n",
       "      <td>C123</td>\n",
       "      <td>S</td>\n",
       "    </tr>\n",
       "    <tr>\n",
       "      <th>4</th>\n",
       "      <td>5</td>\n",
       "      <td>0</td>\n",
       "      <td>3</td>\n",
       "      <td>Allen, Mr. William Henry</td>\n",
       "      <td>male</td>\n",
       "      <td>35.0</td>\n",
       "      <td>0</td>\n",
       "      <td>0</td>\n",
       "      <td>373450</td>\n",
       "      <td>8.0500</td>\n",
       "      <td>NaN</td>\n",
       "      <td>S</td>\n",
       "    </tr>\n",
       "  </tbody>\n",
       "</table>\n",
       "</div>"
      ],
      "text/plain": [
       "   PassengerId  Survived  Pclass  \\\n",
       "0            1         0       3   \n",
       "1            2         1       1   \n",
       "2            3         1       3   \n",
       "3            4         1       1   \n",
       "4            5         0       3   \n",
       "\n",
       "                                                Name     Sex   Age  SibSp  \\\n",
       "0                            Braund, Mr. Owen Harris    male  22.0      1   \n",
       "1  Cumings, Mrs. John Bradley (Florence Briggs Th...  female  38.0      1   \n",
       "2                             Heikkinen, Miss. Laina  female  26.0      0   \n",
       "3       Futrelle, Mrs. Jacques Heath (Lily May Peel)  female  35.0      1   \n",
       "4                           Allen, Mr. William Henry    male  35.0      0   \n",
       "\n",
       "   Parch            Ticket     Fare Cabin Embarked  \n",
       "0      0         A/5 21171   7.2500   NaN        S  \n",
       "1      0          PC 17599  71.2833   C85        C  \n",
       "2      0  STON/O2. 3101282   7.9250   NaN        S  \n",
       "3      0            113803  53.1000  C123        S  \n",
       "4      0            373450   8.0500   NaN        S  "
      ]
     },
     "execution_count": 3,
     "metadata": {},
     "output_type": "execute_result"
    }
   ],
   "source": [
    "titanic_df.head()"
   ]
  },
  {
   "cell_type": "code",
   "execution_count": 4,
   "metadata": {},
   "outputs": [
    {
     "data": {
      "text/plain": [
       "0.38383838383838381"
      ]
     },
     "execution_count": 4,
     "metadata": {},
     "output_type": "execute_result"
    }
   ],
   "source": [
    "#Baseline Mean\n",
    "titanic_df['Survived'].mean()"
   ]
  },
  {
   "cell_type": "code",
   "execution_count": 5,
   "metadata": {},
   "outputs": [
    {
     "data": {
      "text/html": [
       "<div>\n",
       "<style>\n",
       "    .dataframe thead tr:only-child th {\n",
       "        text-align: right;\n",
       "    }\n",
       "\n",
       "    .dataframe thead th {\n",
       "        text-align: left;\n",
       "    }\n",
       "\n",
       "    .dataframe tbody tr th {\n",
       "        vertical-align: top;\n",
       "    }\n",
       "</style>\n",
       "<table border=\"1\" class=\"dataframe\">\n",
       "  <thead>\n",
       "    <tr style=\"text-align: right;\">\n",
       "      <th></th>\n",
       "      <th></th>\n",
       "      <th>Survived</th>\n",
       "      <th>Age</th>\n",
       "      <th>Fare</th>\n",
       "      <th>Parch</th>\n",
       "      <th>SibSp</th>\n",
       "    </tr>\n",
       "    <tr>\n",
       "      <th>Pclass</th>\n",
       "      <th>Sex</th>\n",
       "      <th></th>\n",
       "      <th></th>\n",
       "      <th></th>\n",
       "      <th></th>\n",
       "      <th></th>\n",
       "    </tr>\n",
       "  </thead>\n",
       "  <tbody>\n",
       "    <tr>\n",
       "      <th rowspan=\"2\" valign=\"top\">1</th>\n",
       "      <th>female</th>\n",
       "      <td>0.968085</td>\n",
       "      <td>34.611765</td>\n",
       "      <td>106.125798</td>\n",
       "      <td>0.457447</td>\n",
       "      <td>0.553191</td>\n",
       "    </tr>\n",
       "    <tr>\n",
       "      <th>male</th>\n",
       "      <td>0.368852</td>\n",
       "      <td>41.281386</td>\n",
       "      <td>67.226127</td>\n",
       "      <td>0.278689</td>\n",
       "      <td>0.311475</td>\n",
       "    </tr>\n",
       "    <tr>\n",
       "      <th rowspan=\"2\" valign=\"top\">2</th>\n",
       "      <th>female</th>\n",
       "      <td>0.921053</td>\n",
       "      <td>28.722973</td>\n",
       "      <td>21.970121</td>\n",
       "      <td>0.605263</td>\n",
       "      <td>0.486842</td>\n",
       "    </tr>\n",
       "    <tr>\n",
       "      <th>male</th>\n",
       "      <td>0.157407</td>\n",
       "      <td>30.740707</td>\n",
       "      <td>19.741782</td>\n",
       "      <td>0.222222</td>\n",
       "      <td>0.342593</td>\n",
       "    </tr>\n",
       "    <tr>\n",
       "      <th rowspan=\"2\" valign=\"top\">3</th>\n",
       "      <th>female</th>\n",
       "      <td>0.500000</td>\n",
       "      <td>21.750000</td>\n",
       "      <td>16.118810</td>\n",
       "      <td>0.798611</td>\n",
       "      <td>0.895833</td>\n",
       "    </tr>\n",
       "    <tr>\n",
       "      <th>male</th>\n",
       "      <td>0.135447</td>\n",
       "      <td>26.507589</td>\n",
       "      <td>12.661633</td>\n",
       "      <td>0.224784</td>\n",
       "      <td>0.498559</td>\n",
       "    </tr>\n",
       "  </tbody>\n",
       "</table>\n",
       "</div>"
      ],
      "text/plain": [
       "               Survived        Age        Fare     Parch     SibSp\n",
       "Pclass Sex                                                        \n",
       "1      female  0.968085  34.611765  106.125798  0.457447  0.553191\n",
       "       male    0.368852  41.281386   67.226127  0.278689  0.311475\n",
       "2      female  0.921053  28.722973   21.970121  0.605263  0.486842\n",
       "       male    0.157407  30.740707   19.741782  0.222222  0.342593\n",
       "3      female  0.500000  21.750000   16.118810  0.798611  0.895833\n",
       "       male    0.135447  26.507589   12.661633  0.224784  0.498559"
      ]
     },
     "execution_count": 5,
     "metadata": {},
     "output_type": "execute_result"
    }
   ],
   "source": [
    "titanic_df[['Survived','Age','Fare','Parch','SibSp','Pclass','Sex']].groupby(['Pclass','Sex']).mean()"
   ]
  },
  {
   "cell_type": "code",
   "execution_count": 6,
   "metadata": {},
   "outputs": [
    {
     "data": {
      "text/plain": [
       "<matplotlib.axes._subplots.AxesSubplot at 0x108e52e80>"
      ]
     },
     "execution_count": 6,
     "metadata": {},
     "output_type": "execute_result"
    },
    {
     "data": {
      "image/png": "[encoded data removed]",
      "text/plain": [
       "<matplotlib.figure.Figure at 0x108e51518>"
      ]
     },
     "metadata": {},
     "output_type": "display_data"
    }
   ],
   "source": [
    "class_sex_grouping = titanic_df.groupby(['Pclass','Sex']).mean()\n",
    "sns.barplot(x=\"Pclass\",\n",
    "            y=\"Survived\",\n",
    "            hue ='Sex',\n",
    "            data=class_sex_grouping.reset_index())"
   ]
  },
  {
   "cell_type": "code",
   "execution_count": 7,
   "metadata": {
    "scrolled": true
   },
   "outputs": [
    {
     "name": "stderr",
     "output_type": "stream",
     "text": [
      "/usr/local/lib/python3.6/site-packages/ipykernel_launcher.py:2: SettingWithCopyWarning: \n",
      "A value is trying to be set on a copy of a slice from a DataFrame.\n",
      "Try using .loc[row_indexer,col_indexer] = value instead\n",
      "\n",
      "See the caveats in the documentation: http://pandas.pydata.org/pandas-docs/stable/indexing.html#indexing-view-versus-copy\n",
      "  \n"
     ]
    },
    {
     "data": {
      "text/plain": [
       "<matplotlib.axes._subplots.AxesSubplot at 0x108e51390>"
      ]
     },
     "execution_count": 7,
     "metadata": {},
     "output_type": "execute_result"
    },
    {
     "data": {
      "image/png": "[encoded data removed]",
      "text/plain": [
       "<matplotlib.figure.Figure at 0x108e8f7b8>"
      ]
     },
     "metadata": {},
     "output_type": "display_data"
    }
   ],
   "source": [
    "family_size = titanic_df[['Survived','Parch','SibSp']]\n",
    "family_size['family_size'] = family_size['Parch']+family_size['SibSp'] +1\n",
    "sns.barplot(x='family_size',y='Survived',data=family_size)"
   ]
  },
  {
   "cell_type": "code",
   "execution_count": 8,
   "metadata": {},
   "outputs": [
    {
     "data": {
      "text/plain": [
       "<matplotlib.axes._subplots.AxesSubplot at 0x1091c4eb8>"
      ]
     },
     "execution_count": 8,
     "metadata": {},
     "output_type": "execute_result"
    },
    {
     "data": {
      "image/png": "[encoded data removed]",
      "text/plain": [
       "<matplotlib.figure.Figure at 0x108e59518>"
      ]
     },
     "metadata": {},
     "output_type": "display_data"
    },
    {
     "data": {
      "image/png": "[encoded data removed]",
      "text/plain": [
       "<matplotlib.figure.Figure at 0x108ea9710>"
      ]
     },
     "metadata": {},
     "output_type": "display_data"
    }
   ],
   "source": [
    "#Density by age\n",
    "ages = sns.FacetGrid(titanic_df, hue='Survived', aspect = 4)\n",
    "ages.map(sns.kdeplot, 'Age', shade = True)\n",
    "ages.set(xlim=(0,titanic_df['Age'].max()))\n",
    "ages.add_legend()\n",
    "#Age and Survival Rate\n",
    "fig, axis1 = plt.subplots(1,1,figsize=(18,4))\n",
    "average_age = titanic_df[['Age','Survived']].groupby(['Age'], as_index=False).mean()\n",
    "sns.barplot(x='Age',y='Survived', data=average_age)"
   ]
  },
  {
   "cell_type": "code",
   "execution_count": 9,
   "metadata": {},
   "outputs": [
    {
     "data": {
      "text/plain": [
       "PassengerId    891\n",
       "Survived       891\n",
       "Pclass         891\n",
       "Name           891\n",
       "Sex            891\n",
       "Age            714\n",
       "SibSp          891\n",
       "Parch          891\n",
       "Ticket         891\n",
       "Fare           891\n",
       "Cabin          204\n",
       "Embarked       889\n",
       "dtype: int64"
      ]
     },
     "execution_count": 9,
     "metadata": {},
     "output_type": "execute_result"
    }
   ],
   "source": [
    "titanic_df.count()"
   ]
  },
  {
   "cell_type": "code",
   "execution_count": 10,
   "metadata": {},
   "outputs": [
    {
     "data": {
      "text/plain": [
       "array(['S', 'C', 'Q'], dtype=object)"
      ]
     },
     "execution_count": 10,
     "metadata": {},
     "output_type": "execute_result"
    },
    {
     "data": {
      "image/png": "[encoded data removed]",
      "text/plain": [
       "<matplotlib.figure.Figure at 0x108e88320>"
      ]
     },
     "metadata": {},
     "output_type": "display_data"
    }
   ],
   "source": [
    "sns.barplot(x='Embarked',y='Survived',data=titanic_df)\n",
    "titanic_df['Embarked'].fillna(value='C',inplace=True)\n",
    "titanic_df['Embarked'].unique()"
   ]
  },
  {
   "cell_type": "code",
   "execution_count": 11,
   "metadata": {},
   "outputs": [
    {
     "data": {
      "text/plain": [
       "<matplotlib.axes._subplots.AxesSubplot at 0x1099490f0>"
      ]
     },
     "execution_count": 11,
     "metadata": {},
     "output_type": "execute_result"
    },
    {
     "data": {
      "image/png": "[encoded data removed]",
      "text/plain": [
       "<matplotlib.figure.Figure at 0x108e5bb00>"
      ]
     },
     "metadata": {},
     "output_type": "display_data"
    }
   ],
   "source": [
    "sns.countplot(x='Embarked',data=titanic_df)"
   ]
  },
  {
   "cell_type": "code",
   "execution_count": 12,
   "metadata": {},
   "outputs": [],
   "source": [
    "# Create a function to preprocess the data\n",
    "# Use label encoder to convert string data to integers\n",
    "# Drop non-categorical data that would be difficult to encode\n",
    "#def preprocess_titanic_df(df):\n",
    "def process_df(titanic_df):\n",
    "    processed_df = titanic_df.copy()\n",
    "      #Encode Sex\n",
    "    le = LabelEncoder()\n",
    "    processed_df['Sex'] = le.fit_transform(processed_df['Sex'])\n",
    "    \n",
    "    #Take Cabin letters for deck and fill NAs\n",
    "    processed_df['Cabin'] = pd.Series([cabin[0] if not pd.isnull(cabin) else 'X' for cabin in processed_df['Cabin'] ])\n",
    "    cabin_dummies = pd.get_dummies(processed_df['Cabin'],prefix='Cabin')\n",
    "    processed_df = pd.concat([processed_df,cabin_dummies],axis=1)\n",
    "    processed_df.drop(['Cabin'],axis=1,inplace=True)\n",
    "    \n",
    "    #Take letters from ticket info\n",
    "    Ticket = []\n",
    "    for i in list(processed_df.Ticket):\n",
    "        if not i.isdigit() :\n",
    "            Ticket.append(i.replace(\".\",\"\").replace(\"/\",\"\").strip().split(' ')[0]) #Take prefix\n",
    "        else:\n",
    "            Ticket.append('X')\n",
    "    processed_df['Ticket'] = Ticket\n",
    "    ticket_dummies = pd.get_dummies(processed_df['Ticket'],prefix='Ticket')\n",
    "    processed_df = pd.concat([processed_df,ticket_dummies],axis=1)\n",
    "    processed_df.drop(['Ticket'],axis=1,inplace=True)\n",
    "            \n",
    "    #Fill Embarked missing data and encode                                \n",
    "    processed_df['Embarked'].fillna('S',inplace=True)\n",
    "    embarked_dummies = pd.get_dummies(processed_df['Embarked'],prefix='Embarked')\n",
    "    processed_df = pd.concat([processed_df,embarked_dummies],axis=1)\n",
    "    processed_df.drop(['Embarked'],axis=1,inplace=True)\n",
    "\n",
    "    #Put ages into bins\n",
    "\n",
    "    processed_df['child'] = processed_df['Age'].map(lambda x: 1 if x < 17 else 0)\n",
    "    processed_df['adult'] = processed_df['Age'].map(lambda x: 1 if 16 < x < 45 else 0)\n",
    "    processed_df['elder'] = processed_df['Age'].map(lambda x: 1 if x > 44 else 0)\n",
    "    \n",
    "    # Create dummy variables for Pclass\n",
    "    pclass_dummies_titanic = pd.get_dummies(processed_df['Pclass'],prefix='PClass')\n",
    "    processed_df = pd.concat([processed_df,pclass_dummies_titanic],axis=1)\n",
    "\n",
    "    # Small, Medium, Or Large Family\n",
    "    processed_df['family_size'] = processed_df['SibSp'] + processed_df['Parch'] + 1\n",
    "    processed_df['single'] = processed_df['family_size'].map(lambda s: 1 if s==1 else 0)\n",
    "    processed_df['smallF'] = processed_df['family_size'].map(lambda s: 1 if s < 5 else 0)\n",
    "    processed_df['medF'] = processed_df['family_size'].map(lambda s: 1 if 3 <= s <= 4 else 0)\n",
    "    processed_df['largeF']= processed_df['family_size'].map(lambda s: 1 if s > 4 else 0)\n",
    "    processed_df['family_size'] = processed_df['family_size'].map(int)\n",
    "\n",
    "    # Create titles from names\n",
    "    name_title = processed_df['Name'].map(lambda x: re.compile(\", (.*?)\\.\").findall(x)[0])\n",
    "    processed_df['title'] = name_title\n",
    "    \n",
    "    return processed_df\n",
    "\n",
    "processed_df = process_df(titanic_df)\n"
   ]
  },
  {
   "cell_type": "code",
   "execution_count": 13,
   "metadata": {},
   "outputs": [
    {
     "data": {
      "text/plain": [
       "PassengerId       891\n",
       "Survived          891\n",
       "Pclass            891\n",
       "Name              891\n",
       "Sex               891\n",
       "Age               891\n",
       "SibSp             891\n",
       "Parch             891\n",
       "Fare              891\n",
       "Cabin_A           891\n",
       "Cabin_B           891\n",
       "Cabin_C           891\n",
       "Cabin_D           891\n",
       "Cabin_E           891\n",
       "Cabin_F           891\n",
       "Cabin_G           891\n",
       "Cabin_T           891\n",
       "Cabin_X           891\n",
       "Ticket_A4         891\n",
       "Ticket_A5         891\n",
       "Ticket_AS         891\n",
       "Ticket_C          891\n",
       "Ticket_CA         891\n",
       "Ticket_CASOTON    891\n",
       "Ticket_FC         891\n",
       "Ticket_FCC        891\n",
       "Ticket_Fa         891\n",
       "Ticket_LINE       891\n",
       "Ticket_PC         891\n",
       "Ticket_PP         891\n",
       "                 ... \n",
       "Ticket_SCOW       891\n",
       "Ticket_SCPARIS    891\n",
       "Ticket_SCParis    891\n",
       "Ticket_SOC        891\n",
       "Ticket_SOP        891\n",
       "Ticket_SOPP       891\n",
       "Ticket_SOTONO2    891\n",
       "Ticket_SOTONOQ    891\n",
       "Ticket_SP         891\n",
       "Ticket_STONO      891\n",
       "Ticket_STONO2     891\n",
       "Ticket_SWPP       891\n",
       "Ticket_WC         891\n",
       "Ticket_WEP        891\n",
       "Ticket_X          891\n",
       "Embarked_C        891\n",
       "Embarked_Q        891\n",
       "Embarked_S        891\n",
       "child             891\n",
       "adult             891\n",
       "elder             891\n",
       "PClass_1          891\n",
       "PClass_2          891\n",
       "PClass_3          891\n",
       "family_size       891\n",
       "single            891\n",
       "smallF            891\n",
       "medF              891\n",
       "largeF            891\n",
       "title             891\n",
       "Length: 64, dtype: int64"
      ]
     },
     "execution_count": 13,
     "metadata": {},
     "output_type": "execute_result"
    }
   ],
   "source": [
    "#Fill in missing ages and fare values\n",
    "def fill_missing(processed_df):\n",
    "    age_title = processed_df[['title','Age']].groupby('title').median()\n",
    "    title_dict = age_title.reset_index().set_index('title')['Age'].to_dict()\n",
    "    processed_df['Age']=processed_df['Age'].fillna(processed_df['title'].map(title_dict))\n",
    "    \n",
    "    fare_class = processed_df[['Pclass','Fare']].groupby('Pclass').median()\n",
    "    fare_dict = fare_class.reset_index().set_index('Pclass')['Fare'].to_dict()\n",
    "    processed_df['Fare']=processed_df['Fare'].fillna(processed_df['Pclass'].map(fare_dict))\n",
    "    \n",
    "    return processed_df\n",
    "processed_df = fill_missing(processed_df)\n",
    "processed_df.count()"
   ]
  },
  {
   "cell_type": "code",
   "execution_count": 14,
   "metadata": {},
   "outputs": [],
   "source": [
    "def separate_titles(processed_df):\n",
    "    lady = ['Lady','the Countess','Dona','Jonkheer','Ms','Mme','Mlle']\n",
    "    sir = ['Don','Capt','Sir','Major','Col']\n",
    "    middle = ['Dr','Rev']\n",
    "    women = ['Mrs','Miss']\n",
    "    master = ['Master']\n",
    "\n",
    "    processed_df['title']=processed_df['title'].replace(lady,'lady')\n",
    "    processed_df['title']=processed_df['title'].replace(sir,'sir')\n",
    "    processed_df['title']=processed_df['title'].replace(middle,'middle_title')\n",
    "    processed_df['title']=processed_df['title'].replace(women,'women')\n",
    "    processed_df['title']=processed_df['title'].replace(master,'master')\n",
    "    title_dummies = pd.get_dummies(processed_df['title'])\n",
    "    processed_df = pd.concat([processed_df,title_dummies],axis=1)\n",
    "    return processed_df\n",
    "processed_df = separate_titles(processed_df)"
   ]
  },
  {
   "cell_type": "code",
   "execution_count": null,
   "metadata": {},
   "outputs": [],
   "source": []
  },
  {
   "cell_type": "code",
   "execution_count": null,
   "metadata": {},
   "outputs": [],
   "source": [
    "\n"
   ]
  },
  {
   "cell_type": "code",
   "execution_count": 15,
   "metadata": {},
   "outputs": [
    {
     "data": {
      "text/plain": [
       "Index(['PassengerId', 'Survived', 'Pclass', 'Name', 'Sex', 'Age', 'SibSp',\n",
       "       'Parch', 'Fare', 'Cabin_A', 'Cabin_B', 'Cabin_C', 'Cabin_D', 'Cabin_E',\n",
       "       'Cabin_F', 'Cabin_G', 'Cabin_T', 'Cabin_X', 'Ticket_A4', 'Ticket_A5',\n",
       "       'Ticket_AS', 'Ticket_C', 'Ticket_CA', 'Ticket_CASOTON', 'Ticket_FC',\n",
       "       'Ticket_FCC', 'Ticket_Fa', 'Ticket_LINE', 'Ticket_PC', 'Ticket_PP',\n",
       "       'Ticket_PPP', 'Ticket_SC', 'Ticket_SCA4', 'Ticket_SCAH', 'Ticket_SCOW',\n",
       "       'Ticket_SCPARIS', 'Ticket_SCParis', 'Ticket_SOC', 'Ticket_SOP',\n",
       "       'Ticket_SOPP', 'Ticket_SOTONO2', 'Ticket_SOTONOQ', 'Ticket_SP',\n",
       "       'Ticket_STONO', 'Ticket_STONO2', 'Ticket_SWPP', 'Ticket_WC',\n",
       "       'Ticket_WEP', 'Ticket_X', 'Embarked_C', 'Embarked_Q', 'Embarked_S',\n",
       "       'child', 'adult', 'elder', 'PClass_1', 'PClass_2', 'PClass_3',\n",
       "       'family_size', 'single', 'smallF', 'medF', 'largeF', 'title', 'Mr',\n",
       "       'lady', 'master', 'middle_title', 'sir', 'women'],\n",
       "      dtype='object')"
      ]
     },
     "execution_count": 15,
     "metadata": {},
     "output_type": "execute_result"
    }
   ],
   "source": [
    "processed_df.columns"
   ]
  },
  {
   "cell_type": "code",
   "execution_count": 16,
   "metadata": {},
   "outputs": [
    {
     "data": {
      "text/plain": [
       "count    891.000000\n",
       "mean      32.204208\n",
       "std       49.693429\n",
       "min        0.000000\n",
       "25%        7.910400\n",
       "50%       14.454200\n",
       "75%       31.000000\n",
       "max      512.329200\n",
       "Name: Fare, dtype: float64"
      ]
     },
     "execution_count": 16,
     "metadata": {},
     "output_type": "execute_result"
    }
   ],
   "source": [
    "#sns.distplot(processed_df['fare'])\n",
    "processed_df['Fare'].describe()"
   ]
  },
  {
   "cell_type": "code",
   "execution_count": null,
   "metadata": {},
   "outputs": [],
   "source": []
  },
  {
   "cell_type": "code",
   "execution_count": 17,
   "metadata": {},
   "outputs": [
    {
     "data": {
      "text/plain": [
       "PassengerId       891\n",
       "Survived          891\n",
       "Pclass            891\n",
       "Name              891\n",
       "Sex               891\n",
       "Age               891\n",
       "SibSp             891\n",
       "Parch             891\n",
       "Fare              891\n",
       "Cabin_A           891\n",
       "Cabin_B           891\n",
       "Cabin_C           891\n",
       "Cabin_D           891\n",
       "Cabin_E           891\n",
       "Cabin_F           891\n",
       "Cabin_G           891\n",
       "Cabin_T           891\n",
       "Cabin_X           891\n",
       "Ticket_A4         891\n",
       "Ticket_A5         891\n",
       "Ticket_AS         891\n",
       "Ticket_C          891\n",
       "Ticket_CA         891\n",
       "Ticket_CASOTON    891\n",
       "Ticket_FC         891\n",
       "Ticket_FCC        891\n",
       "Ticket_Fa         891\n",
       "Ticket_LINE       891\n",
       "Ticket_PC         891\n",
       "Ticket_PP         891\n",
       "                 ... \n",
       "Ticket_SOTONO2    891\n",
       "Ticket_SOTONOQ    891\n",
       "Ticket_SP         891\n",
       "Ticket_STONO      891\n",
       "Ticket_STONO2     891\n",
       "Ticket_SWPP       891\n",
       "Ticket_WC         891\n",
       "Ticket_WEP        891\n",
       "Ticket_X          891\n",
       "Embarked_C        891\n",
       "Embarked_Q        891\n",
       "Embarked_S        891\n",
       "child             891\n",
       "adult             891\n",
       "elder             891\n",
       "PClass_1          891\n",
       "PClass_2          891\n",
       "PClass_3          891\n",
       "family_size       891\n",
       "single            891\n",
       "smallF            891\n",
       "medF              891\n",
       "largeF            891\n",
       "title             891\n",
       "Mr                891\n",
       "lady              891\n",
       "master            891\n",
       "middle_title      891\n",
       "sir               891\n",
       "women             891\n",
       "Length: 70, dtype: int64"
      ]
     },
     "execution_count": 17,
     "metadata": {},
     "output_type": "execute_result"
    }
   ],
   "source": [
    "processed_df.count()"
   ]
  },
  {
   "cell_type": "code",
   "execution_count": 18,
   "metadata": {},
   "outputs": [
    {
     "data": {
      "text/html": [
       "<div>\n",
       "<style>\n",
       "    .dataframe thead tr:only-child th {\n",
       "        text-align: right;\n",
       "    }\n",
       "\n",
       "    .dataframe thead th {\n",
       "        text-align: left;\n",
       "    }\n",
       "\n",
       "    .dataframe tbody tr th {\n",
       "        vertical-align: top;\n",
       "    }\n",
       "</style>\n",
       "<table border=\"1\" class=\"dataframe\">\n",
       "  <thead>\n",
       "    <tr style=\"text-align: right;\">\n",
       "      <th></th>\n",
       "      <th>PassengerId</th>\n",
       "      <th>Survived</th>\n",
       "      <th>Sex</th>\n",
       "      <th>Fare</th>\n",
       "      <th>Cabin_A</th>\n",
       "      <th>Cabin_B</th>\n",
       "      <th>Cabin_C</th>\n",
       "      <th>Cabin_D</th>\n",
       "      <th>Cabin_E</th>\n",
       "      <th>Cabin_F</th>\n",
       "      <th>...</th>\n",
       "      <th>single</th>\n",
       "      <th>smallF</th>\n",
       "      <th>medF</th>\n",
       "      <th>largeF</th>\n",
       "      <th>Mr</th>\n",
       "      <th>lady</th>\n",
       "      <th>master</th>\n",
       "      <th>middle_title</th>\n",
       "      <th>sir</th>\n",
       "      <th>women</th>\n",
       "    </tr>\n",
       "  </thead>\n",
       "  <tbody>\n",
       "    <tr>\n",
       "      <th>0</th>\n",
       "      <td>1</td>\n",
       "      <td>0</td>\n",
       "      <td>1</td>\n",
       "      <td>7.2500</td>\n",
       "      <td>0</td>\n",
       "      <td>0</td>\n",
       "      <td>0</td>\n",
       "      <td>0</td>\n",
       "      <td>0</td>\n",
       "      <td>0</td>\n",
       "      <td>...</td>\n",
       "      <td>0</td>\n",
       "      <td>1</td>\n",
       "      <td>0</td>\n",
       "      <td>0</td>\n",
       "      <td>1</td>\n",
       "      <td>0</td>\n",
       "      <td>0</td>\n",
       "      <td>0</td>\n",
       "      <td>0</td>\n",
       "      <td>0</td>\n",
       "    </tr>\n",
       "    <tr>\n",
       "      <th>1</th>\n",
       "      <td>2</td>\n",
       "      <td>1</td>\n",
       "      <td>0</td>\n",
       "      <td>71.2833</td>\n",
       "      <td>0</td>\n",
       "      <td>0</td>\n",
       "      <td>1</td>\n",
       "      <td>0</td>\n",
       "      <td>0</td>\n",
       "      <td>0</td>\n",
       "      <td>...</td>\n",
       "      <td>0</td>\n",
       "      <td>1</td>\n",
       "      <td>0</td>\n",
       "      <td>0</td>\n",
       "      <td>0</td>\n",
       "      <td>0</td>\n",
       "      <td>0</td>\n",
       "      <td>0</td>\n",
       "      <td>0</td>\n",
       "      <td>1</td>\n",
       "    </tr>\n",
       "    <tr>\n",
       "      <th>2</th>\n",
       "      <td>3</td>\n",
       "      <td>1</td>\n",
       "      <td>0</td>\n",
       "      <td>7.9250</td>\n",
       "      <td>0</td>\n",
       "      <td>0</td>\n",
       "      <td>0</td>\n",
       "      <td>0</td>\n",
       "      <td>0</td>\n",
       "      <td>0</td>\n",
       "      <td>...</td>\n",
       "      <td>1</td>\n",
       "      <td>1</td>\n",
       "      <td>0</td>\n",
       "      <td>0</td>\n",
       "      <td>0</td>\n",
       "      <td>0</td>\n",
       "      <td>0</td>\n",
       "      <td>0</td>\n",
       "      <td>0</td>\n",
       "      <td>1</td>\n",
       "    </tr>\n",
       "    <tr>\n",
       "      <th>3</th>\n",
       "      <td>4</td>\n",
       "      <td>1</td>\n",
       "      <td>0</td>\n",
       "      <td>53.1000</td>\n",
       "      <td>0</td>\n",
       "      <td>0</td>\n",
       "      <td>1</td>\n",
       "      <td>0</td>\n",
       "      <td>0</td>\n",
       "      <td>0</td>\n",
       "      <td>...</td>\n",
       "      <td>0</td>\n",
       "      <td>1</td>\n",
       "      <td>0</td>\n",
       "      <td>0</td>\n",
       "      <td>0</td>\n",
       "      <td>0</td>\n",
       "      <td>0</td>\n",
       "      <td>0</td>\n",
       "      <td>0</td>\n",
       "      <td>1</td>\n",
       "    </tr>\n",
       "    <tr>\n",
       "      <th>4</th>\n",
       "      <td>5</td>\n",
       "      <td>0</td>\n",
       "      <td>1</td>\n",
       "      <td>8.0500</td>\n",
       "      <td>0</td>\n",
       "      <td>0</td>\n",
       "      <td>0</td>\n",
       "      <td>0</td>\n",
       "      <td>0</td>\n",
       "      <td>0</td>\n",
       "      <td>...</td>\n",
       "      <td>1</td>\n",
       "      <td>1</td>\n",
       "      <td>0</td>\n",
       "      <td>0</td>\n",
       "      <td>1</td>\n",
       "      <td>0</td>\n",
       "      <td>0</td>\n",
       "      <td>0</td>\n",
       "      <td>0</td>\n",
       "      <td>0</td>\n",
       "    </tr>\n",
       "  </tbody>\n",
       "</table>\n",
       "<p>5 rows × 63 columns</p>\n",
       "</div>"
      ],
      "text/plain": [
       "   PassengerId  Survived  Sex     Fare  Cabin_A  Cabin_B  Cabin_C  Cabin_D  \\\n",
       "0            1         0    1   7.2500        0        0        0        0   \n",
       "1            2         1    0  71.2833        0        0        1        0   \n",
       "2            3         1    0   7.9250        0        0        0        0   \n",
       "3            4         1    0  53.1000        0        0        1        0   \n",
       "4            5         0    1   8.0500        0        0        0        0   \n",
       "\n",
       "   Cabin_E  Cabin_F  ...    single  smallF  medF  largeF  Mr  lady  master  \\\n",
       "0        0        0  ...         0       1     0       0   1     0       0   \n",
       "1        0        0  ...         0       1     0       0   0     0       0   \n",
       "2        0        0  ...         1       1     0       0   0     0       0   \n",
       "3        0        0  ...         0       1     0       0   0     0       0   \n",
       "4        0        0  ...         1       1     0       0   1     0       0   \n",
       "\n",
       "   middle_title  sir  women  \n",
       "0             0    0      0  \n",
       "1             0    0      1  \n",
       "2             0    0      1  \n",
       "3             0    0      1  \n",
       "4             0    0      0  \n",
       "\n",
       "[5 rows x 63 columns]"
      ]
     },
     "execution_count": 18,
     "metadata": {},
     "output_type": "execute_result"
    }
   ],
   "source": [
    "# drop extra columns\n",
    "def drop_extra(processed_df):\n",
    "    processed_df.drop(['SibSp',\n",
    "                       'Parch',\n",
    "                       'Age',\n",
    "                       'Name',\n",
    "                       'title',\n",
    "                       'family_size',\n",
    "                       'Pclass'\n",
    "                   ], axis=1,inplace=True)\n",
    "    return processed_df\n",
    "processed_df=drop_extra(processed_df)\n",
    "processed_df.head()"
   ]
  },
  {
   "cell_type": "code",
   "execution_count": 19,
   "metadata": {},
   "outputs": [
    {
     "data": {
      "text/plain": [
       "<matplotlib.axes._subplots.AxesSubplot at 0x108e9ea20>"
      ]
     },
     "execution_count": 19,
     "metadata": {},
     "output_type": "execute_result"
    },
    {
     "data": {
      "image/png": "[encoded data removed]",
      "text/plain": [
       "<matplotlib.figure.Figure at 0x1039bcbe0>"
      ]
     },
     "metadata": {},
     "output_type": "display_data"
    }
   ],
   "source": [
    "#Generate a correlation matrix between features\n",
    "x_corr = processed_df.corr()\n",
    "mask = np.zeros_like(x_corr, dtype=np.bool)\n",
    "mask[np.triu_indices_from(mask)] = True\n",
    "f, ax = plt.subplots(figsize=(11, 9))\n",
    "cmap = sns.diverging_palette(220, 10, as_cmap=True)\n",
    "sns.heatmap(x_corr, mask=mask, vmax=.5, cmap=cmap, center=0,\n",
    "            square=True, linewidths=.5, cbar_kws={\"shrink\": .5})"
   ]
  },
  {
   "cell_type": "code",
   "execution_count": 20,
   "metadata": {},
   "outputs": [],
   "source": [
    "# Set X and Y values\n",
    "X_full = processed_df.drop(['Survived','PassengerId'], axis = 1).values\n",
    "y = processed_df['Survived']"
   ]
  },
  {
   "cell_type": "code",
   "execution_count": 21,
   "metadata": {},
   "outputs": [
    {
     "data": {
      "text/html": [
       "<div>\n",
       "<style>\n",
       "    .dataframe thead tr:only-child th {\n",
       "        text-align: right;\n",
       "    }\n",
       "\n",
       "    .dataframe thead th {\n",
       "        text-align: left;\n",
       "    }\n",
       "\n",
       "    .dataframe tbody tr th {\n",
       "        vertical-align: top;\n",
       "    }\n",
       "</style>\n",
       "<table border=\"1\" class=\"dataframe\">\n",
       "  <thead>\n",
       "    <tr style=\"text-align: right;\">\n",
       "      <th></th>\n",
       "      <th>0</th>\n",
       "    </tr>\n",
       "  </thead>\n",
       "  <tbody>\n",
       "    <tr>\n",
       "      <th>0</th>\n",
       "      <td>-24.957542</td>\n",
       "    </tr>\n",
       "    <tr>\n",
       "      <th>1</th>\n",
       "      <td>39.099271</td>\n",
       "    </tr>\n",
       "    <tr>\n",
       "      <th>2</th>\n",
       "      <td>-24.279818</td>\n",
       "    </tr>\n",
       "    <tr>\n",
       "      <th>3</th>\n",
       "      <td>20.909249</td>\n",
       "    </tr>\n",
       "    <tr>\n",
       "      <th>4</th>\n",
       "      <td>-24.161568</td>\n",
       "    </tr>\n",
       "  </tbody>\n",
       "</table>\n",
       "</div>"
      ],
      "text/plain": [
       "           0\n",
       "0 -24.957542\n",
       "1  39.099271\n",
       "2 -24.279818\n",
       "3  20.909249\n",
       "4 -24.161568"
      ]
     },
     "execution_count": 21,
     "metadata": {},
     "output_type": "execute_result"
    }
   ],
   "source": [
    "#Dimensionality Reduction\n",
    "def dim_reduction(X):\n",
    "    pca = PCA(n_components=.9)\n",
    "    X_reduced = pca.fit_transform(X)\n",
    "    df_X_reduced = pd.DataFrame(X_reduced)\n",
    "    return df_X_reduced\n",
    "\n",
    "X = dim_reduction(X_full)\n",
    "X.head()"
   ]
  },
  {
   "cell_type": "code",
   "execution_count": null,
   "metadata": {},
   "outputs": [],
   "source": [
    "# Modeling step Test differents algorithms \n",
    "# Cross validate model with Kfold stratified cross val\n",
    "kfold = KFold(n_splits=10,shuffle=True,random_state=0)\n",
    "\n",
    "random_state = None\n",
    "classifiers = []\n",
    "classifiers.append(SVC(random_state=random_state))\n",
    "classifiers.append(DecisionTreeClassifier(random_state=random_state))\n",
    "classifiers.append(AdaBoostClassifier(DecisionTreeClassifier(random_state=random_state),random_state=random_state,learning_rate=0.1))\n",
    "classifiers.append(RandomForestClassifier(random_state=random_state))\n",
    "classifiers.append(ExtraTreesClassifier(random_state=random_state))\n",
    "classifiers.append(GradientBoostingClassifier(random_state=random_state))\n",
    "classifiers.append(MLPClassifier(random_state=random_state))\n",
    "classifiers.append(KNeighborsClassifier())\n",
    "classifiers.append(LogisticRegression(random_state = random_state))\n",
    "classifiers.append(LinearDiscriminantAnalysis())\n",
    "cv_results = []"
   ]
  },
  {
   "cell_type": "code",
   "execution_count": null,
   "metadata": {},
   "outputs": [
    {
     "name": "stderr",
     "output_type": "stream",
     "text": [
      "[Parallel(n_jobs=2)]: Done  10 out of  10 | elapsed:    0.2s finished\n",
      "[Parallel(n_jobs=2)]: Done  10 out of  10 | elapsed:    0.0s finished\n",
      "[Parallel(n_jobs=2)]: Done  10 out of  10 | elapsed:    1.1s finished\n",
      "[Parallel(n_jobs=2)]: Done  10 out of  10 | elapsed:    0.2s finished\n",
      "[Parallel(n_jobs=2)]: Done  10 out of  10 | elapsed:    0.2s finished\n",
      "[Parallel(n_jobs=2)]: Done  10 out of  10 | elapsed:    0.7s finished\n"
     ]
    }
   ],
   "source": [
    "for classifier in classifiers:\n",
    "    cv_results.append(cross_val_score(classifier, X, y = y, scoring = 'accuracy', cv = kfold, n_jobs=2, verbose =1))\n",
    "\n",
    "cv_means = []\n",
    "cv_std = []\n",
    "for cv_result in cv_results:\n",
    "    cv_means.append(cv_result.mean())\n",
    "    cv_std.append(cv_result.std())"
   ]
  },
  {
   "cell_type": "code",
   "execution_count": null,
   "metadata": {},
   "outputs": [],
   "source": [
    "cv_res = pd.DataFrame(\n",
    "    {\"CrossValMeans\":cv_means,\n",
    "     \"CrossValerrors\": cv_std,\n",
    "     \"Algorithm\":[\"SVC\",\n",
    "                  \"DecisionTree\",\n",
    "                  \"AdaBoost\",\n",
    "                  \"RandomForest\",\n",
    "                  \"ExtraTrees\",\n",
    "                  \"GradientBoosting\",\n",
    "                  \"MultipleLayerPerceptron\",\n",
    "                  \"KNeighboors\",\n",
    "                  \"LogisticRegression\",\n",
    "                  \"LinearDiscriminantAnalysis\"]})\n",
    "g = sns.barplot(\"CrossValMeans\",\"Algorithm\",data = cv_res, palette=\"Set3\",orient = \"h\",**{'xerr':cv_std})\n",
    "g.set_xlabel(\"Mean Accuracy\")\n",
    "g = g.set_title(\"Cross validation scores\")"
   ]
  },
  {
   "cell_type": "code",
   "execution_count": null,
   "metadata": {},
   "outputs": [],
   "source": [
    "#clf_dt = tree.DecisionTreeClassifier(max_depth=10)\n",
    "cv_res"
   ]
  },
  {
   "cell_type": "code",
   "execution_count": null,
   "metadata": {},
   "outputs": [],
   "source": [
    "#Optimize top 5 algorithms\n",
    "#SVM\n",
    "#Ada Boost\n",
    "#Gradient Boosting\n",
    "#ExtraTrees\n",
    "#Random Forest\n",
    "\n",
    "\n"
   ]
  },
  {
   "cell_type": "code",
   "execution_count": null,
   "metadata": {},
   "outputs": [],
   "source": [
    "#SVM Optimization\n",
    "SVMC = SVC(probability=True)\n",
    "svc_param_grid = {'kernel': ['rbf'], \n",
    "                  'gamma': [ 0.001, 0.01, 0.1, 1],\n",
    "                  'C': [1, 10, 50, 100,200,300, 1000]}\n",
    "\n",
    "gsSVMC = GridSearchCV(SVMC,param_grid = svc_param_grid, cv=kfold, scoring=\"accuracy\", n_jobs= 2, verbose = 1)\n",
    "\n",
    "gsSVMC.fit(X,y)\n",
    "\n",
    "SVMC_best = gsSVMC.best_estimator_\n",
    "\n",
    "# Best Score\n",
    "gsSVMC.best_score_"
   ]
  },
  {
   "cell_type": "code",
   "execution_count": null,
   "metadata": {},
   "outputs": [],
   "source": [
    "DTC = DecisionTreeClassifier()\n",
    "\n",
    "adaDTC = AdaBoostClassifier(DTC, random_state=7)\n",
    "\n",
    "ada_param_grid = {\"base_estimator__criterion\" : [\"gini\", \"entropy\"],\n",
    "              \"base_estimator__splitter\" :   [\"best\", \"random\"],\n",
    "              \"algorithm\" : [\"SAMME\",\"SAMME.R\"],\n",
    "              \"n_estimators\" :[1,2],\n",
    "              \"learning_rate\":  [0.0001, 0.001, 0.01, 0.1, 0.2, 0.3,1.5]}\n",
    "\n",
    "gsadaDTC = GridSearchCV(adaDTC,param_grid = ada_param_grid, cv=kfold, scoring=\"accuracy\", n_jobs= 2, verbose = 1)\n",
    "\n",
    "gsadaDTC.fit(X,y)\n",
    "\n",
    "ada_best = gsadaDTC.best_estimator_\n",
    "# Best Score\n",
    "gsadaDTC.best_score_"
   ]
  },
  {
   "cell_type": "code",
   "execution_count": null,
   "metadata": {},
   "outputs": [],
   "source": [
    "#Gradient Boosting Optimization\n",
    "\n",
    "GBC = GradientBoostingClassifier()\n",
    "gb_param_grid = {'loss' : [\"deviance\"],\n",
    "              'n_estimators' : [100,200,300],\n",
    "              'learning_rate': [0.1, 0.05, 0.01],\n",
    "              'max_depth': [4, 6, 8],\n",
    "              #'min_samples_leaf': [100,150],\n",
    "              'max_features': ['auto','log2',None] \n",
    "              }\n",
    "\n",
    "gsGBC = GridSearchCV(GBC,param_grid = gb_param_grid, cv=kfold, scoring=\"accuracy\", n_jobs= 2, verbose = 1)\n",
    "\n",
    "gsGBC.fit(X,y)\n",
    "\n",
    "GBC_best = gsGBC.best_estimator_\n",
    "\n",
    "# Best score\n",
    "gsGBC.best_score_"
   ]
  },
  {
   "cell_type": "code",
   "execution_count": null,
   "metadata": {},
   "outputs": [],
   "source": [
    "#ExtraTrees\n",
    "\n",
    "#ExtraTrees \n",
    "ExtC = ExtraTreesClassifier()\n",
    "\n",
    "\n",
    "## Search grid for optimal parameters\n",
    "ex_param_grid = {\"max_depth\": [4,6,8],\n",
    "              \"max_features\": ['sqrt','auto','log2'],\n",
    "              \"min_samples_split\": [1.0, 3, 9],\n",
    "              \"min_samples_leaf\": [1, 3, 9],\n",
    "              \"bootstrap\": [False],\n",
    "              \"n_estimators\" :[100,300],\n",
    "              \"criterion\": [\"gini\"]}\n",
    "\n",
    "\n",
    "gsExtC = GridSearchCV(ExtC,param_grid = ex_param_grid, cv=kfold, scoring=\"accuracy\", n_jobs= 2, verbose = 1)\n",
    "\n",
    "gsExtC.fit(X,y)\n",
    "\n",
    "ExtC_best = gsExtC.best_estimator_\n",
    "\n",
    "# Best score\n",
    "gsExtC.best_score_"
   ]
  },
  {
   "cell_type": "code",
   "execution_count": null,
   "metadata": {},
   "outputs": [],
   "source": [
    "#Random Forest Optimization\n",
    "clf_rf = RandomForestClassifier()\n",
    "rf_param_grid = {'max_depth': [4,6,8],\n",
    "                'max_features':['sqrt','auto','log2'],\n",
    "                'min_samples_split': [1.0,3,9],\n",
    "                'min_samples_leaf': [1,3,9],\n",
    "                'bootstrap': [True,False],\n",
    "                'n_estimators': [50,100,300],\n",
    "                'criterion': ['gini']}\n",
    "gsRFC = GridSearchCV(clf_rf, param_grid = rf_param_grid, cv=kfold, scoring='accuracy', n_jobs= 2, verbose = 1)\n",
    "gsRFC.fit(X,y)\n",
    "RFC_best = gsRFC.best_estimator_\n",
    "gsRFC.best_score_"
   ]
  },
  {
   "cell_type": "code",
   "execution_count": null,
   "metadata": {
    "scrolled": false
   },
   "outputs": [],
   "source": [
    "votingC = VotingClassifier(estimators=[('rfc', RFC_best),\n",
    "                                       ('gbc',GBC_best),\n",
    "                                       ('svm',SVMC_best),\n",
    "                                       ('ada',ada_best),\n",
    "                                       ('xtc',ExtC_best)], \n",
    "                                            voting='soft')"
   ]
  },
  {
   "cell_type": "code",
   "execution_count": null,
   "metadata": {},
   "outputs": [],
   "source": [
    "final_score = cross_val_score(votingC, X, y = y, \n",
    "                              scoring = 'accuracy', \n",
    "                              cv = kfold, \n",
    "                              verbose =1)\n",
    "votingC.fit(X,y)"
   ]
  },
  {
   "cell_type": "code",
   "execution_count": null,
   "metadata": {},
   "outputs": [],
   "source": [
    "print(final_score.mean())"
   ]
  },
  {
   "cell_type": "code",
   "execution_count": null,
   "metadata": {},
   "outputs": [],
   "source": [
    "test = pd.read_csv('test.csv', delimiter=',',engine='python',na_values=['NA'],index_col=None,)\n",
    "IDtest = pd.Series(test['PassengerId'])\n",
    "test = process_df(test)\n",
    "test = fill_missing(test)\n",
    "test = separate_titles(test)\n",
    "#test = norm_fare(test)\n",
    "test = drop_extra(test)\n",
    "x_test = test.drop(['PassengerId'],axis=1)\n",
    "x_test = dim_reduction(x_test)\n",
    "x_test.count()"
   ]
  },
  {
   "cell_type": "code",
   "execution_count": null,
   "metadata": {},
   "outputs": [],
   "source": [
    "test_Survived = pd.Series(votingC.predict(x_test),name='Survived')\n",
    "result = pd.concat([IDtest,test_Survived],axis=1)\n",
    "result.to_csv(\"ensemble_python_voting.csv\",index=False)\n",
    "result"
   ]
  },
  {
   "cell_type": "code",
   "execution_count": null,
   "metadata": {},
   "outputs": [],
   "source": []
  },
  {
   "cell_type": "code",
   "execution_count": null,
   "metadata": {},
   "outputs": [],
   "source": []
  }
 ],
 "metadata": {
  "celltoolbar": "Tags",
  "kernelspec": {
   "display_name": "Python 3",
   "language": "python",
   "name": "python3"
  },
  "language_info": {
   "codemirror_mode": {
    "name": "ipython",
    "version": 3
   },
   "file_extension": ".py",
   "mimetype": "text/x-python",
   "name": "python",
   "nbconvert_exporter": "python",
   "pygments_lexer": "ipython3",
   "version": "3.6.2"
  }
 },
 "nbformat": 4,
 "nbformat_minor": 2
}
